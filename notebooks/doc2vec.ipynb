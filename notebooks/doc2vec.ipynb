{
 "cells": [
  {
   "cell_type": "code",
   "execution_count": 1,
   "metadata": {},
   "outputs": [],
   "source": [
    "import random\n",
    "import pandas as pd\n",
    "import numpy as np\n",
    "import gensim\n",
    "import nltk\n",
    "\n",
    "from sklearn.model_selection import train_test_split\n",
    "from nltk.corpus import stopwords"
   ]
  },
  {
   "cell_type": "code",
   "execution_count": 2,
   "metadata": {},
   "outputs": [],
   "source": [
    "df1 = pd.read_csv('../data/dadosposanalise.csv')"
   ]
  },
  {
   "cell_type": "code",
   "execution_count": 3,
   "metadata": {},
   "outputs": [],
   "source": [
    "df2 =  pd.read_csv('../data/pre-processed.csv')"
   ]
  },
  {
   "cell_type": "code",
   "execution_count": 4,
   "metadata": {},
   "outputs": [
    {
     "name": "stderr",
     "output_type": "stream",
     "text": [
      "[nltk_data] Downloading package stopwords to\n",
      "[nltk_data]     C:\\Users\\Alex\\AppData\\Roaming\\nltk_data...\n",
      "[nltk_data]   Package stopwords is already up-to-date!\n"
     ]
    }
   ],
   "source": [
    "nltk.download('stopwords')\n",
    "stop = stopwords.words('portuguese')\n",
    "newStopWords = ['é', 'É']\n",
    "stop.extend(newStopWords)"
   ]
  },
  {
   "cell_type": "code",
   "execution_count": 5,
   "metadata": {},
   "outputs": [
    {
     "data": {
      "text/plain": [
       "0        É  que Tite prestou homenagem em túmulo de Fi...\n",
       "1        É  que esposa do CEO da Pfizer morreu por com...\n",
       "2        É  que Lula foi vaiado em encontro de movimen...\n",
       "3        É  que Lewis Hamilton elogiou Bolsonaro para ...\n",
       "4        É antigo áudio de queda de avião que está sen...\n",
       "                              ...                        \n",
       "9258    Áudio diz que enfermeira morreu após tomar chá...\n",
       "9259    Áudio afirma que pedir nota fiscal em postos f...\n",
       "9260    Putin estica braço em direção a pomba durante ...\n",
       "9261                                          Final feliz\n",
       "9262                     Aprendiz de pedreiro toca violão\n",
       "Name: title, Length: 9263, dtype: object"
      ]
     },
     "execution_count": 5,
     "metadata": {},
     "output_type": "execute_result"
    }
   ],
   "source": [
    "df1['title']"
   ]
  },
  {
   "cell_type": "code",
   "execution_count": 6,
   "metadata": {},
   "outputs": [],
   "source": [
    "df1['title'] = df1['title'].apply(lambda words: ' '.join(word.lower() for word in words.split() if word not in stop))\n",
    "df2['title'] = df2['title'].apply(lambda words: ' '.join(word.lower() for word in words.split() if word not in stop))"
   ]
  },
  {
   "cell_type": "code",
   "execution_count": 7,
   "metadata": {},
   "outputs": [
    {
     "data": {
      "text/plain": [
       "0              tite prestou homenagem túmulo fidel castro\n",
       "1       esposa ceo pfizer morreu complicações vacina c...\n",
       "2                 lula vaiado encontro movimentos sociais\n",
       "3         lewis hamilton elogiou bolsonaro new york times\n",
       "4       antigo áudio queda avião sendo atribuído acide...\n",
       "                              ...                        \n",
       "9258    áudio diz enfermeira morreu após tomar chá hib...\n",
       "9259    áudio afirma pedir nota fiscal postos fará pre...\n",
       "9260    putin estica braço direção pomba durante visit...\n",
       "9261                                          final feliz\n",
       "9262                        aprendiz pedreiro toca violão\n",
       "Name: title, Length: 9263, dtype: object"
      ]
     },
     "execution_count": 7,
     "metadata": {},
     "output_type": "execute_result"
    }
   ],
   "source": [
    "df1['title']"
   ]
  },
  {
   "cell_type": "code",
   "execution_count": 8,
   "metadata": {},
   "outputs": [
    {
     "data": {
      "text/html": [
       "<div>\n",
       "<style scoped>\n",
       "    .dataframe tbody tr th:only-of-type {\n",
       "        vertical-align: middle;\n",
       "    }\n",
       "\n",
       "    .dataframe tbody tr th {\n",
       "        vertical-align: top;\n",
       "    }\n",
       "\n",
       "    .dataframe thead th {\n",
       "        text-align: right;\n",
       "    }\n",
       "</style>\n",
       "<table border=\"1\" class=\"dataframe\">\n",
       "  <thead>\n",
       "    <tr style=\"text-align: right;\">\n",
       "      <th></th>\n",
       "      <th>title</th>\n",
       "      <th>body</th>\n",
       "      <th>label</th>\n",
       "      <th>lide</th>\n",
       "      <th>index</th>\n",
       "    </tr>\n",
       "  </thead>\n",
       "  <tbody>\n",
       "    <tr>\n",
       "      <th>0</th>\n",
       "      <td>tite prestou homenagem túmulo fidel castro</td>\n",
       "      <td>Apesar da semelhança física, foto que circula ...</td>\n",
       "      <td>1</td>\n",
       "      <td>NaN</td>\n",
       "      <td>NaN</td>\n",
       "    </tr>\n",
       "    <tr>\n",
       "      <th>1</th>\n",
       "      <td>esposa ceo pfizer morreu complicações vacina c...</td>\n",
       "      <td>Myriam Bourla esteve em evento em 10 de novemb...</td>\n",
       "      <td>1</td>\n",
       "      <td>NaN</td>\n",
       "      <td>NaN</td>\n",
       "    </tr>\n",
       "    <tr>\n",
       "      <th>2</th>\n",
       "      <td>lula vaiado encontro movimentos sociais</td>\n",
       "      <td>Montagem utiliza áudio de vídeo gravado em 201...</td>\n",
       "      <td>1</td>\n",
       "      <td>NaN</td>\n",
       "      <td>NaN</td>\n",
       "    </tr>\n",
       "    <tr>\n",
       "      <th>3</th>\n",
       "      <td>lewis hamilton elogiou bolsonaro new york times</td>\n",
       "      <td>Automobilista britânico já manifestou apoio ao...</td>\n",
       "      <td>1</td>\n",
       "      <td>NaN</td>\n",
       "      <td>NaN</td>\n",
       "    </tr>\n",
       "    <tr>\n",
       "      <th>4</th>\n",
       "      <td>antigo áudio queda avião sendo atribuído acide...</td>\n",
       "      <td>Registro que circula pelas redes sociais é de ...</td>\n",
       "      <td>1</td>\n",
       "      <td>NaN</td>\n",
       "      <td>NaN</td>\n",
       "    </tr>\n",
       "    <tr>\n",
       "      <th>...</th>\n",
       "      <td>...</td>\n",
       "      <td>...</td>\n",
       "      <td>...</td>\n",
       "      <td>...</td>\n",
       "      <td>...</td>\n",
       "    </tr>\n",
       "    <tr>\n",
       "      <th>7195</th>\n",
       "      <td>jornal britanico acao contra lula lava jato se...</td>\n",
       "      <td>NaN</td>\n",
       "      <td>true</td>\n",
       "      <td>NaN</td>\n",
       "      <td>7195.0</td>\n",
       "    </tr>\n",
       "    <tr>\n",
       "      <th>7196</th>\n",
       "      <td>temer diz acionou pf cade investigar aumentos ...</td>\n",
       "      <td>NaN</td>\n",
       "      <td>true</td>\n",
       "      <td>NaN</td>\n",
       "      <td>7196.0</td>\n",
       "    </tr>\n",
       "    <tr>\n",
       "      <th>7197</th>\n",
       "      <td>obstaculos politicos temer especialistas ouvid...</td>\n",
       "      <td>NaN</td>\n",
       "      <td>true</td>\n",
       "      <td>NaN</td>\n",
       "      <td>7197.0</td>\n",
       "    </tr>\n",
       "    <tr>\n",
       "      <th>7198</th>\n",
       "      <td>setembro boa noite aqui estao principais notic...</td>\n",
       "      <td>NaN</td>\n",
       "      <td>true</td>\n",
       "      <td>NaN</td>\n",
       "      <td>7198.0</td>\n",
       "    </tr>\n",
       "    <tr>\n",
       "      <th>7199</th>\n",
       "      <td>envolvo politica diz brasileiro preso venezuel...</td>\n",
       "      <td>NaN</td>\n",
       "      <td>true</td>\n",
       "      <td>NaN</td>\n",
       "      <td>7199.0</td>\n",
       "    </tr>\n",
       "  </tbody>\n",
       "</table>\n",
       "<p>16463 rows × 5 columns</p>\n",
       "</div>"
      ],
      "text/plain": [
       "                                                  title  \\\n",
       "0            tite prestou homenagem túmulo fidel castro   \n",
       "1     esposa ceo pfizer morreu complicações vacina c...   \n",
       "2               lula vaiado encontro movimentos sociais   \n",
       "3       lewis hamilton elogiou bolsonaro new york times   \n",
       "4     antigo áudio queda avião sendo atribuído acide...   \n",
       "...                                                 ...   \n",
       "7195  jornal britanico acao contra lula lava jato se...   \n",
       "7196  temer diz acionou pf cade investigar aumentos ...   \n",
       "7197  obstaculos politicos temer especialistas ouvid...   \n",
       "7198  setembro boa noite aqui estao principais notic...   \n",
       "7199  envolvo politica diz brasileiro preso venezuel...   \n",
       "\n",
       "                                                   body label  lide   index  \n",
       "0     Apesar da semelhança física, foto que circula ...     1   NaN     NaN  \n",
       "1     Myriam Bourla esteve em evento em 10 de novemb...     1   NaN     NaN  \n",
       "2     Montagem utiliza áudio de vídeo gravado em 201...     1   NaN     NaN  \n",
       "3     Automobilista britânico já manifestou apoio ao...     1   NaN     NaN  \n",
       "4     Registro que circula pelas redes sociais é de ...     1   NaN     NaN  \n",
       "...                                                 ...   ...   ...     ...  \n",
       "7195                                                NaN  true   NaN  7195.0  \n",
       "7196                                                NaN  true   NaN  7196.0  \n",
       "7197                                                NaN  true   NaN  7197.0  \n",
       "7198                                                NaN  true   NaN  7198.0  \n",
       "7199                                                NaN  true   NaN  7199.0  \n",
       "\n",
       "[16463 rows x 5 columns]"
      ]
     },
     "execution_count": 8,
     "metadata": {},
     "output_type": "execute_result"
    }
   ],
   "source": [
    "df = pd.concat([df1, df2])\n",
    "df"
   ]
  },
  {
   "cell_type": "code",
   "execution_count": 9,
   "metadata": {},
   "outputs": [
    {
     "data": {
      "text/plain": [
       "0           tite prestou homenagem túmulo fidel castro\n",
       "1    esposa ceo pfizer morreu complicações vacina c...\n",
       "Name: title, dtype: object"
      ]
     },
     "execution_count": 9,
     "metadata": {},
     "output_type": "execute_result"
    }
   ],
   "source": [
    "X = df['title']\n",
    "X[0:2]\n"
   ]
  },
  {
   "cell_type": "code",
   "execution_count": 10,
   "metadata": {},
   "outputs": [
    {
     "data": {
      "text/plain": [
       "0           tite prestou homenagem túmulo fidel castro\n",
       "1    esposa ceo pfizer morreu complicações vacina c...\n",
       "Name: title, dtype: object"
      ]
     },
     "execution_count": 10,
     "metadata": {},
     "output_type": "execute_result"
    }
   ],
   "source": [
    "X_1 = df1['title']\n",
    "X_1[0:2]"
   ]
  },
  {
   "cell_type": "code",
   "execution_count": 11,
   "metadata": {},
   "outputs": [
    {
     "data": {
      "text/plain": [
       "0    katia abreu diz vai colocar expulsao moldura n...\n",
       "1    ray peita bolsonaro conservador fake entrevist...\n",
       "Name: title, dtype: object"
      ]
     },
     "execution_count": 11,
     "metadata": {},
     "output_type": "execute_result"
    }
   ],
   "source": [
    "X_2 = df2['title']\n",
    "X_2[0:2]"
   ]
  },
  {
   "cell_type": "code",
   "execution_count": 12,
   "metadata": {},
   "outputs": [
    {
     "data": {
      "text/plain": [
       "0    1\n",
       "1    1\n",
       "Name: label, dtype: object"
      ]
     },
     "execution_count": 12,
     "metadata": {},
     "output_type": "execute_result"
    }
   ],
   "source": [
    "y= df['label']\n",
    "y[0:2]"
   ]
  },
  {
   "cell_type": "code",
   "execution_count": 13,
   "metadata": {},
   "outputs": [
    {
     "data": {
      "text/plain": [
       "0    1\n",
       "1    1\n",
       "Name: label, dtype: int64"
      ]
     },
     "execution_count": 13,
     "metadata": {},
     "output_type": "execute_result"
    }
   ],
   "source": [
    "y_1= df1['label']\n",
    "y_1[0:2]"
   ]
  },
  {
   "cell_type": "code",
   "execution_count": 14,
   "metadata": {},
   "outputs": [
    {
     "data": {
      "text/plain": [
       "0    fake\n",
       "1    fake\n",
       "Name: label, dtype: object"
      ]
     },
     "execution_count": 14,
     "metadata": {},
     "output_type": "execute_result"
    }
   ],
   "source": [
    "y_2= df2['label']\n",
    "y_2[0:2]"
   ]
  },
  {
   "cell_type": "code",
   "execution_count": 15,
   "metadata": {},
   "outputs": [],
   "source": [
    "X_train,  X_test, y_train, y_test = train_test_split(X, y, test_size=0.25)\n",
    "X_train1,  X_test1, y_train1, y_test1 = train_test_split(X_1, y_1, test_size=0.25)\n",
    "X_train2,  X_test2, y_train2, y_test2 = train_test_split(X_2, y_2, test_size=0.25)"
   ]
  },
  {
   "cell_type": "code",
   "execution_count": 16,
   "metadata": {},
   "outputs": [],
   "source": [
    "X_train.to_csv('../data/Treino')\n",
    "X_test.to_csv('../data/Teste')"
   ]
  },
  {
   "cell_type": "code",
   "execution_count": 17,
   "metadata": {},
   "outputs": [],
   "source": [
    "X_train1.to_csv('../data/TreinoScrapy')\n",
    "X_test1.to_csv('../data/TesteScrapy')"
   ]
  },
  {
   "cell_type": "code",
   "execution_count": 18,
   "metadata": {},
   "outputs": [],
   "source": [
    "X_train2.to_csv('../data/TreinoCorpus')\n",
    "X_test2.to_csv('../data/TesteCorpus')"
   ]
  },
  {
   "cell_type": "markdown",
   "metadata": {},
   "source": [
    "## CONJUNTO COMPLETO\n"
   ]
  },
  {
   "cell_type": "code",
   "execution_count": 19,
   "metadata": {},
   "outputs": [],
   "source": [
    "import smart_open\n",
    "\n",
    "def read_corpus(fname, tokens_only=False):\n",
    "    with smart_open.open(fname, encoding=\"utf-8\") as f:\n",
    "        for i, line in enumerate(f):\n",
    "            tokens = gensim.utils.simple_preprocess(line)\n",
    "            if tokens_only:\n",
    "                yield tokens\n",
    "            else:\n",
    "                # For training data, add tags\n",
    "                yield gensim.models.doc2vec.TaggedDocument(tokens, [i])\n",
    "\n",
    "train_corpus = list(read_corpus('../data/Treino'))\n",
    "test_corpus = list(read_corpus('../data/Teste', tokens_only=True))"
   ]
  },
  {
   "cell_type": "code",
   "execution_count": 20,
   "metadata": {},
   "outputs": [
    {
     "name": "stdout",
     "output_type": "stream",
     "text": [
      "[TaggedDocument(words=['title'], tags=[0]), TaggedDocument(words=['defesa', 'lula', 'pede', 'stj', 'impedir', 'prisao', 'lula', 'condenado', 'anos', 'mes', 'tribunal', 'decidiu', 'pena', 'cumprida', 'nao', 'possibilidade', 'recurso', 'corte', 'defesa', 'diz', 'medida', 'contraria', 'defesa', 'luiz', 'inacio', 'lula', 'silva', 'apresentou', 'nesta', 'superior', 'tribunal', 'justica', 'stj', 'habeas', 'corpus', 'pediu', 'lula', 'impedido', 'ser', 'preso', 'semana', 'passada', 'tribunal', 'regional', 'federal', 'regiao', 'responsavel', 'processos', 'lava', 'jato', 'segunda', 'instancia', 'condenou', 'lula', 'anos', 'mes', 'regime', 'inicialmente', 'fechado', 'desembargadores', 'decidiram', 'ainda', 'pena', 'devera', 'ser', 'cumprida', 'nao', 'possibilidade', 'recurso', 'corte', 'leia', 'detalhes', 'sobre', 'decisao', 'abaixo', 'acao', 'apresentada', 'stj', 'advogados', 'lula', 'argumentam', 'execucao', 'pena', 'apos', 'condenacao', 'segunda', 'instancia', 'contraria', 'constituicao', 'parte', 'diz', 'ninguem', 'sera', 'considerado', 'culpado', 'ate', 'transito', 'julgado', 'sentenca', 'penal', 'condenatoria', 'defesa', 'tambem', 'fundamenta', 'pedido', 'base', 'codigo', 'penal', 'preve', 'somente', 'prisao', 'preventiva', 'apos', 'sentenca', 'condenatoria', 'transitada', 'julgado', 'alegacao', 'advogados', 'lula', 'somente', 'apos', 'esgotados', 'todos', 'recursos', 'inclusive', 'instancias', 'superiores', 'stj', 'supremo', 'tribunal', 'federal', 'condenado', 'pode', 'comecar', 'cumprir', 'pena', 'advogados', 'tambem', 'chamam', 'atencao', 'situacao', 'politica', 'envolvendo', 'lula', 'mesma', 'acao', 'defesa', 'tambem', 'defende', 'necessidade', 'afastar', 'situacao', 'inelegibilidade', 'lula', 'apos', 'condenacao', 'lei', 'ficha', 'limpa', 'proibe', 'alguem', 'condenado', 'colegiado', 'concorrer', 'eleicoes', 'preve', 'possibilidade', 'stj', 'liberar', 'candidatura', 'liminar', 'habeas', 'corpus', 'inclui', 'pedido', 'decisao', 'liminar', 'provisoria', 'geral', 'concedida', 'maneira', 'rapida', 'unico', 'ministro', 'stj', 'recesso', 'acao', 'vai', 'ser', 'examinada', 'primeiro', 'corte', 'humberto', 'martins', 'plantao', 'casos', 'urgentes', 'relator', 'caso', 'sera', 'ministro', 'felix', 'fischer', 'posteriormente', 'acao', 'sera', 'analisada', 'conjunto', 'profundidade', 'cinco', 'ministros', 'quinta', 'turma', 'felix', 'fischer', 'relator', 'acao', 'jorge', 'mussi', 'reynaldo', 'soares', 'fonseca', 'marcelo', 'navarro', 'ribeiro', 'dantas', 'joel', 'ilan', 'paciornik', 'duas', 'teses', 'apresentadas', 'defesa', 'lula', 'ja', 'analisadas', 'stf', 'maioria', 'ministros', 'entendeu', 'ser', 'possivel', 'execucao', 'pena', 'apos', 'condenacao', 'segunda', 'instancia', 'sob', 'argumento', 'apos', 'etapa', 'nao', 'ha', 'duvidas', 'sobre', 'fatos', 'provas', 'processo', 'penal', 'defesa', 'lula', 'entanto', 'argumenta', 'tal', 'entendimento', 'stf', 'nao', 'vinculante', 'nao', 'obriga', 'demais', 'tribunais', 'epoca', 'decisoes', 'plenario', 'stf', 'permitiram', 'execucao', 'pena', 'nao', 'obrigaram', 'tribunais', 'segunda', 'instancia', 'decretar', 'prisao', 'apos', 'condenacao', 'semana', 'passada', 'unanimidade', 'tres', 'desembargadores', 'turma', 'mantiveram', 'condenacao', 'lula', 'corrupcao', 'lavagem', 'caso', 'triplex', 'guaruja', 'sp', 'entendimento', 'desembargadores', 'recebeu', 'apartamento', 'oas', 'retribuicao', 'contratos', 'assinados', 'empresa', 'petrobras', 'desde', 'inicio', 'investigacoes', 'lula', 'negado', 'acusacao', 'afirmado', 'ser', 'inocente', 'analisar', 'caso', 'turma', 'aumentou', 'pena', 'anteriormente', 'imposta', 'lula', 'juiz', 'sergio', 'moro', 'anos', 'meio', 'anos', 'prisao', 'decisao', 'colegiado', 'tambem', 'determinou', 'prisao', 'lula', 'ressalvando', 'so', 'podera', 'cumprida', 'apos', 'julgamento', 'recurso', 'proprio', 'chamado', 'embargos', 'declaracao', 'tal', 'apelacao', 'nao', 'poder', 'inocentar', 'serve', 'somente', 'esclarecer', 'duvidas', 'sobre', 'acordao', 'sentenca'], tags=[1])]\n"
     ]
    }
   ],
   "source": [
    "print(train_corpus[:2])"
   ]
  },
  {
   "cell_type": "code",
   "execution_count": 21,
   "metadata": {},
   "outputs": [],
   "source": [
    "model = gensim.models.doc2vec.Doc2Vec(vector_size=512, min_count=2, epochs=40)"
   ]
  },
  {
   "cell_type": "code",
   "execution_count": 22,
   "metadata": {},
   "outputs": [],
   "source": [
    "model.build_vocab(train_corpus)"
   ]
  },
  {
   "cell_type": "code",
   "execution_count": 23,
   "metadata": {},
   "outputs": [
    {
     "name": "stdout",
     "output_type": "stream",
     "text": [
      "Word 'brasil' appeared 5690 times in the training corpus.\n"
     ]
    }
   ],
   "source": [
    "print(f\"Word 'brasil' appeared {model.wv.get_vecattr('brasil', 'count')} times in the training corpus.\")\n"
   ]
  },
  {
   "cell_type": "code",
   "execution_count": 24,
   "metadata": {},
   "outputs": [],
   "source": [
    "model.train(train_corpus, total_examples=model.corpus_count, epochs=model.epochs)"
   ]
  },
  {
   "cell_type": "code",
   "execution_count": 25,
   "metadata": {},
   "outputs": [
    {
     "name": "stdout",
     "output_type": "stream",
     "text": [
      "[ 2.22008497e-01  1.35505617e-01  2.10902169e-01 -3.24123837e-02\n",
      " -7.30662122e-02 -3.22297625e-02  6.80073649e-02  1.86484735e-02\n",
      "  1.36303931e-01  2.33069733e-01 -5.70213376e-03 -5.83198406e-02\n",
      "  1.11299820e-01  3.24955583e-02 -6.02110336e-03  1.39493331e-01\n",
      "  3.89337800e-02  1.49621248e-01 -6.89640343e-02 -1.16848484e-01\n",
      " -1.33215189e-02  1.69438556e-01  1.03224322e-01  1.35601088e-01\n",
      " -1.10530533e-01  7.19309449e-02 -6.93925396e-02  8.28843787e-02\n",
      " -6.87251613e-02 -7.56172789e-03  5.58305830e-02 -1.00783594e-01\n",
      " -1.13632418e-02  2.36650839e-01  1.43019393e-01 -8.64015147e-02\n",
      " -2.36177921e-01 -5.61539419e-02 -3.94179299e-02  1.55101120e-01\n",
      " -1.46274343e-01 -2.16174990e-01  5.03612906e-02 -7.92300403e-02\n",
      "  2.09428132e-01 -1.77916944e-01 -6.00799769e-02 -4.81761396e-02\n",
      "  6.79420084e-02  1.11078292e-01  3.52399163e-02  2.31693044e-01\n",
      " -6.87110005e-04 -1.02741122e-01 -5.16104661e-02  1.20911291e-02\n",
      "  1.80824310e-01  2.29967564e-01 -2.41993070e-01 -1.09167792e-01\n",
      " -5.11049069e-02 -6.59876242e-02 -6.02209475e-03  8.52657408e-02\n",
      " -1.17661752e-01 -2.41934806e-02  5.54405451e-02  2.80129779e-02\n",
      " -3.63702774e-02  1.18057624e-01  3.83159146e-02  9.94807482e-02\n",
      " -9.77274477e-02 -5.18524647e-02 -2.42755130e-01  1.07180722e-01\n",
      " -7.05494881e-02 -6.02724869e-03  5.68408333e-02 -2.01480806e-01\n",
      "  2.83629652e-02 -2.20905207e-02 -1.50581092e-01  6.03388846e-02\n",
      " -1.82241634e-01  3.05313170e-01  3.09230685e-01  9.80295539e-02\n",
      " -1.10448852e-01 -9.46158636e-03  8.86277929e-02  4.97181229e-02\n",
      "  3.01291674e-01 -6.20909967e-02  2.52382427e-01  6.18783012e-02\n",
      " -1.89864963e-01  1.15251482e-01  1.76022217e-01  3.31286192e-02\n",
      " -1.09710641e-01  6.83369562e-02  3.43196660e-01 -1.10657170e-01\n",
      " -2.20165355e-03 -6.97998889e-03  1.55272428e-02  6.39936998e-02\n",
      " -1.22241057e-01 -5.41136079e-02  1.61125124e-01 -2.59339344e-02\n",
      " -1.64423317e-01  2.94928942e-02 -4.90014814e-02 -1.80598661e-01\n",
      "  8.14994276e-02  1.26696229e-01  1.71753287e-01  1.17241979e-01\n",
      " -1.50867015e-01  9.47154835e-02  2.00257264e-03 -2.34880820e-01\n",
      "  1.13906242e-01  1.13527939e-01 -2.17126571e-02 -1.64825711e-02\n",
      "  1.25187829e-01 -2.22051382e-01  1.15652457e-02  3.75172883e-01\n",
      " -8.07187632e-02 -1.37764916e-01  3.76424342e-02 -1.23193152e-01\n",
      " -1.68069571e-01 -4.57823537e-02  9.31704044e-02 -1.03252158e-01\n",
      "  5.89766577e-02  1.00174487e-01 -3.46016586e-02 -2.55794879e-02\n",
      " -5.18808700e-02 -7.32862875e-02 -6.45945519e-02 -1.69604897e-01\n",
      "  1.12862334e-01  1.76634416e-01 -7.74102807e-02  7.12735429e-02\n",
      "  6.49818480e-02 -6.82898387e-02  1.42649606e-01  1.05627514e-01\n",
      "  4.72595617e-02 -1.63049251e-02 -2.40570366e-01  3.20648812e-02\n",
      " -4.58482690e-02 -5.21276630e-02 -1.24828950e-01  3.01846899e-02\n",
      " -5.62608875e-02  8.04627687e-02 -1.64067760e-01 -1.22023560e-01\n",
      " -6.91683069e-02  6.44183680e-02  3.90672199e-02 -1.63611211e-02\n",
      "  1.61111921e-01  2.85204919e-03  6.40874058e-02  1.24405369e-01\n",
      "  1.76090539e-01  9.09182727e-02 -6.46448359e-02 -4.28883432e-05\n",
      "  1.07520670e-01 -9.72914696e-02 -2.44702790e-02  6.40735254e-02\n",
      " -1.34138569e-01  8.50759819e-02  1.32948056e-01 -1.36062335e-02\n",
      "  1.85389087e-01 -7.49964789e-02  1.50087222e-01  9.42527037e-03\n",
      "  1.26506522e-01  1.49222374e-01  2.33476795e-02  5.52165881e-02\n",
      "  1.18102618e-01  2.88902689e-02  3.99959907e-02 -4.29750122e-02\n",
      " -4.79387827e-02  1.53817177e-01 -3.65771949e-02 -1.03604786e-01\n",
      "  1.19217612e-01  7.43374079e-02  3.86767089e-02  5.96568137e-02\n",
      " -6.49749208e-03  9.27932560e-02 -2.35729329e-02  2.16282322e-03\n",
      " -3.35348509e-02 -5.30398414e-02  1.66826025e-01 -1.70446157e-01\n",
      "  1.20608732e-01  9.39153805e-02 -2.35540554e-01  4.96357866e-02\n",
      "  4.10020463e-02  1.01462290e-01  2.04404995e-01  7.96644688e-02\n",
      "  1.93091869e-01 -1.50767695e-02 -4.03799973e-02 -2.20747781e-03\n",
      " -1.18657649e-01 -1.29307449e-01 -3.98953184e-02 -3.30947749e-02\n",
      "  1.82763077e-02 -9.33189914e-02 -1.75934941e-01 -1.92961037e-01\n",
      " -1.56497672e-01  1.67874768e-01  8.71370584e-02 -3.69174406e-02\n",
      "  1.38433173e-01 -2.53889591e-01  5.60325794e-02  2.78345635e-03\n",
      "  1.96833000e-01  2.79965717e-02  7.31843663e-03 -6.08919263e-02\n",
      "  1.62505478e-01  1.88026521e-02 -1.12900950e-01  9.39696059e-02\n",
      " -2.57316399e-02 -1.76996350e-01 -1.92762330e-01  1.30608752e-01\n",
      "  3.21309529e-02 -1.87965006e-01 -2.22412333e-01 -3.21354857e-03\n",
      "  6.90068901e-02 -4.04754840e-02  1.28640458e-01  5.62841333e-02\n",
      " -1.21887907e-01  1.73411239e-02  5.35037462e-03 -3.73094268e-02\n",
      " -9.60351005e-02  9.36197490e-02  2.98440140e-02 -6.26569092e-02\n",
      "  1.05396420e-01  2.74736304e-02 -1.15191624e-01  1.54595003e-01\n",
      " -1.83098510e-01  2.62674600e-01  6.80908561e-02 -1.66358545e-01\n",
      "  1.32981971e-01  2.19225753e-02 -8.56814615e-04 -1.30798258e-02\n",
      " -2.49603260e-02 -1.70376197e-01  3.23106721e-02 -3.11913621e-02\n",
      "  9.93127897e-02 -1.59157380e-01  1.54980868e-01 -7.76187256e-02\n",
      " -1.01393253e-01 -2.60731757e-01  1.21080734e-01  6.10520057e-02\n",
      " -5.91638386e-02  7.48161152e-02 -1.48261823e-02 -2.41513014e-01\n",
      " -2.76195575e-02 -1.37444464e-02  8.71329978e-02 -3.56585756e-02\n",
      " -2.03496739e-01  1.20262697e-01  1.23529151e-01  8.02513734e-02\n",
      " -5.30663095e-02 -9.95513648e-02 -5.21354116e-02 -1.36271253e-01\n",
      " -1.88698769e-02  1.41461715e-01  5.78690991e-02 -7.76072517e-02\n",
      " -1.65560573e-01 -1.39096141e-01  9.94055867e-02 -2.96478599e-01\n",
      "  4.87518534e-02  1.05075194e-02 -8.94280449e-02 -8.74458253e-02\n",
      " -6.63695335e-02 -1.22491382e-01  8.50692242e-02  7.65397251e-02\n",
      "  1.47093222e-01 -1.48167819e-01  4.73140962e-02 -3.12456280e-01\n",
      "  9.03208554e-02  4.20246832e-02 -1.20175615e-01 -4.74622548e-01\n",
      " -1.10530384e-01 -2.94337988e-01  2.17443630e-02  1.79532543e-01\n",
      " -1.36386305e-01  2.21142724e-01  1.63811252e-01 -3.67878824e-02\n",
      " -1.02600560e-01  1.28438666e-01 -2.04807356e-01  4.13797908e-02\n",
      "  3.69417593e-02  2.17356980e-01  6.06599338e-02  1.25983924e-01\n",
      " -5.15052862e-02  4.28014137e-02 -8.46028253e-02 -4.85061966e-02\n",
      " -2.35238388e-01 -8.09709653e-02 -6.97400346e-02  2.12118104e-01\n",
      "  1.47718504e-01 -1.96327016e-01 -1.92992091e-01 -2.03442186e-01\n",
      "  1.24241762e-01  4.47257832e-02  4.40594591e-02  2.24278033e-01\n",
      " -1.82686120e-01  1.77566737e-01  2.20001310e-01  1.75016671e-01\n",
      "  1.52239844e-01 -1.02030165e-01  9.63330716e-02 -3.26913148e-02\n",
      " -1.04104765e-01 -1.90234140e-01  4.66360152e-02 -9.83067136e-03\n",
      "  1.42204478e-01 -2.98819318e-03 -4.72917035e-02 -1.00487545e-01\n",
      "  1.63983386e-02 -2.41274983e-01 -1.73254516e-02 -1.95979938e-01\n",
      "  7.80334994e-02  9.80170444e-02 -1.51865995e-02 -1.26380891e-01\n",
      "  1.77888665e-02  8.08891878e-02 -4.27151807e-02  7.07383230e-02\n",
      " -2.34515443e-01  2.83577383e-01 -1.77362517e-01 -7.81152621e-02\n",
      " -1.31987482e-01 -5.82009144e-02 -6.55589104e-02  6.55063018e-02\n",
      " -1.10287622e-01 -2.97778070e-01  8.61770660e-03  3.34915817e-02\n",
      "  3.00111771e-02  1.90706775e-01 -3.43654640e-02 -1.09339952e-01\n",
      " -4.23015580e-02 -7.85165206e-02  9.95539501e-03 -1.56318784e-01\n",
      "  6.60470724e-02  2.01820016e-01 -8.14115927e-02 -3.28058563e-02\n",
      " -1.07039489e-01  5.18901125e-02  2.26717412e-01 -1.07882190e-02\n",
      "  1.80854440e-01 -1.53672844e-01 -1.92759722e-01  3.94952148e-02\n",
      "  6.34083599e-02 -1.04215465e-01 -9.78396758e-02 -3.41469049e-02\n",
      "  7.20613077e-02 -1.70323640e-01 -3.01432014e-02 -2.19030976e-01\n",
      "  2.02876896e-01 -1.80844963e-01 -2.31973514e-01  1.76355079e-01\n",
      "  1.26208484e-01  1.11458100e-01 -2.64998805e-02 -1.06173791e-01\n",
      " -9.14497972e-02 -1.11990348e-02  6.12865761e-02  1.57101154e-01\n",
      "  1.59760285e-02 -1.87966712e-02 -3.70435156e-02  5.09689078e-02\n",
      " -7.30161816e-02 -3.73321436e-02  1.34140030e-01  1.76098093e-01\n",
      "  2.30608404e-01  8.56739655e-02 -2.67146379e-01 -3.55993241e-01\n",
      "  1.89570282e-02  2.74760816e-02 -7.38210455e-02  1.09985635e-01\n",
      "  1.35771083e-02  1.56634554e-01 -4.61323000e-02  4.43046130e-02\n",
      " -1.34462118e-02  1.08924896e-01 -4.29528654e-02 -9.06610116e-02\n",
      "  4.52027004e-03  4.65453416e-02  1.27526209e-01 -2.59167999e-01\n",
      "  7.49413818e-02  1.12065651e-01 -1.35896906e-01  1.00080706e-01\n",
      " -2.87611829e-03  1.27384305e-01 -1.41678780e-01  3.53026390e-02\n",
      "  3.61741222e-02  2.15925574e-01  3.26060806e-03  1.81142002e-01\n",
      " -6.40655458e-02  3.39590833e-02  3.01439762e-01 -5.16198613e-02\n",
      " -2.23282836e-02  1.48142669e-02 -1.10687256e-01 -2.02561677e-01\n",
      " -8.75955448e-02 -2.78925411e-02 -1.09081902e-01  1.84150353e-01\n",
      "  1.96485054e-02  4.24591526e-02  1.29654691e-01  2.52670109e-01\n",
      "  3.30661908e-02 -1.43767176e-02 -1.35610355e-02  3.08048189e-01\n",
      " -2.14504510e-01 -2.48530731e-01  1.16440848e-01  1.81981504e-01]\n"
     ]
    }
   ],
   "source": [
    "vector = model.infer_vector(['brasil', 'you', 'can', 'prevent', 'forest', 'fires'])\n",
    "print(vector)"
   ]
  },
  {
   "cell_type": "code",
   "execution_count": 26,
   "metadata": {},
   "outputs": [],
   "source": [
    "ranks = []\n",
    "second_ranks = []\n",
    "for doc_id in range(len(train_corpus)):\n",
    "    inferred_vector = model.infer_vector(train_corpus[doc_id].words)\n",
    "    sims = model.dv.most_similar([inferred_vector], topn=len(model.dv))\n",
    "    rank = [docid for docid, sim in sims].index(doc_id)\n",
    "    ranks.append(rank)\n",
    "\n",
    "    second_ranks.append(sims[1])"
   ]
  },
  {
   "cell_type": "code",
   "execution_count": 27,
   "metadata": {},
   "outputs": [
    {
     "name": "stdout",
     "output_type": "stream",
     "text": [
      "Counter({0: 11754, 1: 178, 2: 58, 4: 23, 3: 22, 5: 13, 6: 12, 8: 11, 10: 10, 9: 10, 13: 9, 7: 8, 29: 6, 19: 6, 18: 5, 28: 5, 48: 5, 12: 5, 14: 5, 15: 4, 17: 4, 16: 4, 11: 4, 21: 3, 32: 3, 25: 3, 41: 3, 45: 3, 23: 3, 57: 3, 20: 3, 33: 3, 64: 3, 36: 3, 42: 3, 27: 3, 110: 3, 22: 2, 30: 2, 112: 2, 58: 2, 131: 2, 120: 2, 39: 2, 364: 2, 79: 2, 51: 2, 37: 2, 113: 2, 44: 2, 62: 2, 43: 2, 49: 2, 71: 2, 52: 2, 46: 2, 303: 2, 26: 2, 35: 2, 962: 1, 216: 1, 148: 1, 163: 1, 187: 1, 61: 1, 590: 1, 150: 1, 419: 1, 433: 1, 63: 1, 326: 1, 181: 1, 461: 1, 109: 1, 40: 1, 687: 1, 143: 1, 156: 1, 96: 1, 700: 1, 145: 1, 122: 1, 638: 1, 74: 1, 184: 1, 368: 1, 678: 1, 72: 1, 95: 1, 969: 1, 83: 1, 271: 1, 315: 1, 544: 1, 265: 1, 119: 1, 223: 1, 738: 1, 104: 1, 108: 1, 482: 1, 232: 1, 1946: 1, 54: 1, 31: 1, 55: 1, 117: 1, 179: 1, 84: 1, 97: 1, 219: 1, 129: 1, 121: 1, 466: 1, 262: 1, 82: 1, 299: 1, 279: 1, 480: 1, 165: 1, 705: 1, 200: 1, 225: 1, 107: 1, 66: 1, 205: 1, 298: 1, 531: 1, 174: 1, 221: 1, 185: 1, 207: 1, 100: 1, 1533: 1, 428: 1, 24: 1, 91: 1, 86: 1, 128: 1, 441: 1, 167: 1, 132: 1, 227: 1, 159: 1, 68: 1, 362: 1, 729: 1, 3383: 1, 341: 1, 2746: 1, 65: 1, 540: 1, 103: 1, 69: 1, 99: 1, 212: 1, 496: 1, 195: 1, 155: 1, 1651: 1})\n"
     ]
    }
   ],
   "source": [
    "import collections\n",
    "\n",
    "counter = collections.Counter(ranks)\n",
    "print(counter)"
   ]
  },
  {
   "cell_type": "code",
   "execution_count": 28,
   "metadata": {},
   "outputs": [],
   "source": [
    "#model.wv.index_to_key"
   ]
  },
  {
   "cell_type": "code",
   "execution_count": 29,
   "metadata": {},
   "outputs": [
    {
     "name": "stdout",
     "output_type": "stream",
     "text": [
      "Test Document (1815): «impasse pec precatórios leva ala governo defender auxílio brasil teto gasto»\n",
      "\n",
      "SIMILAR/DISSIMILAR DOCS PER MODEL Doc2Vec(dm/m,d512,n5,w5,mc2,s0.001,t3):\n",
      "\n",
      "MOST (4239, 0.3997975289821625): «caiunarede sistema imunológico capacidade defender covid ninguém morre tratamento primeira fase»\n",
      "\n",
      "MEDIAN (4029, 0.13991878926753998): «junho boa noite aqui estao principais noticias voce terminar dia dois ministros stf votaram manter edson fachin relator delacoes premiadas empresa jbs julgamento considerado importante destino operacao lava jato novas revelacoes envolvendo politicos pmdb votacao supremo continua nesta quinta delatores empresario joesley batista prestou depoimento pf brasilia sobre supostas irregularidades contratos firmados frigorifico jbs bndes enquanto congresso seguia parado ritmo sao joao presidente michel temer prosseguia viagem internacional delacoes executivos donos jbs apontaram existencia esquema corrupcao pagamento propina politicos delacoes resultaram inqueritos abertos stf investigar outros presidente michel temer senador aecio neves posicao fachin seguir relator externada durante julgamento ministros pedido governador ms reinaldo azambuja psdb voto fachin acompanhado ministro alexandre moraes julgamento vai continuar nesta quinta ministerio publico federal rio grande norte denunciou camara deputados henrique eduardo alves eduardo cunha pratica continuada crimes corrupcao passiva lavagem dinheiro segundo mpf juntos receberam milhoes propina defesas dois afirmaram nao iam comentar denuncia porque ainda nao acesso peca judicial pf descobriu indicios pagamento propina governador luiz fernando pezao rj investigacoes operacao lava jato segundo agentes nome governador aparece troca mensagens operador esquema chefiado sergio cabral pezao negou ter recebido recursos ilicitos senador helio jose disse sofreu retaliacao terrivel palacio planalto votar contra relatorio reforma trabalhista comissao assuntos sociais cas vespera segundo parlamentar votacao duas pessoas indicadas cargos executivo demitidas casa civil temer participou reuniao presidente russo vladimir putin kremlin eless assinaram acordos bilaterais defenderam intensificacao relacoes brasil russia temer aproveitou dizer brasil passa momento recuperacao financeira propos estreitamento lacos russia organismos internacionais grupo maiores economias brics grupo reune alem brasil russia china india africa sul fogo finalmente sendo controlado portugal apos ter deixado mortos arte mostra pessoas morreram estrada meio chamas floresta voce pessoa querida mundo ja sabe nao pergunta usuario crack anos reportagem falando pastora nildes neri anos ha trabalha atendimento usuarios drogas cracolandia sao paulo neste tempo alem ganhar respeito dependentes pastora adotou duas criancas conheca historia rainha elizabeth ii parlamento britanico disse prioridade theresa may garantir melhor acordo brexit possivel reino unido governo vai buscar maior consenso possivel sobre termos saida pais uniao europeia chamou atencao chapeu soberana nova resolucao trata requisitos minimos servicos vacinacao pais fase analise agencia nacional vigilancia sanitaria anvisa caso aprovada permitira farmacias apliquem vacinas atualmente somente clinicas vacinacao medico responsavel tecnico estao autorizadas oferecer servico sistema publico saude»\n",
      "\n",
      "LEAST (203, -0.10089095681905746): «não provas marido marina envolvido desmatamento amazônia»\n",
      "\n"
     ]
    }
   ],
   "source": [
    "\n",
    "# Pick a random document from the test corpus and infer a vector from the model\n",
    "doc_id = random.randint(0, len(test_corpus) - 1)\n",
    "inferred_vector = model.infer_vector(test_corpus[doc_id])\n",
    "sims = model.dv.most_similar([inferred_vector], topn=len(model.dv))\n",
    "\n",
    "# Compare and print the most/median/least similar documents from the train corpus\n",
    "print('Test Document ({}): «{}»\\n'.format(doc_id, ' '.join(test_corpus[doc_id])))\n",
    "#print('Document ({}): «{}»\\n'.format(doc_id, ' '.join(train_corpus[doc_id].words)))\n",
    "print(u'SIMILAR/DISSIMILAR DOCS PER MODEL %s:\\n' % model)\n",
    "for label, index in [('MOST', 0), ('MEDIAN', len(sims)//2), ('LEAST', len(sims) - 1)]:\n",
    "    print(u'%s %s: «%s»\\n' % (label, sims[index], ' '.join(train_corpus[sims[index][0]].words)))\n",
    "    vector = model.infer_vector(['only', 'you', 'can', 'prevent', 'forest', 'fires'])\n"
   ]
  },
  {
   "cell_type": "code",
   "execution_count": 30,
   "metadata": {},
   "outputs": [],
   "source": [
    "#inferred_vector\n"
   ]
  },
  {
   "cell_type": "markdown",
   "metadata": {},
   "source": [
    "## CONJUNTO SCRAPY\n"
   ]
  },
  {
   "cell_type": "code",
   "execution_count": 31,
   "metadata": {},
   "outputs": [],
   "source": [
    "def read_corpus(fname, tokens_only=False):\n",
    "    with smart_open.open(fname, encoding=\"utf-8\") as f:\n",
    "        for i, line in enumerate(f):\n",
    "            tokens = gensim.utils.simple_preprocess(line)\n",
    "            if tokens_only:\n",
    "                yield tokens\n",
    "            else:\n",
    "                # For training data, add tags\n",
    "                yield gensim.models.doc2vec.TaggedDocument(tokens, [i])\n",
    "\n",
    "train_corpus1 = list(read_corpus('../data/TreinoScrapy'))\n",
    "test_corpus1 = list(read_corpus('../data/TesteScrapy', tokens_only=True))"
   ]
  },
  {
   "cell_type": "code",
   "execution_count": 32,
   "metadata": {},
   "outputs": [
    {
     "name": "stdout",
     "output_type": "stream",
     "text": [
      "[TaggedDocument(words=['title'], tags=[0]), TaggedDocument(words=['defesa', 'lula', 'pede', 'stj', 'impedir', 'prisao', 'lula', 'condenado', 'anos', 'mes', 'tribunal', 'decidiu', 'pena', 'cumprida', 'nao', 'possibilidade', 'recurso', 'corte', 'defesa', 'diz', 'medida', 'contraria', 'defesa', 'luiz', 'inacio', 'lula', 'silva', 'apresentou', 'nesta', 'superior', 'tribunal', 'justica', 'stj', 'habeas', 'corpus', 'pediu', 'lula', 'impedido', 'ser', 'preso', 'semana', 'passada', 'tribunal', 'regional', 'federal', 'regiao', 'responsavel', 'processos', 'lava', 'jato', 'segunda', 'instancia', 'condenou', 'lula', 'anos', 'mes', 'regime', 'inicialmente', 'fechado', 'desembargadores', 'decidiram', 'ainda', 'pena', 'devera', 'ser', 'cumprida', 'nao', 'possibilidade', 'recurso', 'corte', 'leia', 'detalhes', 'sobre', 'decisao', 'abaixo', 'acao', 'apresentada', 'stj', 'advogados', 'lula', 'argumentam', 'execucao', 'pena', 'apos', 'condenacao', 'segunda', 'instancia', 'contraria', 'constituicao', 'parte', 'diz', 'ninguem', 'sera', 'considerado', 'culpado', 'ate', 'transito', 'julgado', 'sentenca', 'penal', 'condenatoria', 'defesa', 'tambem', 'fundamenta', 'pedido', 'base', 'codigo', 'penal', 'preve', 'somente', 'prisao', 'preventiva', 'apos', 'sentenca', 'condenatoria', 'transitada', 'julgado', 'alegacao', 'advogados', 'lula', 'somente', 'apos', 'esgotados', 'todos', 'recursos', 'inclusive', 'instancias', 'superiores', 'stj', 'supremo', 'tribunal', 'federal', 'condenado', 'pode', 'comecar', 'cumprir', 'pena', 'advogados', 'tambem', 'chamam', 'atencao', 'situacao', 'politica', 'envolvendo', 'lula', 'mesma', 'acao', 'defesa', 'tambem', 'defende', 'necessidade', 'afastar', 'situacao', 'inelegibilidade', 'lula', 'apos', 'condenacao', 'lei', 'ficha', 'limpa', 'proibe', 'alguem', 'condenado', 'colegiado', 'concorrer', 'eleicoes', 'preve', 'possibilidade', 'stj', 'liberar', 'candidatura', 'liminar', 'habeas', 'corpus', 'inclui', 'pedido', 'decisao', 'liminar', 'provisoria', 'geral', 'concedida', 'maneira', 'rapida', 'unico', 'ministro', 'stj', 'recesso', 'acao', 'vai', 'ser', 'examinada', 'primeiro', 'corte', 'humberto', 'martins', 'plantao', 'casos', 'urgentes', 'relator', 'caso', 'sera', 'ministro', 'felix', 'fischer', 'posteriormente', 'acao', 'sera', 'analisada', 'conjunto', 'profundidade', 'cinco', 'ministros', 'quinta', 'turma', 'felix', 'fischer', 'relator', 'acao', 'jorge', 'mussi', 'reynaldo', 'soares', 'fonseca', 'marcelo', 'navarro', 'ribeiro', 'dantas', 'joel', 'ilan', 'paciornik', 'duas', 'teses', 'apresentadas', 'defesa', 'lula', 'ja', 'analisadas', 'stf', 'maioria', 'ministros', 'entendeu', 'ser', 'possivel', 'execucao', 'pena', 'apos', 'condenacao', 'segunda', 'instancia', 'sob', 'argumento', 'apos', 'etapa', 'nao', 'ha', 'duvidas', 'sobre', 'fatos', 'provas', 'processo', 'penal', 'defesa', 'lula', 'entanto', 'argumenta', 'tal', 'entendimento', 'stf', 'nao', 'vinculante', 'nao', 'obriga', 'demais', 'tribunais', 'epoca', 'decisoes', 'plenario', 'stf', 'permitiram', 'execucao', 'pena', 'nao', 'obrigaram', 'tribunais', 'segunda', 'instancia', 'decretar', 'prisao', 'apos', 'condenacao', 'semana', 'passada', 'unanimidade', 'tres', 'desembargadores', 'turma', 'mantiveram', 'condenacao', 'lula', 'corrupcao', 'lavagem', 'caso', 'triplex', 'guaruja', 'sp', 'entendimento', 'desembargadores', 'recebeu', 'apartamento', 'oas', 'retribuicao', 'contratos', 'assinados', 'empresa', 'petrobras', 'desde', 'inicio', 'investigacoes', 'lula', 'negado', 'acusacao', 'afirmado', 'ser', 'inocente', 'analisar', 'caso', 'turma', 'aumentou', 'pena', 'anteriormente', 'imposta', 'lula', 'juiz', 'sergio', 'moro', 'anos', 'meio', 'anos', 'prisao', 'decisao', 'colegiado', 'tambem', 'determinou', 'prisao', 'lula', 'ressalvando', 'so', 'podera', 'cumprida', 'apos', 'julgamento', 'recurso', 'proprio', 'chamado', 'embargos', 'declaracao', 'tal', 'apelacao', 'nao', 'poder', 'inocentar', 'serve', 'somente', 'esclarecer', 'duvidas', 'sobre', 'acordao', 'sentenca'], tags=[1])]\n"
     ]
    }
   ],
   "source": [
    "print(train_corpus[:2])"
   ]
  },
  {
   "cell_type": "code",
   "execution_count": 33,
   "metadata": {},
   "outputs": [],
   "source": [
    "model1 = gensim.models.doc2vec.Doc2Vec(vector_size=512, min_count=2, epochs=40)"
   ]
  },
  {
   "cell_type": "code",
   "execution_count": 34,
   "metadata": {},
   "outputs": [],
   "source": [
    "model1.build_vocab(train_corpus1)"
   ]
  },
  {
   "cell_type": "code",
   "execution_count": 35,
   "metadata": {},
   "outputs": [
    {
     "name": "stdout",
     "output_type": "stream",
     "text": [
      "Word 'brasil' appeared 445 times in the training corpus.\n"
     ]
    }
   ],
   "source": [
    "print(f\"Word 'brasil' appeared {model1.wv.get_vecattr('brasil', 'count')} times in the training corpus.\")\n"
   ]
  },
  {
   "cell_type": "code",
   "execution_count": 36,
   "metadata": {},
   "outputs": [],
   "source": [
    "model1.train(train_corpus1, total_examples=model1.corpus_count, epochs=model1.epochs)"
   ]
  },
  {
   "cell_type": "code",
   "execution_count": 37,
   "metadata": {},
   "outputs": [
    {
     "name": "stdout",
     "output_type": "stream",
     "text": [
      "[ 3.07912119e-02 -2.67154444e-03 -2.80625820e-02  3.63151506e-02\n",
      "  2.12523919e-02  4.84138578e-02  1.05290730e-02  1.61388703e-02\n",
      "  1.35312621e-02  3.26703712e-02  2.54342966e-02 -2.40188036e-02\n",
      "  7.80021474e-02 -5.32752089e-02  3.32934386e-03  7.27399194e-04\n",
      " -2.89072026e-03  1.93291362e-02 -5.11523858e-02  3.29084112e-03\n",
      "  3.32631394e-02  6.43550744e-03  3.23055759e-02 -4.15851036e-03\n",
      " -4.06951867e-02  4.57045287e-02 -8.02781153e-03  1.70264337e-02\n",
      " -5.17476024e-03 -8.66007153e-03  1.44626489e-02  3.61999753e-03\n",
      " -1.23999994e-02 -3.19103077e-02  3.29183438e-03 -3.84102366e-03\n",
      " -3.09375431e-02 -3.90959978e-02  2.94912094e-03 -1.77754909e-02\n",
      " -5.05209528e-03  1.07843429e-02 -7.93788116e-03 -2.84265764e-02\n",
      "  7.31891021e-02  1.10562406e-02 -1.26439156e-02  4.02634628e-02\n",
      "  1.60745811e-02 -1.75228845e-02 -1.74925625e-02  5.54859778e-03\n",
      " -8.89071170e-03  5.39067760e-02 -7.51093552e-02 -6.15775175e-02\n",
      "  5.99280559e-02 -4.49900739e-02 -1.00084608e-02  5.33967130e-02\n",
      " -1.94690714e-03  2.90389340e-02 -3.71064642e-03  2.08692998e-02\n",
      "  4.69207242e-02 -1.19912131e-02 -5.41970460e-03  1.69757344e-02\n",
      "  1.72354653e-02  1.50541635e-02 -1.18932538e-02  9.36185848e-03\n",
      " -5.18290885e-02 -5.51592261e-02 -2.18783133e-03 -1.63555685e-02\n",
      "  5.60040921e-02 -3.01479697e-02  1.22909322e-02  4.31954581e-03\n",
      "  1.65314320e-02 -7.91688263e-03 -1.39056135e-03  1.31019345e-02\n",
      " -7.26830773e-03  1.51198916e-02  4.09019412e-03 -7.92914908e-03\n",
      " -4.08127867e-02  7.64159933e-02  2.76165176e-03 -5.13481069e-03\n",
      " -1.58549044e-02 -5.95720448e-02  6.82348199e-03 -3.89228994e-03\n",
      " -2.29693055e-02 -3.09587666e-03  1.27869053e-03  7.58277718e-03\n",
      " -5.76877631e-02 -1.00667849e-02 -1.77575927e-02 -1.68818333e-05\n",
      "  2.33195033e-02  1.53737636e-02 -1.21300211e-02  2.05835383e-02\n",
      "  4.25801501e-02  1.47003829e-02  2.72447579e-02 -6.11640289e-02\n",
      "  3.95494215e-02  3.97296995e-02 -7.34732253e-03  3.52095929e-03\n",
      "  3.92838791e-02  5.51087297e-02  1.11893378e-02  5.34024369e-03\n",
      " -6.53536096e-02 -3.22872922e-02  8.47019907e-03 -3.63286212e-02\n",
      " -2.34876275e-02  3.00711836e-03 -4.69257273e-02 -8.88399687e-03\n",
      "  3.74567253e-03  3.42787132e-02 -6.62083998e-02  1.31318895e-02\n",
      "  2.87109073e-02 -1.54108135e-02  3.87001857e-02 -2.33999416e-02\n",
      " -8.10932310e-04  6.45051338e-03 -2.27574399e-03 -9.48265195e-03\n",
      " -3.74436262e-03 -2.71632783e-02  4.29451605e-03  4.72297296e-02\n",
      " -2.32488085e-02 -4.33822721e-02 -1.15768542e-03 -1.34580387e-02\n",
      "  2.39218678e-02  2.49817558e-02  7.78019661e-03 -8.11403915e-02\n",
      " -1.08231809e-02  3.25321443e-02 -2.43275221e-02  1.90910995e-02\n",
      "  6.44149706e-02  2.21789256e-02 -8.79969373e-02  1.23275928e-02\n",
      " -8.79781786e-04  1.24352789e-02 -2.16307398e-02 -1.55573077e-02\n",
      "  1.61764249e-02  2.83271391e-02 -3.32079921e-03 -4.83270129e-03\n",
      "  4.47864197e-02  3.37665007e-02 -1.50804548e-02 -1.53515460e-02\n",
      " -3.03818546e-02 -1.63825471e-02 -5.09531870e-02 -4.78348956e-02\n",
      "  5.41219069e-03  2.40722839e-02  6.23799153e-02 -2.05576476e-02\n",
      "  8.28889385e-03 -3.43969837e-02 -9.09536798e-03 -9.30426344e-02\n",
      "  5.30182384e-04 -1.57082211e-02 -7.52099454e-02 -5.06681614e-02\n",
      " -2.33170595e-02  5.93040837e-03 -5.90948574e-03 -4.96445149e-02\n",
      "  2.80740000e-02 -2.40063593e-02  4.72435588e-03  1.63694303e-02\n",
      "  8.83513782e-03 -3.55857611e-02 -2.56606098e-02  1.99700464e-02\n",
      " -5.77799305e-02 -8.84515815e-04  3.14210430e-02  5.58849843e-03\n",
      "  2.08555907e-02  3.77310812e-02 -5.65232299e-02  3.16202156e-02\n",
      " -2.72802114e-02  1.69264637e-02 -2.25555385e-03  3.78103703e-02\n",
      "  5.66068292e-02 -3.26302163e-02 -3.55782621e-02  2.48849057e-02\n",
      " -3.58638563e-03  2.05847882e-02 -4.66507114e-02  2.75213383e-02\n",
      " -4.49511558e-02  1.87208839e-02  4.58203666e-02 -7.15285586e-03\n",
      "  8.54000542e-03 -7.83900358e-03 -8.72108713e-03  1.62938312e-02\n",
      "  8.44913768e-04 -3.63318436e-02 -3.89381424e-02 -6.38445243e-02\n",
      "  1.18649183e-02 -1.72649920e-02 -2.31486093e-02  2.10556760e-02\n",
      "  3.38819996e-02  4.02873643e-02 -1.97005849e-02  3.77359753e-03\n",
      " -1.43780829e-02  7.02109933e-03 -5.52112330e-03  2.24614795e-02\n",
      "  1.63218770e-02  4.33836542e-02  2.13001599e-03 -7.94381090e-03\n",
      " -4.46434766e-02 -9.71900765e-03 -1.40357306e-02  1.27344616e-02\n",
      " -1.64798275e-02 -1.94049366e-02 -4.15667333e-02  5.26312105e-02\n",
      " -1.64577607e-02 -2.39241738e-02  2.70811729e-02  6.05748482e-02\n",
      "  7.59363472e-02 -4.49898578e-02  2.39839591e-02  1.32466955e-02\n",
      " -4.56611626e-02 -1.76191442e-02 -1.88451111e-02  1.38366558e-02\n",
      " -1.88508928e-02 -9.32893995e-03  1.13067143e-02  4.57566865e-02\n",
      "  1.58229133e-03 -4.92775207e-03 -5.40135987e-02  2.88434699e-02\n",
      " -2.92969327e-02  2.09635473e-03 -4.40647826e-04 -2.38214284e-02\n",
      " -3.05028390e-02  1.95743255e-02  9.26380418e-03 -5.38749285e-02\n",
      " -3.60368006e-02  8.34282394e-03 -2.50094919e-03  1.79891121e-02\n",
      "  2.07195766e-02  1.52789457e-02 -1.73353199e-02  3.32962275e-02\n",
      "  6.75459802e-02 -3.43445241e-02  7.15556741e-03 -1.44896936e-02\n",
      "  2.95704026e-02  3.82698700e-02  5.45161515e-02 -2.97490265e-02\n",
      "  2.55100504e-02  6.26434432e-03  9.13470797e-03 -3.89685631e-02\n",
      " -3.75240482e-03 -1.81809478e-02 -1.91200478e-03  3.32696289e-02\n",
      "  3.47130336e-02  1.87759139e-02 -3.08543034e-02 -1.18414983e-02\n",
      " -5.78435771e-02  6.03304943e-03 -1.69478841e-02  8.92935973e-03\n",
      " -3.62024084e-02 -3.31761986e-02  7.48857972e-04 -4.18351404e-03\n",
      "  2.76313559e-03 -3.53288883e-03 -1.24702342e-02  4.24588472e-02\n",
      " -3.49650159e-02 -1.53207500e-02  4.42470461e-02 -1.66117977e-02\n",
      " -5.21063209e-02 -1.74965989e-02  4.47598062e-02 -4.41133138e-03\n",
      " -5.77712841e-02 -2.35841796e-02  3.93874682e-02  5.33247143e-02\n",
      " -2.82446966e-02 -5.65913692e-02  3.58237922e-02  4.39006239e-02\n",
      " -5.33209741e-03  6.59682900e-02  1.88657101e-02 -4.24341261e-02\n",
      "  2.09973240e-03 -1.19597670e-02  2.54626889e-02  2.46927571e-02\n",
      "  3.07806954e-03  5.00752889e-02  7.95712695e-03  3.70328948e-02\n",
      " -5.70128486e-02 -5.79290017e-02  1.17388349e-02 -2.06386838e-02\n",
      " -1.38790421e-02 -3.79918143e-02  1.29565084e-02  3.77530418e-02\n",
      "  2.36645769e-02  5.94476995e-04  2.74082441e-02  3.56079335e-03\n",
      "  2.20758189e-02  4.56948988e-02 -5.68368845e-02 -4.98342142e-03\n",
      "  1.98127069e-02 -2.67112982e-02 -8.72190110e-03  8.14643875e-03\n",
      "  2.12153178e-02  2.39082333e-03  4.01035324e-02  1.87384561e-02\n",
      "  4.13623415e-02 -4.21283580e-02  1.04996618e-02  2.83024684e-02\n",
      " -2.18492164e-03  3.76991928e-02  7.75846317e-02  7.21489042e-02\n",
      "  3.22967302e-03 -4.26909029e-02  5.07697910e-02  1.09340698e-02\n",
      " -3.71753350e-02 -2.90651526e-02 -2.55375318e-02  3.93652311e-03\n",
      "  4.22884561e-02 -8.66454188e-03  5.33498563e-02 -2.53137928e-02\n",
      " -2.16555428e-02 -1.87816527e-02  3.81446667e-02  2.70774905e-02\n",
      " -1.00138485e-01  7.93200266e-03 -6.01514289e-03  1.91286653e-02\n",
      "  2.43113525e-02  1.25415325e-02 -5.73350750e-02  8.70664977e-03\n",
      " -1.97741166e-02 -5.20033436e-03 -3.58013436e-02  3.75490487e-02\n",
      " -6.69428939e-03 -6.50675735e-03  9.48015507e-03 -2.56745461e-02\n",
      "  7.82687888e-02  1.18746721e-04  4.78961468e-02  4.08873782e-02\n",
      "  1.37059316e-02 -1.05395652e-02 -1.70862656e-02  3.83798517e-02\n",
      " -8.63206480e-03 -3.59252021e-02 -1.75408907e-02  6.04629423e-03\n",
      "  4.46496196e-02 -9.92200896e-03 -2.05547828e-02  2.46624332e-02\n",
      " -5.39161405e-03 -2.99998559e-02  6.17412403e-02  5.04121836e-03\n",
      "  2.60455422e-02 -3.36843207e-02 -1.84763279e-02  7.80425444e-02\n",
      "  1.58259999e-02  1.98328272e-02 -1.76648032e-02 -3.28917839e-02\n",
      " -2.55415570e-02 -1.82102304e-02  3.69235910e-02  4.16247994e-02\n",
      "  5.93563952e-02 -2.18404047e-02  2.27367878e-02 -3.48605514e-02\n",
      "  2.67522084e-03 -5.64617403e-02 -2.85153482e-02 -6.57509863e-02\n",
      " -5.89041822e-02  1.93196908e-02  4.60778140e-02 -5.24575673e-02\n",
      " -1.72687843e-02 -1.67410299e-02 -3.03967390e-02 -5.11118174e-02\n",
      " -2.62139235e-02 -3.17525417e-02  4.23064120e-02 -6.25847839e-03\n",
      "  1.73361208e-02  7.72475153e-02  5.70342876e-02 -2.83110905e-02\n",
      "  3.41017283e-02  4.27180603e-02  1.59926433e-02  2.27920488e-02\n",
      "  1.88872647e-02  5.22269234e-02 -2.46068405e-04 -1.54295582e-02\n",
      " -2.17529181e-02 -4.14303392e-02 -2.22813841e-02  3.48429717e-02\n",
      " -3.41325738e-02  1.92363486e-02  2.94844192e-02  4.27528135e-02\n",
      " -1.51467528e-02  2.50847861e-02  2.81663239e-02  1.83680793e-03\n",
      " -1.54999727e-02 -2.90113613e-02 -1.87895298e-02 -1.95942726e-02\n",
      " -7.37279607e-03  4.17730473e-02  1.18713975e-02 -1.10552432e-02\n",
      "  5.08635491e-02 -1.97051931e-02  3.36416699e-02  1.85982194e-02\n",
      " -9.10873245e-03 -3.83150089e-03 -1.50312139e-02  6.45752624e-02\n",
      " -4.99106199e-02 -2.05447618e-02 -2.99602877e-02 -3.79120521e-02]\n"
     ]
    }
   ],
   "source": [
    "vector = model1.infer_vector(['brasil', 'you', 'can', 'prevent', 'forest', 'fires'])\n",
    "print(vector)"
   ]
  },
  {
   "cell_type": "code",
   "execution_count": 38,
   "metadata": {},
   "outputs": [],
   "source": [
    "ranks = []\n",
    "second_ranks = []\n",
    "for doc_id in range(len(train_corpus1)):\n",
    "    inferred_vector = model1.infer_vector(train_corpus1[doc_id].words)\n",
    "    sims = model1.dv.most_similar([inferred_vector], topn=len(model1.dv))\n",
    "    rank = [docid for docid, sim in sims].index(doc_id)\n",
    "    ranks.append(rank)\n",
    "\n",
    "    second_ranks.append(sims[1])"
   ]
  },
  {
   "cell_type": "code",
   "execution_count": 39,
   "metadata": {},
   "outputs": [
    {
     "name": "stdout",
     "output_type": "stream",
     "text": [
      "Counter({0: 3646, 1: 710, 2: 333, 3: 181, 4: 153, 6: 113, 5: 104, 7: 89, 8: 62, 13: 62, 11: 55, 10: 54, 9: 50, 12: 47, 14: 38, 16: 37, 15: 31, 17: 27, 19: 26, 25: 25, 22: 25, 18: 24, 21: 23, 24: 23, 31: 20, 23: 20, 28: 19, 20: 18, 37: 17, 26: 17, 32: 16, 30: 15, 35: 14, 38: 13, 43: 13, 34: 13, 29: 13, 27: 12, 48: 12, 76: 11, 33: 10, 44: 10, 40: 9, 51: 9, 36: 8, 60: 8, 46: 8, 74: 8, 47: 8, 73: 8, 58: 8, 112: 7, 50: 7, 42: 7, 61: 7, 39: 7, 55: 7, 56: 7, 77: 6, 68: 6, 52: 6, 54: 6, 105: 6, 145: 6, 88: 6, 41: 6, 90: 5, 101: 5, 64: 5, 119: 5, 45: 5, 72: 5, 106: 5, 80: 4, 134: 4, 185: 4, 128: 4, 118: 4, 111: 4, 57: 4, 150: 4, 116: 4, 199: 4, 139: 4, 62: 4, 132: 4, 100: 4, 53: 4, 59: 4, 103: 4, 98: 4, 92: 4, 63: 4, 102: 3, 171: 3, 86: 3, 124: 3, 94: 3, 166: 3, 71: 3, 122: 3, 168: 3, 81: 3, 229: 3, 91: 3, 113: 3, 146: 3, 404: 3, 96: 3, 292: 3, 147: 3, 127: 3, 144: 3, 141: 3, 69: 3, 131: 2, 921: 2, 181: 2, 254: 2, 880: 2, 371: 2, 321: 2, 104: 2, 67: 2, 205: 2, 153: 2, 207: 2, 120: 2, 953: 2, 143: 2, 155: 2, 70: 2, 79: 2, 180: 2, 246: 2, 346: 2, 164: 2, 165: 2, 890: 2, 390: 2, 175: 2, 121: 2, 84: 2, 89: 2, 130: 2, 66: 2, 483: 2, 363: 2, 182: 2, 174: 2, 109: 2, 1275: 2, 83: 2, 372: 2, 202: 2, 184: 2, 196: 2, 222: 2, 135: 2, 1171: 2, 65: 2, 211: 2, 136: 2, 75: 2, 240: 2, 621: 2, 265: 2, 325: 1, 283: 1, 3351: 1, 126: 1, 854: 1, 554: 1, 1687: 1, 2218: 1, 1792: 1, 2001: 1, 1561: 1, 1191: 1, 236: 1, 1801: 1, 2530: 1, 2488: 1, 1637: 1, 702: 1, 2790: 1, 2007: 1, 622: 1, 452: 1, 215: 1, 307: 1, 3036: 1, 261: 1, 318: 1, 1298: 1, 2149: 1, 203: 1, 2669: 1, 206: 1, 2587: 1, 2442: 1, 395: 1, 99: 1, 813: 1, 378: 1, 345: 1, 49: 1, 2447: 1, 1932: 1, 3782: 1, 433: 1, 201: 1, 194: 1, 605: 1, 5590: 1, 1530: 1, 1377: 1, 847: 1, 2888: 1, 1340: 1, 1024: 1, 634: 1, 715: 1, 262: 1, 162: 1, 173: 1, 1625: 1, 1152: 1, 1324: 1, 195: 1, 2901: 1, 520: 1, 425: 1, 2728: 1, 3521: 1, 1829: 1, 3515: 1, 426: 1, 238: 1, 420: 1, 466: 1, 148: 1, 1786: 1, 458: 1, 332: 1, 646: 1, 270: 1, 1012: 1, 190: 1, 295: 1, 1341: 1, 264: 1, 235: 1, 183: 1, 154: 1, 3845: 1, 178: 1, 1772: 1, 160: 1, 1167: 1, 227: 1, 1037: 1, 2286: 1, 3688: 1, 682: 1, 915: 1, 4155: 1, 1096: 1, 308: 1, 1251: 1, 193: 1, 2056: 1, 2305: 1, 499: 1, 1099: 1, 224: 1, 3098: 1, 434: 1, 276: 1, 78: 1, 114: 1, 176: 1, 239: 1, 455: 1, 1589: 1, 380: 1, 1809: 1, 465: 1, 1163: 1, 1763: 1, 342: 1, 316: 1, 1406: 1, 1222: 1, 2557: 1, 97: 1, 524: 1, 187: 1, 208: 1, 1719: 1, 95: 1, 123: 1, 110: 1, 360: 1, 1493: 1, 260: 1, 957: 1, 1203: 1, 322: 1, 609: 1, 1478: 1, 2986: 1, 170: 1, 392: 1, 221: 1, 3796: 1, 3834: 1, 1770: 1, 990: 1, 2644: 1, 429: 1, 566: 1, 151: 1, 822: 1, 2058: 1, 507: 1, 3109: 1, 614: 1, 1595: 1, 2500: 1, 901: 1, 695: 1, 2394: 1, 545: 1, 347: 1, 317: 1, 129: 1, 3292: 1, 544: 1, 251: 1, 1508: 1, 1277: 1, 607: 1, 1368: 1, 645: 1, 370: 1, 532: 1, 2291: 1, 218: 1, 197: 1, 1061: 1, 232: 1, 125: 1, 140: 1, 204: 1, 831: 1, 898: 1, 1697: 1, 569: 1, 848: 1, 1050: 1, 3432: 1, 529: 1, 1778: 1, 405: 1, 1316: 1, 655: 1, 1451: 1, 304: 1, 298: 1, 767: 1, 1475: 1, 418: 1, 2704: 1, 749: 1, 896: 1, 266: 1, 445: 1, 279: 1, 763: 1, 209: 1, 955: 1, 267: 1, 225: 1, 691: 1, 341: 1, 1372: 1, 157: 1, 1244: 1, 241: 1, 3630: 1, 152: 1, 259: 1, 1981: 1, 169: 1, 865: 1, 2121: 1, 368: 1, 811: 1, 1399: 1, 247: 1, 179: 1, 377: 1, 337: 1, 272: 1, 473: 1, 352: 1, 379: 1, 644: 1, 2917: 1, 485: 1, 540: 1, 862: 1, 1091: 1, 1578: 1, 1733: 1, 3296: 1, 1025: 1, 284: 1, 291: 1, 2318: 1, 841: 1, 954: 1, 2766: 1, 275: 1, 159: 1, 115: 1, 518: 1, 1400: 1, 217: 1, 306: 1, 636: 1, 904: 1, 1354: 1, 463: 1, 3664: 1, 107: 1, 1202: 1, 282: 1, 163: 1, 385: 1, 85: 1, 2471: 1, 305: 1, 381: 1, 1803: 1, 391: 1, 720: 1, 1128: 1, 142: 1, 523: 1, 301: 1, 167: 1, 297: 1, 323: 1, 647: 1, 453: 1, 1631: 1})\n"
     ]
    }
   ],
   "source": [
    "counter = collections.Counter(ranks)\n",
    "print(counter)"
   ]
  },
  {
   "cell_type": "code",
   "execution_count": 40,
   "metadata": {},
   "outputs": [
    {
     "name": "stdout",
     "output_type": "stream",
     "text": [
      "Test Document (2079): «vários integrantes fed veem possível necessidade redução acelerada estímulos alta antecipada juros»\n",
      "\n",
      "SIMILAR/DISSIMILAR DOCS PER MODEL Doc2Vec(dm/m,d512,n5,w5,mc2,s0.001,t3):\n",
      "\n",
      "MOST (2292, 0.9113282561302185): «racionamento via preço alta bandeira conta luz vai pesar bolso»\n",
      "\n",
      "MEDIAN (562, 0.37572211027145386): «drogasil droga raia vendem vacinas contra covid»\n",
      "\n",
      "LEAST (6608, -0.7515763640403748): «antiga reportagem globo desaconselhando uso máscaras»\n",
      "\n"
     ]
    }
   ],
   "source": [
    "# Pick a random document from the test corpus and infer a vector from the model\n",
    "doc_id = random.randint(0, len(test_corpus1) - 1)\n",
    "inferred_vector = model1.infer_vector(test_corpus1[doc_id])\n",
    "sims = model1.dv.most_similar([inferred_vector], topn=len(model1.dv))\n",
    "\n",
    "# Compare and print the most/median/least similar documents from the train corpus\n",
    "print('Test Document ({}): «{}»\\n'.format(doc_id, ' '.join(test_corpus1[doc_id])))\n",
    "#print('Document ({}): «{}»\\n'.format(doc_id, ' '.join(train_corpus[doc_id].words)))\n",
    "print(u'SIMILAR/DISSIMILAR DOCS PER MODEL %s:\\n' % model1)\n",
    "for label, index in [('MOST', 0), ('MEDIAN', len(sims)//2), ('LEAST', len(sims) - 1)]:\n",
    "    print(u'%s %s: «%s»\\n' % (label, sims[index], ' '.join(train_corpus1[sims[index][0]].words)))\n",
    "    vector = model1.infer_vector(['only', 'you', 'can', 'prevent', 'forest', 'fires'])"
   ]
  },
  {
   "cell_type": "markdown",
   "metadata": {},
   "source": [
    "## Conjunto Corpus"
   ]
  },
  {
   "cell_type": "code",
   "execution_count": 41,
   "metadata": {},
   "outputs": [],
   "source": [
    "def read_corpus(fname, tokens_only=False):\n",
    "    with smart_open.open(fname, encoding=\"utf-8\") as f:\n",
    "        for i, line in enumerate(f):\n",
    "            tokens = gensim.utils.simple_preprocess(line)\n",
    "            if tokens_only:\n",
    "                yield tokens\n",
    "            else:\n",
    "                # For training data, add tags\n",
    "                yield gensim.models.doc2vec.TaggedDocument(tokens, [i])\n",
    "\n",
    "train_corpus2 = list(read_corpus('../data/TreinoScrapy'))\n",
    "test_corpus2 = list(read_corpus('../data/TesteScrapy', tokens_only=True))"
   ]
  },
  {
   "cell_type": "code",
   "execution_count": 42,
   "metadata": {},
   "outputs": [
    {
     "name": "stdout",
     "output_type": "stream",
     "text": [
      "[TaggedDocument(words=['title'], tags=[0]), TaggedDocument(words=['defesa', 'lula', 'pede', 'stj', 'impedir', 'prisao', 'lula', 'condenado', 'anos', 'mes', 'tribunal', 'decidiu', 'pena', 'cumprida', 'nao', 'possibilidade', 'recurso', 'corte', 'defesa', 'diz', 'medida', 'contraria', 'defesa', 'luiz', 'inacio', 'lula', 'silva', 'apresentou', 'nesta', 'superior', 'tribunal', 'justica', 'stj', 'habeas', 'corpus', 'pediu', 'lula', 'impedido', 'ser', 'preso', 'semana', 'passada', 'tribunal', 'regional', 'federal', 'regiao', 'responsavel', 'processos', 'lava', 'jato', 'segunda', 'instancia', 'condenou', 'lula', 'anos', 'mes', 'regime', 'inicialmente', 'fechado', 'desembargadores', 'decidiram', 'ainda', 'pena', 'devera', 'ser', 'cumprida', 'nao', 'possibilidade', 'recurso', 'corte', 'leia', 'detalhes', 'sobre', 'decisao', 'abaixo', 'acao', 'apresentada', 'stj', 'advogados', 'lula', 'argumentam', 'execucao', 'pena', 'apos', 'condenacao', 'segunda', 'instancia', 'contraria', 'constituicao', 'parte', 'diz', 'ninguem', 'sera', 'considerado', 'culpado', 'ate', 'transito', 'julgado', 'sentenca', 'penal', 'condenatoria', 'defesa', 'tambem', 'fundamenta', 'pedido', 'base', 'codigo', 'penal', 'preve', 'somente', 'prisao', 'preventiva', 'apos', 'sentenca', 'condenatoria', 'transitada', 'julgado', 'alegacao', 'advogados', 'lula', 'somente', 'apos', 'esgotados', 'todos', 'recursos', 'inclusive', 'instancias', 'superiores', 'stj', 'supremo', 'tribunal', 'federal', 'condenado', 'pode', 'comecar', 'cumprir', 'pena', 'advogados', 'tambem', 'chamam', 'atencao', 'situacao', 'politica', 'envolvendo', 'lula', 'mesma', 'acao', 'defesa', 'tambem', 'defende', 'necessidade', 'afastar', 'situacao', 'inelegibilidade', 'lula', 'apos', 'condenacao', 'lei', 'ficha', 'limpa', 'proibe', 'alguem', 'condenado', 'colegiado', 'concorrer', 'eleicoes', 'preve', 'possibilidade', 'stj', 'liberar', 'candidatura', 'liminar', 'habeas', 'corpus', 'inclui', 'pedido', 'decisao', 'liminar', 'provisoria', 'geral', 'concedida', 'maneira', 'rapida', 'unico', 'ministro', 'stj', 'recesso', 'acao', 'vai', 'ser', 'examinada', 'primeiro', 'corte', 'humberto', 'martins', 'plantao', 'casos', 'urgentes', 'relator', 'caso', 'sera', 'ministro', 'felix', 'fischer', 'posteriormente', 'acao', 'sera', 'analisada', 'conjunto', 'profundidade', 'cinco', 'ministros', 'quinta', 'turma', 'felix', 'fischer', 'relator', 'acao', 'jorge', 'mussi', 'reynaldo', 'soares', 'fonseca', 'marcelo', 'navarro', 'ribeiro', 'dantas', 'joel', 'ilan', 'paciornik', 'duas', 'teses', 'apresentadas', 'defesa', 'lula', 'ja', 'analisadas', 'stf', 'maioria', 'ministros', 'entendeu', 'ser', 'possivel', 'execucao', 'pena', 'apos', 'condenacao', 'segunda', 'instancia', 'sob', 'argumento', 'apos', 'etapa', 'nao', 'ha', 'duvidas', 'sobre', 'fatos', 'provas', 'processo', 'penal', 'defesa', 'lula', 'entanto', 'argumenta', 'tal', 'entendimento', 'stf', 'nao', 'vinculante', 'nao', 'obriga', 'demais', 'tribunais', 'epoca', 'decisoes', 'plenario', 'stf', 'permitiram', 'execucao', 'pena', 'nao', 'obrigaram', 'tribunais', 'segunda', 'instancia', 'decretar', 'prisao', 'apos', 'condenacao', 'semana', 'passada', 'unanimidade', 'tres', 'desembargadores', 'turma', 'mantiveram', 'condenacao', 'lula', 'corrupcao', 'lavagem', 'caso', 'triplex', 'guaruja', 'sp', 'entendimento', 'desembargadores', 'recebeu', 'apartamento', 'oas', 'retribuicao', 'contratos', 'assinados', 'empresa', 'petrobras', 'desde', 'inicio', 'investigacoes', 'lula', 'negado', 'acusacao', 'afirmado', 'ser', 'inocente', 'analisar', 'caso', 'turma', 'aumentou', 'pena', 'anteriormente', 'imposta', 'lula', 'juiz', 'sergio', 'moro', 'anos', 'meio', 'anos', 'prisao', 'decisao', 'colegiado', 'tambem', 'determinou', 'prisao', 'lula', 'ressalvando', 'so', 'podera', 'cumprida', 'apos', 'julgamento', 'recurso', 'proprio', 'chamado', 'embargos', 'declaracao', 'tal', 'apelacao', 'nao', 'poder', 'inocentar', 'serve', 'somente', 'esclarecer', 'duvidas', 'sobre', 'acordao', 'sentenca'], tags=[1])]\n"
     ]
    }
   ],
   "source": [
    "print(train_corpus[:2])"
   ]
  },
  {
   "cell_type": "code",
   "execution_count": 43,
   "metadata": {},
   "outputs": [],
   "source": [
    "model2 = gensim.models.doc2vec.Doc2Vec(vector_size=512, min_count=2, epochs=40)"
   ]
  },
  {
   "cell_type": "code",
   "execution_count": 44,
   "metadata": {},
   "outputs": [],
   "source": [
    "model2.build_vocab(train_corpus2)"
   ]
  },
  {
   "cell_type": "code",
   "execution_count": 45,
   "metadata": {},
   "outputs": [
    {
     "name": "stdout",
     "output_type": "stream",
     "text": [
      "Word 'brasil' appeared 445 times in the training corpus.\n"
     ]
    }
   ],
   "source": [
    "print(f\"Word 'brasil' appeared {model2.wv.get_vecattr('brasil', 'count')} times in the training corpus.\")\n"
   ]
  },
  {
   "cell_type": "code",
   "execution_count": 46,
   "metadata": {},
   "outputs": [],
   "source": [
    "model2.train(train_corpus2, total_examples=model2.corpus_count, epochs=model2.epochs)"
   ]
  },
  {
   "cell_type": "code",
   "execution_count": 47,
   "metadata": {},
   "outputs": [
    {
     "name": "stdout",
     "output_type": "stream",
     "text": [
      "[ 3.32908854e-02 -1.47606442e-02 -1.14893634e-02  3.59035172e-02\n",
      "  6.34432165e-03  5.17943203e-02  2.59023495e-02  2.28714924e-02\n",
      "  1.63237529e-03  3.52580808e-02  2.91213635e-02 -5.09290863e-03\n",
      "  7.30389282e-02 -5.61467707e-02  1.52186928e-02  1.14238141e-02\n",
      " -6.01922162e-03  2.89606936e-02 -5.36276251e-02 -1.69585440e-02\n",
      "  1.89644452e-02  2.26737931e-02  1.32211028e-02 -1.74763182e-03\n",
      " -3.33928950e-02  3.52113284e-02  8.64809565e-03  1.00605655e-02\n",
      "  1.32771106e-02 -1.27720237e-02  1.77503154e-02 -5.97557425e-03\n",
      " -1.45916454e-02 -2.37897504e-02 -5.41951368e-03  7.28039071e-03\n",
      " -1.75052509e-02 -2.61894055e-02  4.04546503e-03 -2.31262986e-02\n",
      " -1.53929777e-02  1.12720877e-02 -1.64415967e-02 -8.25448520e-03\n",
      "  6.54863268e-02  7.80401984e-03 -1.09928707e-02  5.25161065e-02\n",
      "  4.28578183e-02 -2.30595260e-03 -7.57575408e-03  1.70062378e-03\n",
      " -1.10855175e-03  3.48681919e-02 -8.56575295e-02 -5.75608760e-02\n",
      "  4.64048311e-02 -4.82987128e-02 -4.65117302e-03  3.45689170e-02\n",
      "  6.06377702e-03  2.29559708e-02 -1.27847521e-02  4.17323336e-02\n",
      "  4.43216003e-02 -2.26534270e-02 -3.36680003e-03  2.16908543e-03\n",
      "  1.80286784e-02  8.92611872e-03  4.18844819e-03  8.12367629e-03\n",
      " -4.78445254e-02 -2.90144794e-02  1.36308395e-03 -9.77837201e-03\n",
      "  4.99114729e-02 -4.46857177e-02  1.89269762e-02 -3.75839416e-03\n",
      "  3.09033934e-02 -9.13155638e-03  3.86396103e-04  1.81154422e-02\n",
      " -1.77355409e-02  4.08874080e-02  1.61551889e-02 -6.46236353e-03\n",
      " -4.64919545e-02  4.91081178e-02 -9.52920038e-03 -6.72919163e-03\n",
      " -3.32103744e-02 -7.67337158e-02  9.25300084e-03 -8.95093754e-03\n",
      " -2.42731627e-02  1.08595639e-02 -1.48897828e-03  8.87915306e-03\n",
      " -4.21949364e-02 -9.10115987e-03 -3.08470931e-02 -1.60179790e-02\n",
      "  2.28208620e-02  3.61129467e-04 -1.32140303e-02  1.22140059e-02\n",
      "  5.84738627e-02  1.03899548e-02  4.10714149e-02 -4.95148785e-02\n",
      "  2.35982668e-02  3.23051922e-02 -5.31649636e-03  1.79363843e-02\n",
      "  2.27616653e-02  5.16156591e-02 -4.00898978e-03 -7.48605002e-03\n",
      " -5.64691313e-02 -2.43152622e-02  6.29424991e-04 -3.78749482e-02\n",
      " -3.30635123e-02 -9.24556702e-03 -5.08162491e-02 -7.20865850e-04\n",
      "  1.26881292e-02  2.74033248e-02 -4.87973355e-02  5.24743134e-03\n",
      "  3.66602950e-02  5.64023794e-04  2.66279802e-02 -1.35311410e-02\n",
      " -2.30648797e-02  1.07794199e-02 -5.58482025e-05 -1.47375697e-02\n",
      " -1.32010533e-02 -5.14908170e-05 -4.89174528e-03  3.78435999e-02\n",
      " -3.39277834e-02 -5.53701073e-02  9.99713037e-03 -2.24844855e-03\n",
      "  3.95857319e-02  2.36650202e-02  6.97230874e-03 -7.58028999e-02\n",
      " -6.97394321e-03  1.78812519e-02 -4.42281999e-02  1.06154839e-02\n",
      "  5.51734380e-02  1.84739884e-02 -7.30903596e-02 -7.72192189e-03\n",
      "  3.21458653e-02  2.47357618e-02 -2.44668708e-03 -4.12778743e-02\n",
      "  1.71762910e-02  2.85721067e-02 -2.55489573e-02 -1.24192215e-03\n",
      "  5.12184203e-02  1.84102450e-02 -4.97431355e-03 -6.56083925e-03\n",
      " -1.95845403e-02 -2.82412767e-03 -4.41341661e-02 -4.17230800e-02\n",
      "  2.08596122e-02  1.90722812e-02  6.41600341e-02 -2.56146993e-02\n",
      "  1.34591032e-02 -5.77262007e-02  5.76294446e-03 -1.00961357e-01\n",
      "  9.88440309e-03 -2.84164604e-02 -5.89267500e-02 -5.69594242e-02\n",
      " -2.55193338e-02  1.62955597e-02 -3.19340546e-03 -4.97704111e-02\n",
      "  2.61396542e-02 -3.02701201e-02 -1.69120282e-02  2.24763434e-02\n",
      "  2.22269855e-02 -5.25933504e-02 -2.84842756e-02  2.65608542e-02\n",
      " -3.35492417e-02 -6.60093594e-03  2.61397436e-02 -1.09936781e-02\n",
      "  1.37888910e-02  2.64482610e-02 -5.24473935e-02  1.77353844e-02\n",
      " -1.55143896e-02  1.22931823e-02 -1.53041380e-02  3.25693488e-02\n",
      "  5.37273400e-02 -4.54938486e-02 -3.12280692e-02  3.67333852e-02\n",
      " -6.42979238e-03  2.21823938e-02 -3.91957611e-02  2.62496453e-02\n",
      " -3.68735418e-02 -1.65383075e-03  2.20004749e-02 -2.89962720e-03\n",
      "  6.74465066e-03 -1.55776720e-02  3.45375505e-03 -1.43337133e-03\n",
      "  6.28898945e-03 -3.08347382e-02 -4.62094098e-02 -8.29414353e-02\n",
      "  1.91947911e-02 -3.89429368e-02 -3.13563161e-02  3.82042713e-02\n",
      "  4.78297547e-02  1.04535045e-02 -1.76676735e-02  9.47104581e-03\n",
      " -7.51523767e-03  1.68480314e-02 -8.29316024e-03  1.40593955e-02\n",
      " -8.66812374e-03  4.53956611e-02  4.80584987e-03 -1.36970729e-02\n",
      " -4.66333069e-02 -2.24806946e-02 -1.45531883e-02  1.98961031e-02\n",
      "  7.48053833e-04 -2.78771203e-02 -4.69100811e-02  4.97419387e-02\n",
      " -4.89219166e-02 -2.42441781e-02  2.54922304e-02  5.71422838e-02\n",
      "  6.66502863e-02 -3.92016172e-02  2.76228040e-02 -7.88370613e-03\n",
      " -4.83707339e-02  8.95505864e-03 -3.01596615e-02  2.70945448e-02\n",
      "  1.33261951e-02 -1.35884737e-03  7.94351567e-03  6.24427274e-02\n",
      " -6.73041400e-03 -2.89725065e-02 -7.31688887e-02  3.98373082e-02\n",
      " -2.49007065e-02 -5.13140624e-03 -9.84908827e-03 -2.51563005e-02\n",
      " -3.57858688e-02  3.49033698e-02 -6.17737509e-03 -5.45377396e-02\n",
      " -2.92798672e-02  2.90443935e-02 -4.99608042e-03  3.00869066e-02\n",
      "  3.19015570e-02  7.58123910e-03 -7.24191358e-03  2.82312185e-02\n",
      "  5.02841622e-02 -2.94290632e-02  1.22005716e-02 -9.58715659e-03\n",
      "  3.36652771e-02  3.05988230e-02  6.56048954e-02 -4.23792601e-02\n",
      "  3.63322906e-02 -3.32604907e-03 -5.16372034e-04 -2.78974660e-02\n",
      "  9.14637372e-03 -1.77131742e-02  1.10330470e-02  5.18384278e-02\n",
      "  1.07584652e-02  2.60898117e-02 -3.68964225e-02 -2.70659588e-02\n",
      " -5.44345565e-02  1.89494919e-02 -2.03922186e-02  2.28151027e-02\n",
      " -4.93807793e-02 -2.66468450e-02  1.35911368e-02 -5.39432804e-04\n",
      "  9.78944078e-03 -1.25317019e-03 -5.12361294e-03  5.52243814e-02\n",
      " -2.33669523e-02 -1.84150375e-02  4.05572578e-02 -7.07315281e-03\n",
      " -5.65150455e-02 -3.27922590e-02  3.39487046e-02 -1.56573169e-02\n",
      " -4.73545119e-02 -9.81893111e-03  2.56544445e-02  3.63384187e-02\n",
      " -3.95044573e-02 -5.48004098e-02  3.67726646e-02  4.90245633e-02\n",
      " -1.78802293e-02  4.51057293e-02  2.22313050e-02 -3.88544388e-02\n",
      "  6.47392450e-03 -5.41489804e-03  3.16343792e-02  3.98875726e-03\n",
      " -1.32922567e-02  3.27101052e-02 -2.69171363e-03  7.76204793e-03\n",
      " -5.96928708e-02 -6.70485124e-02 -2.33030058e-02 -1.68373697e-02\n",
      " -1.54340384e-03 -4.27081324e-02  1.12478749e-03  2.75228508e-02\n",
      "  2.75308322e-02 -7.17979390e-03  2.56977603e-02  7.08250701e-03\n",
      "  1.07213566e-02  4.03440036e-02 -4.74351309e-02 -4.80285892e-03\n",
      "  2.46124081e-02 -2.94163655e-02  1.50065580e-02  1.11394664e-02\n",
      "  3.48677039e-02 -1.54949445e-02  4.02458496e-02  1.58454049e-02\n",
      "  3.66310105e-02 -5.14957197e-02  3.84975187e-02  7.50235748e-03\n",
      "  9.87704261e-05  3.23457271e-02  1.01676852e-01  4.98601310e-02\n",
      "  5.97969862e-03 -3.91545482e-02  4.05072570e-02  2.09563039e-02\n",
      " -3.08205597e-02  1.08492319e-02 -2.64130011e-02  1.60220098e-02\n",
      "  2.39014104e-02 -2.09171395e-03  4.94776331e-02 -2.07126867e-02\n",
      " -3.05192005e-02 -2.64874846e-02  2.93602999e-02  1.21587394e-02\n",
      " -8.20409209e-02  2.68381089e-02 -3.79332644e-03 -3.46487318e-03\n",
      "  3.85060385e-02  3.15733603e-03 -4.54706177e-02 -1.56941656e-02\n",
      " -4.47175540e-02 -1.48168840e-02 -2.55306922e-02  2.27856264e-02\n",
      " -9.65439063e-03  9.89228301e-03  2.76607350e-02 -1.41852926e-02\n",
      "  9.49936658e-02 -4.04372951e-03  4.17504087e-02  3.49668227e-02\n",
      "  1.78753864e-02 -1.49015300e-02 -7.95181282e-03  2.78753340e-02\n",
      "  5.62897464e-03 -2.84509826e-02 -8.13601725e-03 -1.04831690e-02\n",
      "  5.10861613e-02 -5.45764063e-03 -1.18606472e-02  2.97331810e-02\n",
      " -6.00282662e-03 -3.24055515e-02  7.61717558e-02  1.05552655e-02\n",
      "  2.12099757e-02 -1.93966385e-02 -1.41037619e-02  4.25319895e-02\n",
      "  9.11883917e-03  5.67860901e-03 -9.95707233e-03 -2.53893640e-02\n",
      " -4.08142097e-02 -2.15469133e-02  3.36536914e-02  4.90225889e-02\n",
      "  6.09893501e-02  1.72069040e-03  3.89563031e-02 -5.23610413e-02\n",
      "  1.01690982e-02 -4.67096232e-02 -7.62491580e-03 -5.42200878e-02\n",
      " -4.29707021e-02 -4.03215550e-03  3.45251262e-02 -4.23661694e-02\n",
      " -1.08603053e-02 -2.04867702e-02 -2.60734335e-02 -4.71387580e-02\n",
      " -1.87322889e-02 -2.46496852e-02  4.80896756e-02 -3.83737194e-03\n",
      "  3.05152200e-02  7.63913989e-02  5.09872660e-02 -1.10618118e-02\n",
      "  2.97301710e-02  4.67062443e-02  2.88672298e-02  4.28799391e-02\n",
      "  1.89498290e-02  4.28350829e-02 -1.71017870e-02  7.57484464e-03\n",
      " -4.46235575e-03 -3.60740982e-02 -1.50143541e-02  4.46773954e-02\n",
      " -4.19891141e-02  3.57468128e-02  3.61034721e-02  3.68102677e-02\n",
      " -1.44731058e-02  7.91103207e-03  1.73901021e-03 -4.34316928e-03\n",
      " -4.05717045e-02 -2.77786236e-03 -2.24543493e-02 -5.31019643e-03\n",
      " -8.69530067e-03  3.73786464e-02  2.21830960e-02  1.03718815e-02\n",
      "  4.58425097e-02 -2.55149696e-02  2.98506562e-02  3.06748599e-02\n",
      "  7.46226683e-03  2.44654510e-02 -1.48211466e-02  3.49567346e-02\n",
      " -3.20160203e-02 -1.68922655e-02 -1.57986209e-02 -3.90719622e-02]\n"
     ]
    }
   ],
   "source": [
    "vector = model2.infer_vector(['brasil', 'you', 'can', 'prevent', 'forest', 'fires'])\n",
    "print(vector)"
   ]
  },
  {
   "cell_type": "code",
   "execution_count": 48,
   "metadata": {},
   "outputs": [],
   "source": [
    "ranks = []\n",
    "second_ranks = []\n",
    "for doc_id in range(len(train_corpus2)):\n",
    "    inferred_vector = model2.infer_vector(train_corpus2[doc_id].words)\n",
    "    sims = model2.dv.most_similar([inferred_vector], topn=len(model2.dv))\n",
    "    rank = [docid for docid, sim in sims].index(doc_id)\n",
    "    ranks.append(rank)\n",
    "\n",
    "    second_ranks.append(sims[1])"
   ]
  },
  {
   "cell_type": "code",
   "execution_count": 49,
   "metadata": {},
   "outputs": [
    {
     "name": "stdout",
     "output_type": "stream",
     "text": [
      "Counter({0: 3645, 1: 685, 2: 335, 3: 197, 4: 157, 5: 103, 6: 99, 8: 74, 7: 70, 12: 65, 10: 63, 9: 57, 11: 46, 13: 42, 18: 37, 14: 35, 16: 33, 17: 31, 15: 30, 20: 29, 21: 23, 22: 23, 29: 23, 30: 22, 23: 22, 24: 19, 19: 19, 28: 16, 37: 16, 25: 16, 40: 14, 44: 13, 43: 13, 42: 13, 27: 13, 26: 12, 34: 12, 32: 12, 31: 12, 35: 12, 39: 11, 36: 11, 48: 11, 49: 11, 45: 11, 38: 10, 33: 10, 50: 10, 41: 9, 69: 9, 87: 9, 46: 8, 52: 8, 56: 8, 47: 7, 73: 7, 76: 7, 63: 7, 70: 7, 75: 7, 86: 6, 84: 6, 57: 6, 54: 6, 51: 6, 59: 6, 94: 5, 72: 5, 101: 5, 83: 5, 122: 5, 68: 5, 53: 5, 99: 4, 61: 4, 204: 4, 173: 4, 65: 4, 161: 4, 77: 4, 91: 4, 64: 4, 58: 4, 66: 4, 354: 4, 116: 3, 478: 3, 209: 3, 109: 3, 241: 3, 136: 3, 166: 3, 138: 3, 172: 3, 60: 3, 102: 3, 208: 3, 55: 3, 88: 3, 80: 3, 142: 3, 74: 3, 137: 3, 97: 3, 385: 3, 184: 3, 134: 3, 62: 3, 85: 3, 108: 3, 187: 3, 107: 3, 165: 3, 112: 3, 154: 3, 81: 2, 181: 2, 111: 2, 393: 2, 129: 2, 2104: 2, 180: 2, 230: 2, 96: 2, 186: 2, 121: 2, 133: 2, 1243: 2, 1042: 2, 282: 2, 292: 2, 82: 2, 132: 2, 2503: 2, 275: 2, 149: 2, 113: 2, 203: 2, 163: 2, 325: 2, 92: 2, 295: 2, 270: 2, 98: 2, 151: 2, 125: 2, 345: 2, 148: 2, 162: 2, 78: 2, 263: 2, 93: 2, 197: 2, 183: 2, 158: 2, 290: 2, 115: 2, 271: 2, 105: 2, 123: 2, 312: 2, 182: 2, 71: 2, 157: 2, 143: 2, 146: 2, 79: 2, 338: 2, 2043: 2, 228: 2, 176: 2, 206: 2, 200: 2, 319: 2, 304: 2, 259: 2, 103: 2, 268: 1, 195: 1, 1211: 1, 1477: 1, 908: 1, 3653: 1, 1469: 1, 3433: 1, 110: 1, 2371: 1, 1553: 1, 1578: 1, 3539: 1, 2512: 1, 459: 1, 215: 1, 529: 1, 1734: 1, 90: 1, 1455: 1, 3514: 1, 3656: 1, 2807: 1, 2318: 1, 253: 1, 164: 1, 977: 1, 267: 1, 983: 1, 597: 1, 2091: 1, 4495: 1, 1476: 1, 4577: 1, 346: 1, 409: 1, 337: 1, 4670: 1, 348: 1, 3624: 1, 2460: 1, 1174: 1, 1681: 1, 144: 1, 207: 1, 1632: 1, 3162: 1, 256: 1, 1966: 1, 2236: 1, 699: 1, 1879: 1, 210: 1, 2058: 1, 616: 1, 558: 1, 1301: 1, 2004: 1, 452: 1, 179: 1, 343: 1, 487: 1, 2300: 1, 205: 1, 239: 1, 513: 1, 2620: 1, 213: 1, 594: 1, 3747: 1, 274: 1, 329: 1, 170: 1, 139: 1, 799: 1, 358: 1, 4560: 1, 124: 1, 1390: 1, 888: 1, 2495: 1, 190: 1, 911: 1, 1654: 1, 607: 1, 414: 1, 418: 1, 1004: 1, 3153: 1, 2891: 1, 743: 1, 341: 1, 869: 1, 1126: 1, 331: 1, 3118: 1, 1394: 1, 126: 1, 339: 1, 713: 1, 619: 1, 3246: 1, 240: 1, 401: 1, 3473: 1, 2576: 1, 878: 1, 193: 1, 2364: 1, 297: 1, 2015: 1, 198: 1, 284: 1, 877: 1, 2906: 1, 502: 1, 1188: 1, 2441: 1, 2351: 1, 226: 1, 2121: 1, 844: 1, 283: 1, 2031: 1, 221: 1, 987: 1, 106: 1, 893: 1, 316: 1, 1057: 1, 2264: 1, 332: 1, 199: 1, 2553: 1, 433: 1, 1989: 1, 1036: 1, 301: 1, 1644: 1, 191: 1, 813: 1, 2444: 1, 591: 1, 701: 1, 359: 1, 119: 1, 3858: 1, 604: 1, 1307: 1, 224: 1, 715: 1, 1513: 1, 1934: 1, 4052: 1, 299: 1, 67: 1, 2962: 1, 629: 1, 481: 1, 100: 1, 334: 1, 276: 1, 150: 1, 1649: 1, 793: 1, 447: 1, 135: 1, 155: 1, 140: 1, 89: 1, 769: 1, 547: 1, 914: 1, 1712: 1, 407: 1, 579: 1, 95: 1, 915: 1, 381: 1, 774: 1, 718: 1, 1096: 1, 279: 1, 1580: 1, 1291: 1, 1799: 1, 251: 1, 490: 1, 1079: 1, 2767: 1, 1657: 1, 398: 1, 587: 1, 3124: 1, 1973: 1, 620: 1, 535: 1, 838: 1, 949: 1, 322: 1, 1705: 1, 1220: 1, 437: 1, 1066: 1, 349: 1, 232: 1, 3169: 1, 192: 1, 850: 1, 362: 1, 218: 1, 1404: 1, 371: 1, 1190: 1, 1926: 1, 2792: 1, 1527: 1, 429: 1, 882: 1, 586: 1, 118: 1, 2593: 1, 214: 1, 308: 1, 1800: 1, 1730: 1, 750: 1, 3368: 1, 461: 1, 2046: 1, 366: 1, 475: 1, 884: 1, 543: 1, 3403: 1, 177: 1, 2572: 1, 777: 1, 5298: 1, 1244: 1, 233: 1, 238: 1, 1538: 1, 420: 1, 1176: 1, 2087: 1, 519: 1, 3554: 1, 2288: 1, 595: 1, 3574: 1, 646: 1, 145: 1, 1651: 1, 783: 1, 744: 1, 1565: 1, 1045: 1, 2209: 1, 245: 1, 104: 1, 3991: 1, 667: 1, 160: 1, 351: 1, 300: 1, 2223: 1, 188: 1, 2706: 1, 416: 1, 1488: 1, 657: 1, 451: 1, 344: 1, 194: 1, 1221: 1, 1326: 1, 485: 1, 4772: 1})\n"
     ]
    }
   ],
   "source": [
    "counter = collections.Counter(ranks)\n",
    "print(counter)"
   ]
  },
  {
   "cell_type": "code",
   "execution_count": 50,
   "metadata": {},
   "outputs": [
    {
     "name": "stdout",
     "output_type": "stream",
     "text": [
      "Test Document (406): «covid acentua crise setor hemodiálise mil brasileiros correm risco tratamento»\n",
      "\n",
      "SIMILAR/DISSIMILAR DOCS PER MODEL Doc2Vec(dm/m,d512,n5,w5,mc2,s0.001,t3):\n",
      "\n",
      "MOST (1766, 0.8678991794586182): «não dados comprovem fechamento mil empresas argentinas pandemia»\n",
      "\n",
      "MEDIAN (949, 0.25983065366744995): «fato fake retrospectiva»\n",
      "\n",
      "LEAST (6217, -0.7099334597587585): «lula recebido gritos pedindo cadeia feira paraguai»\n",
      "\n"
     ]
    }
   ],
   "source": [
    "# Pick a random document from the test corpus and infer a vector from the model\n",
    "doc_id = random.randint(0, len(test_corpus2) - 1)\n",
    "inferred_vector = model2.infer_vector(test_corpus2[doc_id])\n",
    "sims = model2.dv.most_similar([inferred_vector], topn=len(model2.dv))\n",
    "\n",
    "# Compare and print the most/median/least similar documents from the train corpus\n",
    "print('Test Document ({}): «{}»\\n'.format(doc_id, ' '.join(test_corpus2[doc_id])))\n",
    "#print('Document ({}): «{}»\\n'.format(doc_id, ' '.join(train_corpus[doc_id].words)))\n",
    "print(u'SIMILAR/DISSIMILAR DOCS PER MODEL %s:\\n' % model2)\n",
    "for label, index in [('MOST', 0), ('MEDIAN', len(sims)//2), ('LEAST', len(sims) - 1)]:\n",
    "    print(u'%s %s: «%s»\\n' % (label, sims[index], ' '.join(train_corpus2[sims[index][0]].words)))\n",
    "    vector = model2.infer_vector(['only', 'you', 'can', 'prevent', 'forest', 'fires'])"
   ]
  }
 ],
 "metadata": {
  "interpreter": {
   "hash": "b3ba2566441a7c06988d0923437866b63cedc61552a5af99d1f4fb67d367b25f"
  },
  "kernelspec": {
   "display_name": "Python 3.9.7 ('base')",
   "language": "python",
   "name": "python3"
  },
  "language_info": {
   "codemirror_mode": {
    "name": "ipython",
    "version": 3
   },
   "file_extension": ".py",
   "mimetype": "text/x-python",
   "name": "python",
   "nbconvert_exporter": "python",
   "pygments_lexer": "ipython3",
   "version": "3.9.7"
  },
  "orig_nbformat": 4
 },
 "nbformat": 4,
 "nbformat_minor": 2
}
