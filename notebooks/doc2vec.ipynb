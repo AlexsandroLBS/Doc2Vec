{
 "cells": [
  {
   "cell_type": "code",
   "execution_count": 160,
   "metadata": {},
   "outputs": [],
   "source": [
    "import random\n",
    "import pandas as pd\n",
    "import numpy as np\n",
    "import gensim\n",
    "import nltk\n",
    "\n",
    "from sklearn.model_selection import train_test_split\n",
    "from nltk.corpus import stopwords"
   ]
  },
  {
   "cell_type": "code",
   "execution_count": 161,
   "metadata": {},
   "outputs": [],
   "source": [
    "df1 = pd.read_csv('../data/dadosposanalise.csv')"
   ]
  },
  {
   "cell_type": "code",
   "execution_count": 162,
   "metadata": {},
   "outputs": [],
   "source": [
    "df2 =  pd.read_csv('../data/pre-processed.csv')"
   ]
  },
  {
   "cell_type": "code",
   "execution_count": 163,
   "metadata": {},
   "outputs": [
    {
     "name": "stderr",
     "output_type": "stream",
     "text": [
      "[nltk_data] Downloading package stopwords to\n",
      "[nltk_data]     C:\\Users\\Alex\\AppData\\Roaming\\nltk_data...\n",
      "[nltk_data]   Package stopwords is already up-to-date!\n"
     ]
    }
   ],
   "source": [
    "nltk.download('stopwords')\n",
    "stop = stopwords.words('portuguese')\n",
    "newStopWords = ['é', 'É']\n",
    "stop.extend(newStopWords)"
   ]
  },
  {
   "cell_type": "code",
   "execution_count": 164,
   "metadata": {},
   "outputs": [
    {
     "data": {
      "text/plain": [
       "0        É  que Tite prestou homenagem em túmulo de Fi...\n",
       "1        É  que esposa do CEO da Pfizer morreu por com...\n",
       "2        É  que Lula foi vaiado em encontro de movimen...\n",
       "3        É  que Lewis Hamilton elogiou Bolsonaro para ...\n",
       "4        É antigo áudio de queda de avião que está sen...\n",
       "                              ...                        \n",
       "9258    Áudio diz que enfermeira morreu após tomar chá...\n",
       "9259    Áudio afirma que pedir nota fiscal em postos f...\n",
       "9260    Putin estica braço em direção a pomba durante ...\n",
       "9261                                          Final feliz\n",
       "9262                     Aprendiz de pedreiro toca violão\n",
       "Name: title, Length: 9263, dtype: object"
      ]
     },
     "execution_count": 164,
     "metadata": {},
     "output_type": "execute_result"
    }
   ],
   "source": [
    "df1['title']"
   ]
  },
  {
   "cell_type": "code",
   "execution_count": 165,
   "metadata": {},
   "outputs": [],
   "source": [
    "df1['title'] = df1['title'].apply(lambda words: ' '.join(word.lower() for word in words.split() if word not in stop))\n",
    "df2['title'] = df2['title'].apply(lambda words: ' '.join(word.lower() for word in words.split() if word not in stop))"
   ]
  },
  {
   "cell_type": "code",
   "execution_count": 166,
   "metadata": {},
   "outputs": [
    {
     "data": {
      "text/plain": [
       "0              tite prestou homenagem túmulo fidel castro\n",
       "1       esposa ceo pfizer morreu complicações vacina c...\n",
       "2                 lula vaiado encontro movimentos sociais\n",
       "3         lewis hamilton elogiou bolsonaro new york times\n",
       "4       antigo áudio queda avião sendo atribuído acide...\n",
       "                              ...                        \n",
       "9258    áudio diz enfermeira morreu após tomar chá hib...\n",
       "9259    áudio afirma pedir nota fiscal postos fará pre...\n",
       "9260    putin estica braço direção pomba durante visit...\n",
       "9261                                          final feliz\n",
       "9262                        aprendiz pedreiro toca violão\n",
       "Name: title, Length: 9263, dtype: object"
      ]
     },
     "execution_count": 166,
     "metadata": {},
     "output_type": "execute_result"
    }
   ],
   "source": [
    "df1['title']"
   ]
  },
  {
   "cell_type": "code",
   "execution_count": 167,
   "metadata": {},
   "outputs": [
    {
     "data": {
      "text/html": [
       "<div>\n",
       "<style scoped>\n",
       "    .dataframe tbody tr th:only-of-type {\n",
       "        vertical-align: middle;\n",
       "    }\n",
       "\n",
       "    .dataframe tbody tr th {\n",
       "        vertical-align: top;\n",
       "    }\n",
       "\n",
       "    .dataframe thead th {\n",
       "        text-align: right;\n",
       "    }\n",
       "</style>\n",
       "<table border=\"1\" class=\"dataframe\">\n",
       "  <thead>\n",
       "    <tr style=\"text-align: right;\">\n",
       "      <th></th>\n",
       "      <th>title</th>\n",
       "      <th>body</th>\n",
       "      <th>label</th>\n",
       "      <th>lide</th>\n",
       "      <th>index</th>\n",
       "    </tr>\n",
       "  </thead>\n",
       "  <tbody>\n",
       "    <tr>\n",
       "      <th>0</th>\n",
       "      <td>tite prestou homenagem túmulo fidel castro</td>\n",
       "      <td>Apesar da semelhança física, foto que circula ...</td>\n",
       "      <td>1</td>\n",
       "      <td>NaN</td>\n",
       "      <td>NaN</td>\n",
       "    </tr>\n",
       "    <tr>\n",
       "      <th>1</th>\n",
       "      <td>esposa ceo pfizer morreu complicações vacina c...</td>\n",
       "      <td>Myriam Bourla esteve em evento em 10 de novemb...</td>\n",
       "      <td>1</td>\n",
       "      <td>NaN</td>\n",
       "      <td>NaN</td>\n",
       "    </tr>\n",
       "    <tr>\n",
       "      <th>2</th>\n",
       "      <td>lula vaiado encontro movimentos sociais</td>\n",
       "      <td>Montagem utiliza áudio de vídeo gravado em 201...</td>\n",
       "      <td>1</td>\n",
       "      <td>NaN</td>\n",
       "      <td>NaN</td>\n",
       "    </tr>\n",
       "    <tr>\n",
       "      <th>3</th>\n",
       "      <td>lewis hamilton elogiou bolsonaro new york times</td>\n",
       "      <td>Automobilista britânico já manifestou apoio ao...</td>\n",
       "      <td>1</td>\n",
       "      <td>NaN</td>\n",
       "      <td>NaN</td>\n",
       "    </tr>\n",
       "    <tr>\n",
       "      <th>4</th>\n",
       "      <td>antigo áudio queda avião sendo atribuído acide...</td>\n",
       "      <td>Registro que circula pelas redes sociais é de ...</td>\n",
       "      <td>1</td>\n",
       "      <td>NaN</td>\n",
       "      <td>NaN</td>\n",
       "    </tr>\n",
       "    <tr>\n",
       "      <th>...</th>\n",
       "      <td>...</td>\n",
       "      <td>...</td>\n",
       "      <td>...</td>\n",
       "      <td>...</td>\n",
       "      <td>...</td>\n",
       "    </tr>\n",
       "    <tr>\n",
       "      <th>7195</th>\n",
       "      <td>jornal britanico acao contra lula lava jato se...</td>\n",
       "      <td>NaN</td>\n",
       "      <td>true</td>\n",
       "      <td>NaN</td>\n",
       "      <td>7195.0</td>\n",
       "    </tr>\n",
       "    <tr>\n",
       "      <th>7196</th>\n",
       "      <td>temer diz acionou pf cade investigar aumentos ...</td>\n",
       "      <td>NaN</td>\n",
       "      <td>true</td>\n",
       "      <td>NaN</td>\n",
       "      <td>7196.0</td>\n",
       "    </tr>\n",
       "    <tr>\n",
       "      <th>7197</th>\n",
       "      <td>obstaculos politicos temer especialistas ouvid...</td>\n",
       "      <td>NaN</td>\n",
       "      <td>true</td>\n",
       "      <td>NaN</td>\n",
       "      <td>7197.0</td>\n",
       "    </tr>\n",
       "    <tr>\n",
       "      <th>7198</th>\n",
       "      <td>setembro boa noite aqui estao principais notic...</td>\n",
       "      <td>NaN</td>\n",
       "      <td>true</td>\n",
       "      <td>NaN</td>\n",
       "      <td>7198.0</td>\n",
       "    </tr>\n",
       "    <tr>\n",
       "      <th>7199</th>\n",
       "      <td>envolvo politica diz brasileiro preso venezuel...</td>\n",
       "      <td>NaN</td>\n",
       "      <td>true</td>\n",
       "      <td>NaN</td>\n",
       "      <td>7199.0</td>\n",
       "    </tr>\n",
       "  </tbody>\n",
       "</table>\n",
       "<p>16463 rows × 5 columns</p>\n",
       "</div>"
      ],
      "text/plain": [
       "                                                  title  \\\n",
       "0            tite prestou homenagem túmulo fidel castro   \n",
       "1     esposa ceo pfizer morreu complicações vacina c...   \n",
       "2               lula vaiado encontro movimentos sociais   \n",
       "3       lewis hamilton elogiou bolsonaro new york times   \n",
       "4     antigo áudio queda avião sendo atribuído acide...   \n",
       "...                                                 ...   \n",
       "7195  jornal britanico acao contra lula lava jato se...   \n",
       "7196  temer diz acionou pf cade investigar aumentos ...   \n",
       "7197  obstaculos politicos temer especialistas ouvid...   \n",
       "7198  setembro boa noite aqui estao principais notic...   \n",
       "7199  envolvo politica diz brasileiro preso venezuel...   \n",
       "\n",
       "                                                   body label  lide   index  \n",
       "0     Apesar da semelhança física, foto que circula ...     1   NaN     NaN  \n",
       "1     Myriam Bourla esteve em evento em 10 de novemb...     1   NaN     NaN  \n",
       "2     Montagem utiliza áudio de vídeo gravado em 201...     1   NaN     NaN  \n",
       "3     Automobilista britânico já manifestou apoio ao...     1   NaN     NaN  \n",
       "4     Registro que circula pelas redes sociais é de ...     1   NaN     NaN  \n",
       "...                                                 ...   ...   ...     ...  \n",
       "7195                                                NaN  true   NaN  7195.0  \n",
       "7196                                                NaN  true   NaN  7196.0  \n",
       "7197                                                NaN  true   NaN  7197.0  \n",
       "7198                                                NaN  true   NaN  7198.0  \n",
       "7199                                                NaN  true   NaN  7199.0  \n",
       "\n",
       "[16463 rows x 5 columns]"
      ]
     },
     "execution_count": 167,
     "metadata": {},
     "output_type": "execute_result"
    }
   ],
   "source": [
    "df = pd.concat([df1, df2])\n",
    "df"
   ]
  },
  {
   "cell_type": "code",
   "execution_count": 168,
   "metadata": {},
   "outputs": [
    {
     "data": {
      "text/plain": [
       "0           tite prestou homenagem túmulo fidel castro\n",
       "1    esposa ceo pfizer morreu complicações vacina c...\n",
       "Name: title, dtype: object"
      ]
     },
     "execution_count": 168,
     "metadata": {},
     "output_type": "execute_result"
    }
   ],
   "source": [
    "X = df['title']\n",
    "X[0:2]\n"
   ]
  },
  {
   "cell_type": "code",
   "execution_count": 169,
   "metadata": {},
   "outputs": [
    {
     "data": {
      "text/plain": [
       "0           tite prestou homenagem túmulo fidel castro\n",
       "1    esposa ceo pfizer morreu complicações vacina c...\n",
       "Name: title, dtype: object"
      ]
     },
     "execution_count": 169,
     "metadata": {},
     "output_type": "execute_result"
    }
   ],
   "source": [
    "X_1 = df1['title']\n",
    "X_1[0:2]"
   ]
  },
  {
   "cell_type": "code",
   "execution_count": 170,
   "metadata": {},
   "outputs": [
    {
     "data": {
      "text/plain": [
       "0    katia abreu diz vai colocar expulsao moldura n...\n",
       "1    ray peita bolsonaro conservador fake entrevist...\n",
       "Name: title, dtype: object"
      ]
     },
     "execution_count": 170,
     "metadata": {},
     "output_type": "execute_result"
    }
   ],
   "source": [
    "X_2 = df2['title']\n",
    "X_2[0:2]"
   ]
  },
  {
   "cell_type": "code",
   "execution_count": 171,
   "metadata": {},
   "outputs": [
    {
     "data": {
      "text/plain": [
       "0    1\n",
       "1    1\n",
       "Name: label, dtype: object"
      ]
     },
     "execution_count": 171,
     "metadata": {},
     "output_type": "execute_result"
    }
   ],
   "source": [
    "y= df['label']\n",
    "y[0:2]"
   ]
  },
  {
   "cell_type": "code",
   "execution_count": 172,
   "metadata": {},
   "outputs": [
    {
     "data": {
      "text/plain": [
       "0    1\n",
       "1    1\n",
       "Name: label, dtype: int64"
      ]
     },
     "execution_count": 172,
     "metadata": {},
     "output_type": "execute_result"
    }
   ],
   "source": [
    "y_1= df1['label']\n",
    "y_1[0:2]"
   ]
  },
  {
   "cell_type": "code",
   "execution_count": 173,
   "metadata": {},
   "outputs": [
    {
     "data": {
      "text/plain": [
       "0    fake\n",
       "1    fake\n",
       "Name: label, dtype: object"
      ]
     },
     "execution_count": 173,
     "metadata": {},
     "output_type": "execute_result"
    }
   ],
   "source": [
    "y_2= df2['label']\n",
    "y_2[0:2]"
   ]
  },
  {
   "cell_type": "code",
   "execution_count": 174,
   "metadata": {},
   "outputs": [],
   "source": [
    "X_train,  X_test, y_train, y_test = train_test_split(X, y, test_size=0.25)\n",
    "X_train1,  X_test1, y_train1, y_test1 = train_test_split(X_1, y_1, test_size=0.25)\n",
    "X_train2,  X_test2, y_train2, y_test2 = train_test_split(X_2, y_2, test_size=0.25)"
   ]
  },
  {
   "cell_type": "code",
   "execution_count": 175,
   "metadata": {},
   "outputs": [],
   "source": [
    "X_train.to_csv('../data/Treino')\n",
    "X_test.to_csv('../data/Teste')"
   ]
  },
  {
   "cell_type": "code",
   "execution_count": 176,
   "metadata": {},
   "outputs": [],
   "source": [
    "X_train1.to_csv('../data/TreinoScrapy')\n",
    "X_test1.to_csv('../data/TesteScrapy')"
   ]
  },
  {
   "cell_type": "code",
   "execution_count": 177,
   "metadata": {},
   "outputs": [],
   "source": [
    "X_train2.to_csv('../data/TreinoCorpus')\n",
    "X_test2.to_csv('../data/TesteCorpus')"
   ]
  },
  {
   "cell_type": "markdown",
   "metadata": {},
   "source": [
    "## CONJUNTO COMPLETO\n"
   ]
  },
  {
   "cell_type": "code",
   "execution_count": 178,
   "metadata": {},
   "outputs": [],
   "source": [
    "import smart_open\n",
    "\n",
    "def read_corpus(fname, tokens_only=False):\n",
    "    with smart_open.open(fname, encoding=\"utf-8\") as f:\n",
    "        for i, line in enumerate(f):\n",
    "            tokens = gensim.utils.simple_preprocess(line)\n",
    "            if tokens_only:\n",
    "                yield tokens\n",
    "            else:\n",
    "                # For training data, add tags\n",
    "                yield gensim.models.doc2vec.TaggedDocument(tokens, [i])\n",
    "\n",
    "train_corpus = list(read_corpus('../data/Treino'))\n",
    "test_corpus = list(read_corpus('../data/Teste', tokens_only=True))"
   ]
  },
  {
   "cell_type": "code",
   "execution_count": 179,
   "metadata": {},
   "outputs": [
    {
     "name": "stdout",
     "output_type": "stream",
     "text": [
      "[TaggedDocument(words=['title'], tags=[0]), TaggedDocument(words=['fuga', 'fome', 'chegada', 'mil', 'venezuelanos', 'transformou', 'boa', 'vista', 'contas', 'prefeitura', 'imigrantes', 'representam', 'populacao', 'cidade', 'reflexo', 've', 'ruas', 'pracas', 'ocupadas', 'abrigos', 'lotados', 'casas', 'ate', 'moradores', 'fluxo', 'migratorio', 'comecou', 'bateu', 'recordes', 'aumentando', 'ja', 'noite', 'multidao', 'venezuelanos', 'faz', 'enorme', 'fila', 'receber', 'pao', 'copo', 'leite', 'praca', 'simon', 'bolivar', 'boa', 'vista', 'famintos', 'devoram', 'alimento', 'doado', 'deitam', 'chao', 'dormir', 'vez', 'relento', 'vida', 'ruas', 'brasil', 'ainda', 'melhor', 'continuar', 'venezuela', 'porque', 'aqui', 'comida', 'diz', 'luiz', 'gonzalez', 'anos', 'chegou', 'brasil', 'ha', 'menos', 'semana', 'dinheiro', 'assim', 'muitos', 'outros', 'dorme', 'chao', 'praca', 'ocupada', 'venezuelanos', 'roraima', 'cena', 'tornado', 'cotidiana', 'cidade', 'recebe', 'numero', 'crescente', 'imigrantes', 'ja', 'sao', 'mil', 'segundo', 'contas', 'prefeitura', 'boa', 'vista', 'equivale', 'cerca', 'mil', 'habitantes', 'capital', 'estado', 'menor', 'indice', 'populacional', 'brasil', 'venezuelanos', 'buscam', 'refugio', 'roraima', 'fogem', 'principalmente', 'fome', 'nao', 'so', 'tambem', 'querem', 'escapar', 'severa', 'escassez', 'remedios', 'instabilidade', 'politica', 'inflacao', 'galopante', 'venezuela', 'corroi', 'moeda', 'faz', 'cada', 'vez', 'pessoas', 'busquem', 'comida', 'lixo', 'instabilidade', 'politica', 'tambem', 'preocupa', 'presidente', 'venezuela', 'nicolas', 'maduro', 'declarou', 'candidato', 'reeleicao', 'rendeu', 'criticas', 'comunidade', 'internacional', 'assembleia', 'nacional', 'constituinte', 'ligada', 'maduro', 'decidiu', 'antecipar', 'pleito', 'final', 'antes', 'abril', 'alem', 'disso', 'decisao', 'agravou', 'ainda', 'crise', 'tribunal', 'superior', 'justica', 'recusou', 'registro', 'chapa', 'reune', 'varios', 'partidos', 'oposicao', 'deixando', 'caminho', 'livre', 'reeleicao', 'presidente', 'janeiro', 'mil', 'imigrantes', 'entraram', 'fronteira', 'terrestre', 'pacaraima', 'municipio', 'vizinho', 'cidade', 'venezuelana', 'santa', 'elena', 'uairen', 'periodo', 'fazendo', 'caminho', 'volta', 'pais', 'natal', 'gerando', 'saldo', 'pode', 'ser', 'mil', 'venezuelanos', 'roraima', 'nao', 'possivel', 'afirmar', 'precisao', 'porque', 'mesma', 'pessoa', 'pode', 'ter', 'entrado', 'saido', 'pais', 'varias', 'vezes', 'nao', 'precisos', 'dados', 'estimam', 'realidade', 'inegavel', 'impacto', 'imigracao', 'notavel', 'todos', 'lados', 'ruas', 'portugues', 'espanhol', 'misturam', 'populariza', 'toda', 'cidade', 'ha', 'semaforos', 'lotados', 'venezuelanos', 'segurando', 'placas', 'pedem', 'emprego', 'outros', 'estao', 'portas', 'supermercados', 'busca', 'comida', 'milhares', 'dormem', 'ruas', 'principalmente', 'pracas', 'abrigos', 'abertos', 'governo', 'estao', 'superlotados', 'ha', 'meses', 'ate', 'imigrantes', 'vivem', 'sob', 'teto', 'casas', 'alugadas', 'fuga', 'fome', 'fluxo', 'desordenado', 'imigracao', 'ocorre', 'ate', 'pe', 'ha', 'venezuelanos', 'dinheiro', 'algum', 'custear', 'passagens', 'vinda', 'brasil', 'decidem', 'auge', 'desespero', 'caminhar', 'contar', 'sorte', 'conseguir', 'carona', 'percorrer', 'km', 'separam', 'pacaraima', 'boa', 'vista', 'caso', 'jornalista', 'leonardo', 'cordova', 'anos', 'convivia', 'diariamente', 'fome', 'casa', 'onde', 'morava', 'cumana', 'cidade', 'costeira', 'estado', 'sucre', 'nordeste', 'venezuela', 'final', 'concluiu', 'ir', 'embora', 'pais', 'nao', 'dinheiro', 'nada', 'esperando', 'bolsa', 'comida', 'governo', 'iria', 'vender', 'forma', 'irregular', 'cansado', 'viver', 'nessa', 'situacao', 'pensando', 'sair', 'venezuela', 'nao', 'recursos', 'finalmente', 'comida', 'nao', 'chegou', 'fiquei', 'realmente', 'desesperado', 'ai', 'decidi', 'ir', 'embora', 'peguei', 'pouco', 'dinheiro', 'vim', 'brasil', 'jornalista', 'enfrentou', 'percurso', 'mil', 'km', 'viajando', 'carona', 'onibus', 'ate', 'pe', 'fuga', 'escassez', 'comida', 'remedios', 'medo', 'morrer', 'fome', 'decisao', 'vir', 'pe', 'brasil', 'nova', 'fluxo', 'estrangeiros', 'fugindo', 'fome', 'comecou', 'ha', 'cerca', 'tres', 'anos', 'policia', 'federal', 'recebido', 'pedidos', 'refugio', 'venezuelanos', 'roraima', 'desde', 'naquele', 'ano', 'solicitacoes', 'recorde', 'pedidos', 'desses', 'nenhum', 'concedido', 'comite', 'nacional', 'refugiados', 'conare', 'orgao', 'subordinado', 'ministerio', 'justica', 'todos', 'venezuelanos', 'sao', 'considerados', 'refugiados', 'porque', 'refugio', 'concedido', 'sao', 'forcados', 'deixar', 'pais', 'devido', 'perseguicoes', 'politicas', 'etnicas', 'religiosas', 'caso', 'muitos', 'fuga', 'motivacao', 'economica', 'apesar', 'existirem', 'casos', 'pessoas', 'sao', 'vitimas', 'perseguicao', 'politica', 'relacionada', 'instabilidade', 'inseguranca', 'venezuela', 'pedem', 'visto', 'refugio', 'porque', 'tendo', 'apenas', 'solicitacao', 'maos', 'ja', 'podem', 'trabalhar', 'legalmente', 'pais', 'neste', 'ano', 'numeros', 'ja', 'chamam', 'atencao', 'ate', 'primeira', 'quinzena', 'janeiro', 'pedidos', 'refugio', 'feitos', 'outras', 'centenas', 'agendados', 'segundo', 'policia', 'federal', 'cerca', 'venezuelanos', 'sao', 'atendidos', 'dia', 'unidade', 'pf', 'capital', 'maioria', 'sao', 'jovens', 'sexo', 'masculino', 'bom', 'nivel', 'escolaridade', 'querem', 'regularizar', 'pais', 'poder', 'trabalhar', 'alem', 'refugio', 'estrangeiros', 'agora', 'tambem', 'pedem', 'chamada', 'residencia', 'temporaria', 'modo', 'ingresso', 'passou', 'ser', 'gratuito', 'agosto', 'la', 'ate', 'dezembro', 'pedidos', 'venezuelanos', 'gustavo', 'frota', 'simoes', 'pesquisador', 'professor', 'universidade', 'federal', 'roraima', 'ufrr', 'imigracao', 'seguido', 'crescente', 'termometro', 'disso', 'sao', 'multidoes', 'segunda', 'lotam', 'policia', 'federal', 'boa', 'vista', 'ha', 'espere', 'quase', 'dia', 'inteiro', 'fila', 'ate', 'durma', 'rua', 'regularizar', 'pais', 'imigracao', 'impacta', 'ainda', 'servicos', 'saude', 'educacao', 'estao', 'sobrecarregados', 'segundo', 'autoridades', 'locais', 'dados', 'secretaria', 'saude', 'roraima', 'apontam', 'venezuelanos', 'atendidos', 'rede', 'publica', 'saude', 'tres', 'anos', 'numero', 'saltou', 'unica', 'maternidade', 'estado', 'partos', 'mulheres', 'venezuelanas', 'numero', 'imigrantes', 'estao', 'boa', 'vista', 'tambem', 'refletido', 'escolas', 'capital', 'prefeitura', 'diz', 'numero', 'criancas', 'venezuelanas', 'matriculadas', 'escolas', 'rede', 'municipal', 'ensino', 'cresceu', 'alem', 'disso', 'so', 'ano', 'passado', 'quase', 'familias', 'venezuelanas', 'receberam', 'auxilio', 'bolsa', 'familia', 'cidade', 'equivalente', 'mil', 'beneficiarios', 'programa', 'boa', 'vista', 'muitos', 'imigrantes', 'dinheiro', 'sair', 'pais', 'natal', 'nao', 'pagar', 'passagens', 'onibus', 'taxi', 'viajar', 'pacaraima', 'boa', 'vista', 'assim', 'veem', 'obrigados', 'percorrer', 'estrada', 'pe', 'pedir', 'carona', 'levando', 'apenas', 'conseguem', 'carregar', 'bracos', 'carol', 'parrare', 'anos', 'saiu', 'pacaraima', 'outros', 'sete', 'familiares', 'madrugada', 'chegou', 'boa', 'vista', 'quarta', 'viagem', 'levou', 'dois', 'dias', 'noite', 'caminhou', 'varios', 'trechos', 'pediu', 'carona', 'comida', 'agua', 'conta', 'nao', 'sabia', 'distancia', 'exata', 'duas', 'cidades', 'surpreendeu', 'longo', 'caminho', 'percorrer', 'estrada', 'encontrou', 'varios', 'imigrantes', 'fazendo', 'trajeto', 'venezuela', 'carol', 'parrera', 'morava', 'maturin', 'trabalhava', 'secretaria', 'escola', 'trabalho', 'fixo', 'nao', 'conseguiu', 'manter', 'pais', 'situacao', 'economica', 'venezuela', 'sumariamente', 'ruim', 'vezes', 'ficavamos', 'dias', 'comer', 'tremendo', 'fome', 'dinheiro', 'alcance', 'preco', 'comida', 'boa', 'vista', 'ha', 'tres', 'abrigos', 'imigrantes', 'dois', 'estao', 'superlotados', 'juntos', 'todos', 'capacidade', 'maximo', 'mil', 'pessoas', 'tambem', 'ha', 'milhares', 'venezuelanos', 'situacao', 'rua', 'parcela', 'maior', 'imigrantes', 'dividindo', 'alugueis', 'ruas', 'principais', 'pontos', 'aglomeracao', 'venezuelanos', 'praca', 'zona', 'sul', 'capital', 'local', 'abriga', 'hoje', 'menos', 'pessoas', 'carrega', 'nome', 'simon', 'bolivar', 'lider', 'militar', 'lutou', 'libertacao', 'america', 'latina', 'dominio', 'espanhol', 'praca', 'fica', 'margem', 'esquerda', 'avenida', 'venezuela', 'trecho', 'urbano', 'mesma', 'liga', 'brasil', 'pais', 'vizinho', 'local', 'ha', 'busto', 'simon', 'bolivar', 'imigrantes', 'dizem', 'ser', 'fonte', 'protecao', 'orgulho', 'todos', 'ali', 'vivem', 'simon', 'bolivar', 'representa', 'liberdade', 'igualdade', 'social', 'hoje', 'aqui', 'refugiados', 'praca', 'territorio', 'venezuelano', 'aqui', 'brasil', 'sentimos', 'podemos', 'estar', 'nela', 'porque', 'tambem', 'protege', 'diz', 'kelly', 'gomez', 'anos', 'formada', 'administracao', 'pais', 'olha', 'longe', 'multidao', 'venezuelanos', 'abrigados', 'praca', 'nao', 'imagina', 'ali', 'gente', 'casa', 'propria', 'carro', 'vida', 'estavel', 'venezuela', 'hoje', 'dorme', 'sob', 'chao', 'duro', 'alimenta', 'ganha', 'diz', 'saudade', 'casa', 'familia', 'ficou', 'tras', 'assim', 'sao', 'unanimes', 'nao', 'querem', 'voltar', 'terra', 'natal', 'tao', 'cedo', 'casa', 'venezuela', 'ar', 'condicionado', 'relembra', 'luiz', 'gonzalez', 'anos', 'saiu', 'cidade', 'maturin', 'estado', 'monagas', 'leste', 'pais', 'deixou', 'mulher', 'dois', 'filhos', 'pequenos', 'partiu', 'missao', 'conseguir', 'dinheiro', 'tambem', 'brasil', 'nao', 'conseguido', 'trabalho', 'ja', 'ha', 'muitos', 'venezuelanos', 'aqui', 'boa', 'vista', 'desabafa', 'pais', 'natal', 'gonzalez', 'distribuidor', 'laticinios', 'porem', 'crise', 'economica', 'hiperinflacao', 'instabilidade', 'politica', 'pais', 'levaram', 'junto', 'trabalho', 'entregava', 'leite', 'queijo', 'iogurte', 'comercios', 'venezuela', 'nao', 'consegue', 'mercadoria', 'trabalhando', 'vez', 'mes', 'ganhando', 'tao', 'pouco', 'nao', 'dava', 'viver', 'assim', 'cerca', 'venezuelanos', 'vivem', 'simon', 'bolivar', 'muitas', 'outras', 'pracas', 'cidade', 'prefeitura', 'diz', 'todas', 'pracas', 'cidade', 'algum', 'momento', 'dia', 'noite', 'ficam', 'ocupadas', 'venezuelanos', 'sao', 'unanimes', 'dizer', 'porque', 'escolheram', 'ficar', 'rua', 'vez', 'ir', 'abrigo', 'ginasio', 'tancredo', 'neves', 'criado', 'novembro', 'ano', 'passado', 'receber', 'imigrantes', 'situacao', 'rua', 'cidade', 'falaram', 'abrigo', 'perigoso', 'nao', 'seguranca', 'nao', 'confiar', 'chegamos', 'ir', 'ate', 'la', 'vimos', 'bem', 'arriscado', 'vivendo', 'dessa', 'forma', 'ate', 'dormindo', 'chao', 'preferimos', 'ficar', 'aqui', 'sentimos', 'seguros', 'praca', 'conta', 'engenheiro', 'jose', 'leal', 'anos', 'boa', 'vista', 'ha', 'tres', 'abrigos', 'imigrantes', 'venezuelanos', 'dois', 'sao', 'antigos', 'ginasios', 'abertos', 'governo', 'estado', 'receber', 'estrangeiros', 'ambos', 'sao', 'mantidos', 'parcerias', 'ongs', 'igrejas', 'oferecem', 'comida', 'graca', 'imigrantes', 'primeiro', 'abrigo', 'ser', 'aberto', 'boa', 'vista', 'refugio', 'chamam', 'venezuelanos', 'ainda', 'fica', 'bairro', 'pintolandia', 'periferia', 'cidade', 'antes', 'recebia', 'indios', 'hoje', 'so', 'vagas', 'indigenas', 'etnias', 'warao', 'pemons', 'enapa', 'maioria', 'todo', 'ha', 'atualmente', 'pessoas', 'vivendo', 'local', 'onde', 'so', 'deveriam', 'estar', 'maximo', 'abrigo', 'nao', 'superlotado', 'perto', 'disso', 'acredito', 'logo', 'vai', 'chegar', 'dia', 'nao', 'iremos', 'poder', 'receber', 'ninguem', 'aqui', 'afirma', 'coordenadora', 'abrigo', 'provisorio', 'imigrante', 'venezuelano', 'sandra', 'palomino', 'outro', 'abrigo', 'capital', 'recebe', 'venezuelanos', 'fica', 'bairro', 'tancredo', 'neves', 'tambem', 'periferia', 'aberto', 'outubro', 'grupo', 'venezuelanos', 'morava', 'acampamento', 'entorno', 'rodoviaria', 'boa', 'vista', 'retirado', 'uso', 'forca', 'policial', 'levado', 'novo', 'endereco', 'defesa', 'civil', 'roraima', 'responsavel', 'abrigo', 'diz', 'ha', 'pessoas', 'vivendo', 'local', 'numero', 'segundo', 'moradores', 'maior', 'venezuelana', 'faz', 'controle', 'entrada', 'novos', 'habitantes', 'acredita', 'ja', 'mil', 'pessoas', 'vivendo', 'dentro', 'ginasio', 'especie', 'favela', 'abrigo', 'visivelmente', 'superlotado', 'condicoes', 'precarias', 'lado', 'ginasio', 'ha', 'dezenas', 'morando', 'barracos', 'construidos', 'lonas', 'tecidos', 'restos', 'madeira', 'especie', 'gueto', 'la', 'existem', 'ate', 'pequenos', 'empreendimentos', 'improvisados', 'venda', 'bagatelas', 'isqueiros', 'cigarros', 'gel', 'cabelo', 'oferta', 'servicos', 'barbeiro', 'conserto', 'sapatos', 'lavagem', 'roupas', 'conflitos', 'doencas', 'sao', 'comuns', 'la', 'clima', 'quase', 'sempre', 'tensao', 'moradores', 'relatam', 'rotina', 'inseguranca', 'medo', 'principalmente', 'noite', 'maior', 'parte', 'imigrantes', 'volta', 'passar', 'dia', 'atras', 'trabalho', 'comida', 'alguns', 'relatam', 'la', 'dentro', 'ha', 'trafico', 'entorpecentes', 'consumo', 'drogas', 'alcool', 'ate', 'prostituicao', 'semana', 'passada', 'policia', 'militar', 'fez', 'operacao', 'local', 'encontrar', 'havia', 'invadido', 'cozinha', 'furtado', 'frangos', 'doados', 'refeicoes', 'coletivas', 'buscas', 'caes', 'farejadores', 'acharam', 'vestigios', 'drogas', 'dois', 'facoes', 'escondidos', 'pequena', 'favela', 'formou', 'abrigo', 'barraco', 'improvisado', 'fragil', 'chama', 'atencao', 'lar', 'dez', 'pessoas', 'mesma', 'familia', 'chocante', 'ha', 'mulheres', 'homens', 'criancas', 'vivendo', 'espremidas', 'espaco', 'dois', 'comodos', 'servem', 'quartos', 'logo', 'entrada', 'bandeira', 'venezuela', 'relembra', 'onde', 'todos', 'vieram', 'dez', 'pessoas', 'vivem', 'aqui', 'construimos', 'casa', 'material', 'pedimos', 'conta', 'katiuska', 'ramos', 'anos', 'vive', 'local', 'marido', 'quatro', 'filhos', 'apesar', 'cenario', 'miseria', 'intensa', 'movimentacao', 'pessoas', 'abrigo', 'virado', 'fonte', 'renda', 'alguns', 'imigrantes', 'leonardo', 'rivas', 'anos', 'exemplo', 'improvisou', 'barbearia', 'onde', 'atende', 'cerca', 'dez', 'pessoas', 'dia', 'clientes', 'sao', 'venezuelanos', 'brasileiros', 'diz', 'ingrid', 'carvajal', 'anos', 'tambem', 'achou', 'maneira', 'ganhar', 'dinheiro', 'precisar', 'sair', 'abrigo', 'lava', 'roupas', 'moradores', 'cobra', 'real', 'peca', 'dinheiro', 'ganha', 'garantir', 'sobrevivencia', 'filho', 'anos', 'tambem', 'ajudar', 'mae', 'irma', 'diagnosticada', 'cancer', 'ainda', 'moram', 'venezuela', 'lavo', 'roupas', 'ajoelhada', 'chao', 'banheiro', 'cerca', 'quatro', 'cinco', 'horas', 'dia', 'trabalho', 'ganho', 'semana', 'diz', 'mostrando', 'joelhos', 'machucados', 'ja', 'superlotado', 'abrigo', 'recebe', 'novos', 'moradores', 'dia', 'segundo', 'relato', 'vive', 'la', 'dentro', 'ha', 'tempo', 'fazia', 'controle', 'morava', 'aqui', 'acabei', 'parando', 'vida', 'abrigo', 'dificil', 'sao', 'muitas', 'mentes', 'diferentes', 'irei', 'mudar', 'viver', 'aluguel', 'proximos', 'dias', 'nao', 'aguento', 'ficar', 'aqui', 'descreve', 'silmara', 'monteiro', 'anos', 'terceiro', 'abrigo', 'capital', 'bastante', 'diferente', 'demais', 'aberto', 'dezembro', 'chamado', 'centro', 'acolhimento', 'fraternidade', 'fronteiras', 'mantido', 'ong', 'fraternidade', 'fronteiras', 'estabelece', 'principio', 'vida', 'comunidade', 'localizado', 'tambem', 'periferia', 'centro', 'hoje', 'cerca', 'moradores', 'capacidade', 'receber', 'ate', 'dobro', 'pessoas', 'coordenadora', 'local', 'alba', 'gonzalez', 'anos', 'explica', 'familias', 'idosos', 'mulheres', 'criancas', 'prioridade', 'serem', 'acolhidos', 'la', 'centro', 'acolhimento', 'construido', 'venezuelanos', 'venezuelanos', 'gerido', 'venezuelanos', 'acho', 'melhor', 'jeito', 'ser', 'porque', 'nao', 'meramente', 'abrigo', 'comunidade', 'venezuelanos', 'dentro', 'boa', 'vista', 'aqui', 'prevalece', 'cultura', 'trabalho', 'conjunto', 'nao', 'ruas', 'pracas', 'abrigos', 'encontra', 'outra', 'forma', 'morar', 'boa', 'vista', 'gastar', 'dividindo', 'alugueis', 'dezenas', 'outros', 'imigrantes', 'casas', 'sao', 'simples', 'chama', 'atencao', 'falta', 'moveis', 'excesso', 'gente', 'ha', 'residencias', 'ate', 'moradores', 'visitou', 'casa', 'onde', 'imigrantes', 'moram', 'juntos', 'sao', 'homens', 'mulheres', 'duas', 'criancas', 'dividindo', 'seis', 'comodos', 'quase', 'vazios', 'moveis', 'dividem', 'aluguel', 'alimentacao', 'espaco', 'dormir', 'carecem', 'itens', 'basicos', 'geladeira', 'camas', 'tirarem', 'colchoes', 'chao', 'venezuela', 'viviamos', 'mulher', 'filho', 'aqui', 'moramos', 'outras', 'pessoas', 'dificil', 'precisamos', 'viver', 'assim', 'fazer', 'coisas', 'pagar', 'aluguel', 'contas', 'ainda', 'comer', 'diz', 'carlo', 'yendez', 'anos', 'ha', 'tres', 'meses', 'brasil', 'esposa', 'anos', 'filho', 'meses', 'tensao', 'venezuelanos', 'brasileiros', 'cresce', 'conforme', 'imigracao', 'expande', 'redes', 'sociais', 'facil', 'achar', 'mensagens', 'xenofobicas', 'odio', 'imigrantes', 'organizacao', 'nacoes', 'unidas', 'onu', 'feito', 'campanhas', 'sensibilizar', 'populacao', 'acerca', 'questao', 'migratoria', 'fatores', 'colabora', 'acirramento', 'xenofobia', 'registro', 'crimes', 'envolvendo', 'vitimas', 'infratores', 'venezuelanos', 'ja', 'furtos', 'mercados', 'comercios', 'roubo', 'armas', 'tambem', 'homicidio', 'vitima', 'travesti', 'venezuelana', 'dados', 'policia', 'civil', 'mostram', 'crimes', 'tendo', 'venezuelanos', 'autores', 'vitimas', 'ano', 'seguinte', 'indice', 'respectivamente', 'ja', 'recorde', 'pedidos', 'refugio', 'salto', 'crimes', 'cometidos', 'venezuelanos', 'tendo', 'estrangeiros', 'vitimas', 'furtos', 'sao', 'notavelmente', 'recorrentes', 'estao', 'intimamente', 'relacionados', 'condicoes', 'vida', 'venezuelanos', 'roraima', 'afirma', 'francilene', 'rodrigues', 'professora', 'pesquisadora', 'ufrr', 'pessoas', 'estao', 'situacao', 'extrema', 'vulnerabilidade', 'fome', 'principal', 'fator', 'leva', 'cometerem', 'crimes', 'geralmente', 'roubam', 'comida', 'coisas', 'vender', 'comprar', 'comida', 'chamamos', 'crimes', 'fome', 'crimes', 'pobreza', 'ano', 'passado', 'tres', 'mulheres', 'venezuelanas', 'flagradas', 'furtando', 'desodorantes', 'outros', 'itens', 'supermercado', 'presas', 'liberadas', 'juiz', 'soltou', 'claro', 'sentenca', 'questao', 'deve', 'ser', 'vista', 'principalmente', 'sob', 'otica', 'principios', 'humanitarios', 'outro', 'fator', 'tensao', 'meio', 'onda', 'xenofobia', 'prostituicao', 'desde', 'comeco', 'imigracao', 'venezuelana', 'roraima', 'aumento', 'numero', 'mulheres', 'oferecendo', 'programas', 'periferia', 'cidade', 'area', 'especifica', 'bairro', 'caimbe', 'dezenas', 'mulheres', 'prostituem', 'luz', 'dia', 'incomoda', 'moradores', 'provoca', 'constantes', 'acoes', 'policiais', 'ha', 'relatos', 'exploracao', 'violencia', 'contra', 'imigrantes', 'algumas', 'sao', 'obrigadas', 'oferecer', 'sexo', 'troca', 'comida', 'vulneraveis', 'tornado', 'alvos', 'crimes', 'crueis', 'ha', 'dois', 'meses', 'estuprada', 'esfaqueada', 'segundo', 'policia', 'so', 'escapou', 'vida', 'porque', 'fingiu', 'morta', 'venezuelanas', 'segundo', 'francilene', 'rodrigues', 'sao', 'principais', 'alvos', 'xenofobia', 'bem', 'ficam', 'ruas', 'filhos', 'vezes', 'ate', 'bebes', 'colo', 'pedindo', 'emprego', 'comida', 'hoje', 'fala', 'mulheres', 'venezuelanas', 'referencias', 'sao', 'perjorativas', 'frisa', 'professora', 'afirmando', 'situacao', 'provoca', 'reflexao', 'sobre', 'encaramos', 'novo', 'imigracao', 'venezuelana', 'mostrando', 'realmente', 'mostrando', 'muitas', 'pessoas', 'nao', 'conseguem', 'colocar', 'lugar', 'outro', 'intenso', 'fluxo', 'venezuelanos', 'roraima', 'preocupando', 'autoridades', 'locais', 'governos', 'roraima', 'prefeitura', 'boa', 'vista', 'alegam', 'nao', 'arcar', 'crescimento', 'desordenado', 'numero', 'imigrantes', 'cobram', 'respostas', 'governo', 'federal', 'imigracao', 'sentida', 'varios', 'setores', 'estado', 'decretou', 'emergencia', 'saude', 'alegando', 'unidades', 'saude', 'boa', 'vista', 'pacaraima', 'sobrecarregadas', 'atendimentos', 'venezuelanos', 'ano', 'final', 'governo', 'voltou', 'decretar', 'emergencia', 'razao', 'crise', 'imigratoria', 'dessa', 'vez', 'alerta', 'tambem', 'secretarias', 'saude', 'trabalho', 'bem', 'estar', 'social', 'justica', 'cidadania', 'comunicacao', 'devido', 'sobrecarga', 'autoridades', 'definem', 'municipio', 'estado', 'propoem', 'governo', 'federal', 'faca', 'plano', 'interiorizacao', 'imigrantes', 'levados', 'outras', 'partes', 'pais', 'onde', 'existam', 'oportunidades', 'emprego', 'boa', 'vista', 'prevalece', 'funcionalismo', 'publico', 'enquanto', 'estado', 'municipio', 'governo', 'federal', 'tentam', 'encontrar', 'solucoes', 'intenso', 'fluxo', 'venezuelano', 'imigrantes', 'continuam', 'cruzando', 'diariamente', 'fronteira', 'brasil', 'comum', 'milhares', 'estrangeiros', 'chegam', 'roraima', 'mostram', 'fuga', 'fome', 'nao', 'so', 'travessia', 'comida', 'tambem', 'luta', 'manter', 'viva', 'esperanca', 'ter', 'futuro', 'melhor', 'deixando', 'tras', 'lembrancas', 'fome', 'desespero', 'giria', 'venezuelana', 'comumente', 'dita', 'imigrantes', 'parece', 'resumir', 'bem', 'sonham', 'futuro', 'echar', 'significa', 'seguir', 'frente', 'assim', 'professora', 'universitaria', 'lisbeth', 'canelon', 'anos', 'querem', 'chance', 'progredir', 'reinventar', 'quero', 'retomar', 'vida', 'aprender', 'portugues', 'ensinar', 'espanhol', 'trocar', 'experiencias', 'preciso', 'trabalho', 'brasil', 'quero', 'ser', 'parte', 'solucao'], tags=[1])]\n"
     ]
    }
   ],
   "source": [
    "print(train_corpus[:2])"
   ]
  },
  {
   "cell_type": "code",
   "execution_count": 180,
   "metadata": {},
   "outputs": [],
   "source": [
    "model = gensim.models.doc2vec.Doc2Vec(vector_size=512, min_count=2, epochs=40)"
   ]
  },
  {
   "cell_type": "code",
   "execution_count": 181,
   "metadata": {},
   "outputs": [],
   "source": [
    "model.build_vocab(train_corpus)"
   ]
  },
  {
   "cell_type": "code",
   "execution_count": 182,
   "metadata": {},
   "outputs": [
    {
     "name": "stdout",
     "output_type": "stream",
     "text": [
      "Word 'brasil' appeared 5677 times in the training corpus.\n"
     ]
    }
   ],
   "source": [
    "print(f\"Word 'brasil' appeared {model.wv.get_vecattr('brasil', 'count')} times in the training corpus.\")\n"
   ]
  },
  {
   "cell_type": "code",
   "execution_count": 183,
   "metadata": {},
   "outputs": [],
   "source": [
    "model.train(train_corpus, total_examples=model.corpus_count, epochs=model.epochs)"
   ]
  },
  {
   "cell_type": "code",
   "execution_count": 184,
   "metadata": {},
   "outputs": [
    {
     "name": "stdout",
     "output_type": "stream",
     "text": [
      "[ 6.97244843e-03  3.14498171e-02  1.30701840e-01  7.96472505e-02\n",
      "  3.83847617e-02  7.29472330e-03 -6.16041757e-02 -1.02090560e-01\n",
      "  2.81454846e-02 -3.17032784e-02 -1.05565628e-02 -1.67352542e-01\n",
      " -5.78578655e-03 -4.23850603e-02  3.11423987e-01 -9.53391194e-02\n",
      "  2.09851280e-01 -8.00271034e-02  9.92762223e-02  6.24137558e-02\n",
      "  4.42898460e-02 -8.67286623e-02  1.33357242e-01  7.80811533e-02\n",
      " -8.91608372e-02  5.77150024e-02 -2.54993960e-02 -3.91498819e-04\n",
      " -2.26201396e-02 -4.08595521e-03  2.37959088e-03 -2.28650868e-01\n",
      "  7.79520422e-02  1.07732505e-01 -1.26155332e-01 -1.37305215e-01\n",
      " -1.68128144e-02  4.12344038e-02 -2.84209587e-02  7.31094778e-02\n",
      "  1.71848163e-01  8.71829540e-02 -1.14836708e-01 -1.02851711e-01\n",
      " -7.71293789e-02 -4.24593687e-02  3.04909676e-01  1.48422584e-01\n",
      " -2.70952750e-02  1.29058659e-01  6.74938038e-02 -6.19127713e-02\n",
      " -8.13495088e-03 -1.05444424e-01 -1.06117271e-01 -6.64503574e-02\n",
      " -7.29703903e-02  1.52305111e-01  1.35687992e-01 -4.58575487e-02\n",
      " -1.29006013e-01  4.97837365e-02  2.34112278e-01  8.16582367e-02\n",
      " -1.22232430e-01 -9.70891267e-02 -2.86268257e-02 -1.29713535e-01\n",
      " -7.58296996e-02  3.09962612e-02 -5.44774048e-02 -1.35529220e-01\n",
      "  2.70351302e-02 -1.21503405e-01 -3.90805572e-01  1.26068443e-01\n",
      "  5.59898764e-02  9.83783603e-02  1.08260084e-02 -4.21337085e-03\n",
      " -1.95138201e-01  1.12968102e-01  3.56349237e-02  1.20300353e-01\n",
      " -9.94706601e-02  5.15466835e-03  1.35536283e-01  1.15944766e-01\n",
      "  1.61772802e-01 -1.45017160e-02 -7.43088648e-02  2.70120203e-01\n",
      "  1.11126810e-01  3.07703197e-01 -1.22390268e-02  1.07969478e-01\n",
      "  9.77312401e-02 -8.82068574e-02  1.50688633e-01 -1.67985693e-01\n",
      "  8.71628150e-02  1.24324337e-01 -1.41595989e-01  5.69805764e-02\n",
      "  9.61151198e-02  6.31862953e-02  3.80402319e-02 -1.06301434e-01\n",
      " -6.44881129e-02  3.32977176e-02  2.02543102e-02 -1.25212982e-01\n",
      " -5.42880483e-02 -1.68189824e-01 -1.09885642e-02  1.82039384e-03\n",
      "  1.15195103e-01  8.08262080e-02  6.32758215e-02  3.11241131e-02\n",
      " -6.76721781e-02  7.59973228e-02 -6.67744875e-02  6.77578105e-03\n",
      " -1.26969293e-01  1.31541327e-01  9.02585611e-02  4.03548032e-02\n",
      "  2.16373242e-02  1.00699216e-01 -1.72451288e-02 -2.20772857e-03\n",
      "  1.28184119e-02 -8.53467882e-02  2.00982779e-01  4.80058417e-02\n",
      " -1.36009470e-01 -5.72398119e-02  9.62941200e-02  1.98117301e-01\n",
      "  1.07171290e-01 -1.34310246e-01  1.25406176e-01  5.16834892e-02\n",
      " -3.39629725e-02  2.22590566e-02 -9.36837196e-02 -1.01131983e-01\n",
      "  1.03233621e-01  2.46487707e-02 -1.57813840e-02  1.91581160e-01\n",
      " -5.88587783e-02  1.96720093e-01  2.34913081e-01  1.24914430e-01\n",
      "  1.03220582e-01  1.24225013e-01 -2.28587627e-01  2.50316620e-01\n",
      " -1.10569363e-02  4.65156138e-02 -3.70134553e-03  7.04823211e-02\n",
      " -5.45120016e-02  1.32128149e-01 -1.97343864e-02  5.79627082e-02\n",
      "  9.63733494e-02 -4.11985442e-02  4.20813523e-02  8.09542090e-02\n",
      " -8.97176638e-02  1.24197833e-01  1.21086659e-02 -7.09395409e-02\n",
      "  3.55666727e-01  5.27359582e-02  2.65338600e-01 -1.34648904e-01\n",
      " -2.31409267e-01 -6.87697157e-02  7.02686980e-02  1.14909813e-01\n",
      " -8.44167918e-02  2.34106898e-01  1.84148364e-02  6.36409223e-02\n",
      "  1.78796947e-01  5.52565306e-02  1.70483266e-03 -2.09898517e-01\n",
      "  2.55310655e-01  1.08385819e-03  4.88267317e-02  1.05491877e-01\n",
      "  2.21387632e-02 -8.48192647e-02  3.31947207e-02 -6.05450124e-02\n",
      "  3.46006565e-02  1.26935527e-01  3.05751294e-01  1.09480202e-01\n",
      " -1.25170305e-01  5.37357293e-02  3.23130786e-02 -2.40208209e-01\n",
      " -1.55801177e-01 -6.94623664e-02 -1.13709919e-01 -1.03047319e-01\n",
      "  2.62882173e-01 -1.14286892e-01 -6.75434396e-02 -5.14699928e-02\n",
      "  3.23851198e-01  2.25077868e-01  2.33509541e-02  8.36848617e-02\n",
      " -1.21841997e-01  6.53968006e-02 -1.78718958e-02 -1.68623716e-01\n",
      "  1.88506648e-01  5.25773019e-02  3.73631716e-02  2.58677844e-02\n",
      "  9.81202871e-02 -8.07157531e-02 -1.28432199e-01  5.68488287e-03\n",
      "  1.81065854e-02  4.33817273e-03  6.70857504e-02  2.80999821e-02\n",
      " -3.25582266e-01  2.19159052e-01 -1.79707125e-01 -2.10250527e-01\n",
      "  3.94824371e-02  1.74259737e-01 -1.14816055e-01  4.41431776e-02\n",
      "  8.04718286e-02  3.80352624e-02  1.50710791e-01  5.03814081e-03\n",
      "  1.86975226e-01  1.08135857e-01 -7.64832366e-03  3.68741065e-01\n",
      "  1.62309021e-01 -6.48546964e-02 -1.71314646e-02  7.78241903e-02\n",
      " -1.18968815e-01  8.65975320e-02  8.76877382e-02 -2.49845404e-02\n",
      " -4.66529243e-02 -1.75620601e-01  6.92497864e-02 -8.67487341e-02\n",
      " -1.12978324e-01  1.61801428e-02  1.64148256e-01  1.73909545e-01\n",
      " -2.07674667e-01  1.62304789e-01  1.31582513e-01  2.58010715e-01\n",
      "  1.50346458e-01  2.07071215e-01 -5.81045309e-03 -5.92329912e-02\n",
      "  1.04643635e-01 -4.35788296e-02 -7.99446553e-02 -1.73245236e-01\n",
      "  1.25294909e-01 -8.82828087e-02  6.07473664e-02  1.24247581e-01\n",
      " -2.10012466e-01  3.81532386e-02  2.22451031e-01  2.13750929e-01\n",
      "  1.06049374e-01  5.13641946e-02  7.01750517e-02  9.29015800e-02\n",
      "  5.64363226e-02  6.82480112e-02 -1.54771194e-01 -5.92723452e-02\n",
      "  9.50865000e-02 -7.73652196e-02  8.51296037e-02 -1.39195155e-02\n",
      "  5.85003421e-02 -5.45990141e-03 -6.94251731e-02  2.03405127e-01\n",
      "  6.95300475e-02  1.80167615e-01 -1.42465532e-01  1.03187151e-01\n",
      " -2.98535987e-03  1.03254691e-01 -7.26656243e-02  7.70170465e-02\n",
      " -1.73514895e-02 -8.84829536e-02 -5.48659032e-03  2.51997441e-01\n",
      " -1.25676632e-01 -9.03374627e-02 -9.68461633e-02  1.18032515e-01\n",
      "  1.88090771e-01 -6.15449995e-02  3.85773741e-02  8.15754309e-02\n",
      " -1.33020012e-02 -1.39837161e-01  1.75665900e-01 -1.49784042e-02\n",
      "  5.30779175e-02  2.73841247e-02  5.80261759e-02 -7.92258233e-02\n",
      " -1.01531133e-01  5.76530471e-02 -2.70952821e-01 -6.66408986e-02\n",
      "  1.60427749e-01  9.89257544e-02  3.11961323e-02 -9.65081453e-02\n",
      "  2.09672726e-05 -8.97803381e-02  8.73805732e-02  1.09295929e-02\n",
      "  9.66260135e-02 -2.03024119e-01  2.20154554e-01 -8.68513361e-02\n",
      " -2.15681329e-01  1.21080950e-01 -5.38910702e-02  6.57732412e-02\n",
      "  2.12878957e-02 -1.62392080e-01  9.48859304e-02 -4.51540900e-03\n",
      " -1.90315232e-01  1.64417714e-01 -8.58584866e-02 -2.34459341e-01\n",
      "  1.72860920e-01 -2.72794180e-02 -2.52728127e-02 -3.50007340e-02\n",
      "  2.71294662e-03  2.61368304e-01 -1.30022513e-02 -1.94119867e-02\n",
      " -1.69345185e-01 -1.62147343e-01  1.03596956e-01 -2.82359384e-02\n",
      "  5.24250902e-02 -6.78371415e-02  9.59111601e-02  3.44047658e-02\n",
      "  1.40217230e-01 -2.55420804e-02  1.03355609e-01  8.07641298e-02\n",
      "  4.44966480e-02  1.38334244e-01 -2.24532913e-02  7.45783970e-02\n",
      " -1.74717069e-01  2.83840764e-02  2.12428793e-02 -1.65249601e-01\n",
      "  1.86263964e-01 -3.21646899e-01 -2.93316871e-01  2.30320301e-02\n",
      "  8.01157132e-02 -3.53376451e-03 -1.86043367e-01  9.92230773e-02\n",
      "  1.08978115e-01  1.58516005e-01  1.78163111e-01 -1.11852055e-02\n",
      "  6.74772337e-02 -2.34000862e-01  8.09494630e-02 -9.55113396e-02\n",
      "  1.30722702e-01 -9.25459787e-02  1.21848948e-01  2.63830215e-01\n",
      "  6.61874488e-02  1.27983183e-01  1.01922723e-02  1.80443093e-01\n",
      "  7.54856393e-02 -2.57546395e-01 -2.01299727e-01  8.93198848e-02\n",
      " -5.46003086e-03  2.16223039e-02 -3.11688650e-02  4.91531305e-02\n",
      " -1.83964074e-01  2.30252799e-02  4.14389558e-02  2.15543151e-01\n",
      "  5.62491231e-02 -8.01447183e-02  1.04844868e-01  1.94727369e-02\n",
      " -2.84194320e-01 -9.01982263e-02  7.39272833e-02  1.38690561e-01\n",
      "  1.94330066e-01 -9.34331119e-02 -1.23619750e-01 -5.17743602e-02\n",
      " -5.58029823e-02  1.02846986e-02 -2.31168747e-01 -6.02315925e-02\n",
      " -1.81750730e-01  1.63220197e-01 -1.66961197e-02 -6.96153194e-03\n",
      "  1.05643429e-01  7.54856318e-02 -1.14431597e-01  1.52907014e-01\n",
      "  2.03704134e-01  1.28689975e-01  1.16112074e-02 -8.22090954e-02\n",
      " -2.84872390e-02  4.53524217e-02  2.78010424e-02  9.48900282e-02\n",
      "  2.72061676e-01  4.29020375e-02 -2.39038482e-01 -1.19295940e-01\n",
      "  1.20512657e-01 -1.31445065e-01  2.43219454e-02  9.39304009e-02\n",
      "  2.04019006e-02 -2.87413951e-02 -2.13033751e-01  8.23533162e-02\n",
      " -1.95075721e-01 -2.34352663e-01 -1.03037529e-01 -1.55776799e-01\n",
      " -3.96391228e-02 -1.27640009e-01  1.70300275e-01 -1.90626048e-02\n",
      "  2.15379506e-01  3.46988323e-03  2.16931909e-01  2.10867506e-02\n",
      " -3.18285823e-01 -1.04570754e-01 -2.37280354e-01 -2.31558960e-02\n",
      "  8.16645026e-02  5.82223013e-02  7.66057447e-02  9.75801796e-03\n",
      " -2.68380418e-02  1.27967641e-01 -1.16669208e-01  3.14164996e-01\n",
      "  8.03211406e-02 -4.09642756e-01  1.96183503e-01  3.63621674e-02\n",
      "  9.72127467e-02  2.25771219e-01  2.68478453e-01  2.43468300e-01\n",
      "  1.45438150e-01 -2.21304774e-01 -4.04522382e-03  4.24348056e-01\n",
      " -1.73743963e-01  5.04551157e-02  3.96894887e-02  1.95677713e-01\n",
      " -1.03067882e-01 -1.90936565e-01 -2.26078983e-02 -2.16759577e-01]\n"
     ]
    }
   ],
   "source": [
    "vector = model.infer_vector(['brasil', 'you', 'can', 'prevent', 'forest', 'fires'])\n",
    "print(vector)"
   ]
  },
  {
   "cell_type": "code",
   "execution_count": 185,
   "metadata": {},
   "outputs": [],
   "source": [
    "ranks = []\n",
    "second_ranks = []\n",
    "for doc_id in range(len(train_corpus)):\n",
    "    inferred_vector = model.infer_vector(train_corpus[doc_id].words)\n",
    "    sims = model.dv.most_similar([inferred_vector], topn=len(model.dv))\n",
    "    rank = [docid for docid, sim in sims].index(doc_id)\n",
    "    ranks.append(rank)\n",
    "\n",
    "    second_ranks.append(sims[1])"
   ]
  },
  {
   "cell_type": "code",
   "execution_count": null,
   "metadata": {},
   "outputs": [
    {
     "name": "stdout",
     "output_type": "stream",
     "text": [
      "Counter({0: 11700, 1: 195, 2: 63, 6: 26, 4: 26, 3: 24, 5: 20, 7: 10, 8: 10, 11: 10, 27: 6, 9: 5, 19: 5, 10: 5, 15: 4, 22: 4, 13: 4, 16: 4, 12: 4, 124: 3, 25: 3, 59: 3, 94: 3, 55: 3, 78: 3, 14: 3, 18: 3, 34: 3, 204: 3, 36: 3, 20: 3, 73: 2, 42: 2, 51: 2, 63: 2, 111: 2, 23: 2, 66: 2, 147: 2, 67: 2, 48: 2, 171: 2, 150: 2, 121: 2, 62: 2, 30: 2, 71: 2, 45: 2, 103: 2, 72: 2, 126: 2, 60: 2, 43: 2, 86: 2, 61: 2, 32: 2, 165: 2, 116: 2, 68: 2, 38: 2, 203: 2, 112: 2, 69: 2, 368: 2, 96: 2, 136: 2, 11835: 1, 1461: 1, 70: 1, 330: 1, 127: 1, 457: 1, 26: 1, 35: 1, 340: 1, 139: 1, 80: 1, 184: 1, 137: 1, 54: 1, 199: 1, 632: 1, 44: 1, 235: 1, 3514: 1, 173: 1, 855: 1, 269: 1, 187: 1, 105: 1, 17: 1, 77: 1, 104: 1, 459: 1, 138: 1, 65: 1, 24: 1, 461: 1, 197: 1, 37: 1, 465: 1, 145: 1, 164: 1, 190: 1, 379: 1, 85: 1, 118: 1, 93: 1, 266: 1, 57: 1, 540: 1, 168: 1, 74: 1, 113: 1, 1712: 1, 282: 1, 89: 1, 230: 1, 115: 1, 46: 1, 153: 1, 421: 1, 224: 1, 58: 1, 84: 1, 79: 1, 185: 1, 47: 1, 657: 1, 472: 1, 929: 1, 174: 1, 1490: 1, 130: 1, 647: 1, 787: 1, 588: 1, 384: 1, 252: 1, 180: 1, 363: 1, 179: 1, 435: 1, 287: 1, 205: 1, 97: 1, 638: 1, 135: 1, 434: 1, 942: 1, 247: 1, 21: 1, 195: 1, 520: 1, 53: 1, 56: 1, 271: 1, 131: 1, 284: 1, 307: 1, 142: 1, 621: 1, 395: 1, 64: 1, 52: 1, 140: 1, 120: 1, 887: 1, 167: 1, 278: 1, 91: 1, 502: 1, 117: 1, 223: 1, 39: 1, 109: 1, 161: 1, 50: 1, 232: 1, 244: 1, 346: 1, 170: 1, 258: 1})\n"
     ]
    }
   ],
   "source": [
    "import collections\n",
    "\n",
    "counter = collections.Counter(ranks)\n",
    "print(counter)"
   ]
  },
  {
   "cell_type": "code",
   "execution_count": null,
   "metadata": {},
   "outputs": [],
   "source": [
    "#model.wv.index_to_key"
   ]
  },
  {
   "cell_type": "code",
   "execution_count": null,
   "metadata": {},
   "outputs": [
    {
     "name": "stdout",
     "output_type": "stream",
     "text": [
      "Test Document (2713): «cantor victor defende rede social apos indiciamento policia cantor indiciado policia civil minas gerais vias fato contravencao penal contra mulher poliana chaves cantor victor chaves dupla victor leo defendeu tarde desta video publicado rede social respeito indiciamento policia civil minas gerais vias fato contravencao penal contra mulher poliana bagatini chaves pessoal venho publico esclarecer coisa diante surgiram surgem incontaveis boatos indiciado legalmente vias fato contravencao nao machuquei ninguem pratiquei ato desespero conter pessoa completamente si pegar crianca ano filha fiz faria novo entao tudo sendo apurado devidamente declarou cantor advogado adilson rocha doutor criminologia disse contravencao penal nao considerada crime funcao preventiva contrario crime funcao repressiva ainda acordo rocha contravencao penal potencial ofensivo empurrao tapa rosto exemplo tipo agressao nao deixa lesoes marcas corporais porque inferior lesao corporal advogado disse normalmente nesses casos apenas termo circunstanciado ocorrencia tco pena costuma ser prestacao servico comunidade pagamento cestas basicas especialista explicou condenacao prisao rara pena prevista casos dias tres meses reclusao conclusao inquerito divulgada nesta poliana anos gravida prestou queixa contra marido anos dia fevereiro depoimento cantor negou ter agredido mulher policia civil diante provas coletadas concluiu indiciamento vitor chaves contravencao penal prevista artigo decreto lei vias fato conforme demonstrado laudo pericial imagens cameras seguranca predio depoimento vitima afirmou nota oficial corporacao inicio manha advogado victor felipe martins disse ainda nao tido acesso conclusao investigacao nao iria posicionar empresario victor nao localizado nesta policia civil informou encaminhou inquerito justica conforme forum lafayette partir recebimento sera distribuido varas juiz vai abrir vistas ministerio publico minas gerais manifeste investigacao conduzida delegada danubia quadros chefe divisao especializada atendimento mulher idoso pessoa deficiencia demid belo horizonte aguardava pericia imagens circuito seguranca predio casal concluir inquerito policia nao deu detalhes sobre laudo imagens parte fatos ocorrido elevador predio segundo versao vitima cantor empurrou mesma chao desferiu alguns chutes elevador informou delegada durante investigacao marco delegada divulgou exame corpo delito poliana negativo lesao corporal nao havia comprovacao lesoes aparentes contudo resultado nao descartava possibilidade agressao deixar marcas data danubia afirmou tambem acordo declaracoes prestadas victor depoimento dia antes desentendimento familiar mulher causado fato ter levado filha apartamento mae fica predio conforme delegada cantor disse mulher ficado nervosa situacao segundo investigado fato estar preocupado sair naquele estado levar bebezinha ano mes evitar prejuizo maior filhinha segundo nao agrediu vitima segundo nao chutou perna vitima nao empurrou vitima chao contou delegada sobre depoimento prestado marco ainda conforme delegada dia fevereiro poliana procurou delegacia entretanto nao aguardou atendimento alegando pressao baixa segundo delegada poliana retornou dia seguinte prestar declaracoes tambem apontou fato marido ter levado filha casa sogra causa desentendimento policia continuou investigando caso porque segundo lei maria penha registros agressao independem representacao vitima serem apurados dia fevereiro poliana chaves delegacia belo horizonte fez queixa contra marido victor chaves segundo boletim ocorrencia poliana disse agredida victor motivos futeis predio casal jogada chao recebeu varios chutes afirmou agressoes impedida sair local seguranca cunhada dia mae victor marisa chaves tambem prestou queixa policia deu outra versao segundo boletim ocorrencia disse poliana apartamento transtornada forma agressiva fez ameacas quebrou varios objetos dia mae cantor afirmou policiais irma tentou acalmar poliana victor segurou braco mulher pedindo acalmasse marisa afirmou nora atirou chao chorando debatendo dois dias poliana publicou carta perfil rede social afirmou momento algum considerou ocorrido qualquer crime principalmente praticado victor entrevista exclusiva tv globo cantor negou agressao reporter aline aguiar perguntou artista agressao victor respondeu absolutamente nunca agredi ninguem vida menos mulher gravida joao disse epoca»\n",
      "\n",
      "SIMILAR/DISSIMILAR DOCS PER MODEL Doc2Vec(dm/m,d512,n5,w5,mc2,s0.001,t3):\n",
      "\n",
      "MOST (9999, 0.871332049369812): «cantor victor chaves indiciado policia civil minas gerais suspeito agredir mulher poliana bagatini chaves gravida depoimento victor negou agressao cantor victor chaves dupla victor leo indiciado sob suspeita agressao contra mulher poliana bagatini chaves acordo policia civil minas gerais conclusao inquerito divulgada nesta poliana anos gravida prestou queixa contra marido anos dia fevereiro depoimento cantor negou ter agredido mulher policia civil diante provas coletadas concluiu indiciamento vitor chaves contravencao penal prevista artigo decreto lei vias fato conforme demonstrado laudo pericial imagens cameras seguranca predio depoimento vitima afirmou nota oficial victor defendeu tarde desta video postado rede social coletiva sera convocada advogado data local ainda nao definidos defensor cantor felipe martins disse ainda nao acesso conclusao investigacao enquanto nao vai posicionar empresario victor nao localizado nesta policia civil informou encaminhou inquerito justica conforme forum lafayette partir recebimento sera distribuido varas juiz vai abrir vistas ministerio publico minas gerais manifeste investigacao conduzida delegada danubia quadros chefe divisao especializada atendimento mulher idoso pessoa deficiencia demid belo horizonte aguardava pericia imagens circuito seguranca predio casal concluir inquerito policia nao deu detalhes sobre laudo imagens parte fatos ocorrido elevador predio segundo versao vitima cantor empurrou mesma chao desferiu alguns chutes elevador informou delegada durante investigacao marco delegada divulgou exame corpo delito poliana negativo lesao corporal nao havia comprovacao lesoes aparentes contudo resultado nao descartava possibilidade agressao deixar marcas data danubia afirmou tambem acordo declaracoes prestadas victor depoimento dia antes desentendimento familiar mulher causado fato ter levado filha apartamento mae fica predio conforme delegada cantor disse mulher ficado nervosa situacao segundo investigado fato estar preocupado sair naquele estado levar bebezinha ano mes evitar prejuizo maior filhinha segundo nao agrediu vitima segundo nao chutou perna vitima nao empurrou vitima chao contou delegada sobre depoimento prestado marco ainda conforme delegada dia fevereiro poliana procurou delegacia entretanto nao aguardou atendimento alegando pressao baixa segundo delegada poliana retornou dia seguinte prestar declaracoes tambem apontou fato marido ter levado filha casa sogra causa desentendimento policia continuou investigando caso porque segundo lei maria penha registros agressao independem representacao vitima serem apurados advogado adilson rocha doutor criminologia disse contravencao penal nao considerada crime funcao preventiva contrario crime funcao repressiva ainda acordo rocha contravencao penal potencial ofensivo empurrao tapa rosto exemplo tipo agressao nao deixa lesoes marcas corporais porque inferior lesao corporal advogado disse normalmente nesses casos apenas termo circunstanciado ocorrencia tco pena costuma ser prestacao servico comunidade pagamento cestas basicas especialista explicou condenacao prisao rara pena prevista casos dias tres meses reclusao dia fevereiro poliana chaves delegacia belo horizonte fez queixa contra marido victor chaves segundo boletim ocorrencia poliana disse agredida victor motivos futeis predio casal jogada chao recebeu varios chutes afirmou agressoes impedida sair local seguranca cunhada dia mae victor marisa chaves tambem prestou queixa policia deu outra versao segundo boletim ocorrencia disse poliana apartamento transtornada forma agressiva fez ameacas quebrou varios objetos dia mae cantor afirmou policiais irma tentou acalmar poliana victor segurou braco mulher pedindo acalmasse marisa afirmou nora atirou chao chorando debatendo dois dias poliana publicou carta perfil rede social afirmou momento algum considerou ocorrido qualquer crime principalmente praticado victor entrevista exclusiva tv globo cantor negou agressao reporter aline aguiar perguntou artista agressao victor respondeu absolutamente nunca agredi ninguem vida menos mulher gravida joao disse epoca»\n",
      "\n",
      "MEDIAN (10349, 0.1932360678911209): «arraial corrupcao collor participa festa junina xinga ate mae janot noite ultimo sabado heraclito fortes deputado psb fez festinha receber alguns politicos casa filha brasilia fernando collor compareceu festa ficou ate madrugada esposa caroline medeiros filhas gemeas fumando charutos cubanos ostentando prepotencia caracteristica collor voltou ofender rodrigo janot republica afirmou heraclito gostaria sair defesa parlamentar voce absoluta solidariedade toda solidariedade contra filho janot disse abracado anfitriao filho porque mae falo aqui porque ja falei senado justificou informacao felipe frazao veja sergio machado delator transpetro citou nome deputado piauiense heraclito fortes psb delacao premiada acordo informacoes folha heraclito recebido propina empreiteiras investigadas operacao»\n",
      "\n",
      "LEAST (9361, -0.17661403119564056): «na américa latina desinformação sobre covid circula vídeos»\n",
      "\n"
     ]
    }
   ],
   "source": [
    "\n",
    "# Pick a random document from the test corpus and infer a vector from the model\n",
    "doc_id = random.randint(0, len(test_corpus) - 1)\n",
    "inferred_vector = model.infer_vector(test_corpus[doc_id])\n",
    "sims = model.dv.most_similar([inferred_vector], topn=len(model.dv))\n",
    "\n",
    "# Compare and print the most/median/least similar documents from the train corpus\n",
    "print('Test Document ({}): «{}»\\n'.format(doc_id, ' '.join(test_corpus[doc_id])))\n",
    "#print('Document ({}): «{}»\\n'.format(doc_id, ' '.join(train_corpus[doc_id].words)))\n",
    "print(u'SIMILAR/DISSIMILAR DOCS PER MODEL %s:\\n' % model)\n",
    "for label, index in [('MOST', 0), ('MEDIAN', len(sims)//2), ('LEAST', len(sims) - 1)]:\n",
    "    print(u'%s %s: «%s»\\n' % (label, sims[index], ' '.join(train_corpus[sims[index][0]].words)))\n",
    "    vector = model.infer_vector(['only', 'you', 'can', 'prevent', 'forest', 'fires'])\n"
   ]
  },
  {
   "cell_type": "code",
   "execution_count": null,
   "metadata": {},
   "outputs": [],
   "source": [
    "#inferred_vector\n"
   ]
  },
  {
   "cell_type": "markdown",
   "metadata": {},
   "source": [
    "## CONJUNTO SCRAPY\n"
   ]
  },
  {
   "cell_type": "code",
   "execution_count": null,
   "metadata": {},
   "outputs": [],
   "source": [
    "def read_corpus(fname, tokens_only=False):\n",
    "    with smart_open.open(fname, encoding=\"utf-8\") as f:\n",
    "        for i, line in enumerate(f):\n",
    "            tokens = gensim.utils.simple_preprocess(line)\n",
    "            if tokens_only:\n",
    "                yield tokens\n",
    "            else:\n",
    "                # For training data, add tags\n",
    "                yield gensim.models.doc2vec.TaggedDocument(tokens, [i])\n",
    "\n",
    "train_corpus1 = list(read_corpus('../data/TreinoScrapy'))\n",
    "test_corpus1 = list(read_corpus('../data/TesteScrapy', tokens_only=True))"
   ]
  },
  {
   "cell_type": "code",
   "execution_count": null,
   "metadata": {},
   "outputs": [
    {
     "name": "stdout",
     "output_type": "stream",
     "text": [
      "[TaggedDocument(words=['title'], tags=[0]), TaggedDocument(words=['capa', 'new', 'york', 'times', 'enaltecendo', 'atos', 'pró', 'bolsonaro', 'dia', 'trabalho'], tags=[1])]\n"
     ]
    }
   ],
   "source": [
    "print(train_corpus[:2])"
   ]
  },
  {
   "cell_type": "code",
   "execution_count": null,
   "metadata": {},
   "outputs": [],
   "source": [
    "model1 = gensim.models.doc2vec.Doc2Vec(vector_size=512, min_count=2, epochs=40)"
   ]
  },
  {
   "cell_type": "code",
   "execution_count": null,
   "metadata": {},
   "outputs": [],
   "source": [
    "model1.build_vocab(train_corpus1)"
   ]
  },
  {
   "cell_type": "code",
   "execution_count": null,
   "metadata": {},
   "outputs": [
    {
     "name": "stdout",
     "output_type": "stream",
     "text": [
      "Word 'brasil' appeared 445 times in the training corpus.\n"
     ]
    }
   ],
   "source": [
    "print(f\"Word 'brasil' appeared {model1.wv.get_vecattr('brasil', 'count')} times in the training corpus.\")\n"
   ]
  },
  {
   "cell_type": "code",
   "execution_count": null,
   "metadata": {},
   "outputs": [],
   "source": [
    "model1.train(train_corpus1, total_examples=model1.corpus_count, epochs=model1.epochs)"
   ]
  },
  {
   "cell_type": "code",
   "execution_count": null,
   "metadata": {},
   "outputs": [
    {
     "name": "stdout",
     "output_type": "stream",
     "text": [
      "[ 2.66969018e-02 -3.86607312e-02  3.14160832e-03  2.01886818e-02\n",
      "  1.60304569e-02  6.71502575e-02  1.90337524e-02  3.39878490e-03\n",
      "  2.10812446e-02  1.67463403e-02  1.54826622e-02 -1.72322728e-02\n",
      "  4.09781188e-02 -3.52272652e-02  1.17802070e-02 -2.99163926e-02\n",
      " -2.38711946e-02  1.42043903e-02 -5.08692451e-02  3.59078422e-02\n",
      "  2.31030770e-02 -5.80151891e-03 -3.40163033e-03 -4.49281707e-02\n",
      " -2.07665637e-02  6.25250265e-02 -3.53103839e-02  1.67150814e-02\n",
      "  1.34851644e-02 -1.61920190e-02  3.77508998e-02  3.10507379e-02\n",
      " -2.75321510e-02 -1.24264965e-02  2.35616397e-02  2.42933654e-03\n",
      "  1.59213431e-02  2.33286922e-03 -2.22293809e-02  2.00754460e-02\n",
      " -1.30408797e-02  2.20344448e-03  1.40417013e-02 -2.88721453e-02\n",
      "  7.27006048e-02 -2.70649884e-02 -4.05032597e-02  2.35330705e-02\n",
      "  4.25226130e-02 -2.08101291e-02 -8.33800156e-03 -8.65692925e-03\n",
      " -2.38179006e-02  4.74766120e-02 -6.83055520e-02 -2.99237277e-02\n",
      "  3.40223126e-02 -6.37414753e-02  7.81627931e-03  1.66814327e-02\n",
      " -2.03087460e-02  1.44326147e-02 -1.77068729e-02  2.49441620e-02\n",
      "  5.12625687e-02 -1.58217754e-02 -1.07016061e-02  6.97915303e-03\n",
      " -1.10790618e-02 -2.80855242e-02 -1.89794507e-02 -6.17138715e-03\n",
      " -5.00791445e-02  5.47298323e-03  5.46804257e-03  3.38506587e-02\n",
      "  3.35050188e-02 -1.45717645e-02 -1.14234509e-02  2.43627466e-02\n",
      " -1.23769501e-02  3.88364820e-03  1.88544784e-02  1.52801387e-02\n",
      "  9.47608714e-05  4.54610726e-03  3.62658054e-02 -4.17959364e-03\n",
      " -3.04225907e-02  4.99815270e-02  1.54227400e-02 -1.35900397e-02\n",
      " -2.82697342e-02 -8.10446590e-02  4.06348845e-03 -7.55823450e-04\n",
      " -4.36429754e-02 -1.99443288e-02 -1.71750737e-03  1.05678802e-02\n",
      " -8.50816965e-02  1.77884568e-02 -1.27371040e-03 -1.68005824e-02\n",
      "  1.13692712e-02  2.49184091e-02 -2.49610730e-02  1.45903891e-02\n",
      "  5.76395877e-02 -2.28529074e-03  6.51578754e-02 -5.46165742e-02\n",
      "  2.65670009e-02  3.27223130e-02  7.17261946e-03  2.98238848e-03\n",
      "  4.36181575e-02  3.40982564e-02  2.35241503e-02 -1.89241546e-03\n",
      " -3.73082608e-02 -2.69081723e-02  2.51639858e-02 -1.06690032e-02\n",
      " -1.20520247e-02 -4.03171405e-02 -2.08831746e-02 -7.42112473e-03\n",
      "  3.45219858e-02  1.70562342e-02 -4.22544442e-02 -1.47407465e-02\n",
      "  3.64585370e-02 -7.09149148e-03 -6.83424354e-04 -2.79236734e-02\n",
      " -4.54380251e-02  1.69124417e-02 -1.83885254e-03 -4.90211286e-02\n",
      " -1.82546079e-02 -7.48005230e-03 -1.20848631e-02  3.07301693e-02\n",
      " -4.71185036e-02 -3.25668342e-02  7.27473106e-03 -1.85270775e-02\n",
      "  5.05642220e-02 -2.64548976e-02  9.24992654e-03 -7.80049115e-02\n",
      " -2.96869818e-02  8.19452980e-04 -7.49899149e-02  3.80443111e-02\n",
      "  4.45119627e-02  2.17090081e-02 -4.60201167e-02  2.53327144e-03\n",
      "  3.85543541e-03 -1.03999209e-03  1.05812466e-02  3.31316399e-03\n",
      "  2.13963911e-02  5.51097542e-02 -1.89114828e-02 -1.89774611e-03\n",
      "  6.68650493e-02  2.74521392e-02 -1.82529576e-02 -1.83900502e-02\n",
      " -3.13722119e-02  5.82635356e-03 -4.43485677e-02 -2.14456376e-02\n",
      " -6.11013500e-04 -3.60153057e-02  3.94163057e-02 -3.27867866e-02\n",
      " -1.80504173e-02 -2.55813207e-02 -2.80402675e-02 -1.11658528e-01\n",
      "  9.11430281e-04  1.65282954e-02 -3.83264571e-02 -9.64306667e-03\n",
      " -9.05691832e-03 -3.62782227e-03  1.41846444e-02  3.52034578e-04\n",
      "  3.75351422e-02 -8.35299119e-03 -6.75412547e-03  4.43329886e-02\n",
      " -6.48198929e-03 -3.25193927e-02 -7.65685318e-03  2.40211505e-02\n",
      " -4.28826660e-02  2.56806239e-02  2.54621971e-02 -4.87353392e-02\n",
      "  5.20726724e-04  3.00696716e-02 -5.99625111e-02  3.53969932e-02\n",
      " -1.62458718e-02 -1.77908409e-03 -5.13901329e-03  2.55252104e-02\n",
      "  4.15521003e-02 -2.68734768e-02 -3.59647758e-02 -1.53124221e-02\n",
      "  4.14042957e-02  1.20340865e-02 -1.19674169e-02  5.32908849e-02\n",
      " -2.72134393e-02  2.88408101e-02  5.45215532e-02 -3.78643125e-02\n",
      "  2.85867285e-02  2.39521009e-03 -9.63169988e-03  3.71986777e-02\n",
      "  1.51312714e-02  4.81206970e-03 -6.73002843e-03 -9.28110257e-02\n",
      "  4.39220592e-02 -7.72217289e-03 -2.55488865e-02  5.86097464e-02\n",
      "  9.72236414e-03  1.03798909e-02  1.36968694e-04  7.72000151e-03\n",
      "  1.87163912e-02  1.90383475e-02  2.50029992e-02  2.25918703e-02\n",
      "  1.37188593e-02  3.78361829e-02  2.39285734e-02  8.98040365e-03\n",
      "  1.60915740e-02 -6.27069324e-02 -1.43068815e-02 -5.63454069e-03\n",
      "  1.06204106e-02 -1.53355571e-02 -6.80914596e-02  8.40321258e-02\n",
      " -1.17709506e-02  4.08605952e-03 -1.68794710e-02  4.79736514e-02\n",
      "  8.95460248e-02 -5.47323078e-02 -3.78353288e-03 -1.84135027e-02\n",
      " -3.36510018e-02  5.52016776e-03 -6.22994564e-02  1.94451399e-02\n",
      " -4.71072309e-02  4.12013009e-03  4.40264717e-02  3.46172377e-02\n",
      " -1.94275174e-02 -4.72948849e-02 -6.12459220e-02  3.64370681e-02\n",
      " -3.46550010e-02  3.29391262e-03 -2.42453534e-02 -5.41848540e-02\n",
      "  1.16196675e-02  1.41426118e-03 -2.27724928e-02 -6.26295665e-03\n",
      "  6.98423944e-03  3.55674401e-02 -4.68832004e-04 -2.53346469e-02\n",
      "  6.84985018e-04 -1.55568374e-02  2.59931036e-03  2.79306546e-02\n",
      "  4.98327799e-02 -2.20282264e-02  3.78618166e-02  2.16272026e-02\n",
      " -1.18462732e-02  6.30066171e-02  4.88591827e-02 -3.50037850e-02\n",
      "  1.56330261e-02 -9.62245464e-03  9.84680280e-03 -2.75174119e-02\n",
      "  7.54184462e-03 -1.08505096e-02  3.85761843e-03  1.39250970e-02\n",
      "  5.52866654e-03 -2.22794041e-02  1.16199013e-02 -9.47423186e-03\n",
      " -4.71497737e-02 -2.75566569e-03  2.05838475e-02  1.67220403e-02\n",
      " -3.22405510e-02 -1.32003594e-02  1.14017045e-02 -3.36728171e-02\n",
      " -4.81507974e-03 -1.61542259e-02  1.57807325e-03  1.11115286e-02\n",
      " -1.49096400e-02 -7.93923158e-03  3.74599323e-02 -5.06910682e-03\n",
      " -4.19948213e-02 -1.93079934e-02  2.47715618e-02 -5.96326776e-03\n",
      " -6.38570487e-02 -2.32059322e-02  1.26924012e-02  3.40177678e-02\n",
      " -5.27643226e-02 -2.69463956e-02  5.04146777e-02  4.81144823e-02\n",
      " -7.48242158e-03  3.87533195e-02  3.68165635e-02 -3.67168598e-02\n",
      "  1.99224101e-03  4.94421180e-03  3.46311852e-02 -3.76880318e-02\n",
      "  1.67434034e-03  4.26860191e-02 -4.84533986e-04  2.67403144e-02\n",
      " -7.07726479e-02 -2.10686792e-02 -3.39029753e-03 -2.74103805e-02\n",
      "  8.20786040e-03 -4.93264385e-02  3.67549807e-03  2.60846019e-02\n",
      "  3.15557681e-02 -1.22780667e-03  5.75709231e-02 -4.45620008e-02\n",
      "  3.57412361e-02  3.00660636e-02  1.27090225e-02  8.15990008e-03\n",
      "  4.22562892e-03 -2.42906623e-02  3.16673284e-03 -2.42304523e-02\n",
      "  4.62064967e-02 -1.06554236e-02 -1.21661695e-03  2.29115002e-02\n",
      "  6.64595142e-02 -5.09610623e-02  4.89003817e-03  8.80877208e-03\n",
      "  1.02262367e-02  2.24895533e-02  5.17964624e-02  4.72485274e-02\n",
      " -1.43454988e-02 -2.79050469e-02  5.25905453e-02  1.27571989e-02\n",
      "  1.63707249e-02 -1.72371063e-02 -4.05752659e-02 -2.02985131e-03\n",
      "  3.18813287e-02  1.88310705e-02  2.31687259e-02  3.11107095e-02\n",
      "  1.03478692e-02 -1.38030504e-03  3.97572033e-02  3.56555954e-02\n",
      " -4.85576726e-02  4.56437794e-03  7.97900930e-03  2.03298274e-02\n",
      " -4.42287978e-03 -1.70697551e-02 -1.05527462e-02  3.05324197e-02\n",
      " -3.00621521e-02 -1.90453492e-02 -2.94756498e-02  6.57716626e-03\n",
      " -2.11197194e-02 -5.37959859e-04  3.13134156e-02 -9.06591211e-03\n",
      "  5.84204458e-02  1.10802008e-02  3.98430899e-02  5.26301749e-02\n",
      " -1.17815088e-03 -1.75830722e-02 -4.08676006e-02  2.85651702e-02\n",
      "  4.01167274e-02 -3.46892774e-02 -5.45428484e-04 -3.19835842e-02\n",
      "  1.77927092e-02 -3.20046283e-02 -4.43149172e-02 -1.16247693e-02\n",
      " -1.42139560e-02 -2.44752597e-02  6.76839873e-02  2.36154925e-02\n",
      "  1.75706111e-02 -7.82643631e-03 -1.41994245e-02  1.99846495e-02\n",
      "  3.87080386e-02  2.68697031e-02 -2.37198118e-02  1.31061291e-02\n",
      " -4.21365350e-02  1.72028989e-02  2.97452863e-02  2.54479516e-02\n",
      "  6.05574027e-02 -3.32693644e-02  4.04879972e-02 -5.56050008e-03\n",
      " -1.08628860e-02 -7.38868266e-02 -4.27251356e-03 -5.39762862e-02\n",
      " -5.33666536e-02 -1.27285784e-02  4.09760997e-02 -2.26152316e-02\n",
      " -3.88232172e-02 -1.38724567e-02 -4.02767323e-02 -4.04393598e-02\n",
      " -3.79138105e-02 -4.10298212e-03  1.34532014e-02  2.01544575e-02\n",
      "  2.90383454e-02  4.56245616e-02  4.78023849e-02 -1.38034550e-02\n",
      "  2.30120141e-02  2.60923803e-02 -2.97885318e-03  1.48697523e-02\n",
      "  4.57612015e-02  4.58131880e-02 -3.73789072e-02 -7.19864527e-03\n",
      " -3.58935706e-02 -2.73507163e-02 -4.45689373e-02  3.46197598e-02\n",
      " -4.99500893e-02  3.29724923e-02 -1.47392731e-02  3.23104039e-02\n",
      " -1.04386103e-03  1.67038776e-02  3.00814025e-02  2.36043166e-02\n",
      " -1.02564963e-02  2.49507111e-02  1.08828885e-03  7.87663646e-03\n",
      " -6.58975448e-03  3.46712582e-02 -3.60335894e-02 -7.52125913e-03\n",
      "  3.05839106e-02  1.51470555e-02  6.96853101e-02  3.34112458e-02\n",
      "  2.23397254e-03 -6.84052706e-03 -6.76384708e-03  4.12063487e-02\n",
      " -6.11231327e-02 -9.94409714e-03 -1.08811650e-02 -5.81471361e-02]\n"
     ]
    }
   ],
   "source": [
    "vector = model1.infer_vector(['brasil', 'you', 'can', 'prevent', 'forest', 'fires'])\n",
    "print(vector)"
   ]
  },
  {
   "cell_type": "code",
   "execution_count": null,
   "metadata": {},
   "outputs": [],
   "source": [
    "ranks = []\n",
    "second_ranks = []\n",
    "for doc_id in range(len(train_corpus1)):\n",
    "    inferred_vector = model1.infer_vector(train_corpus1[doc_id].words)\n",
    "    sims = model1.dv.most_similar([inferred_vector], topn=len(model1.dv))\n",
    "    rank = [docid for docid, sim in sims].index(doc_id)\n",
    "    ranks.append(rank)\n",
    "\n",
    "    second_ranks.append(sims[1])"
   ]
  },
  {
   "cell_type": "code",
   "execution_count": null,
   "metadata": {},
   "outputs": [
    {
     "name": "stdout",
     "output_type": "stream",
     "text": [
      "Counter({0: 3659, 1: 630, 2: 298, 3: 203, 4: 154, 5: 127, 6: 104, 7: 78, 9: 72, 8: 63, 11: 54, 10: 51, 14: 37, 17: 36, 13: 35, 12: 33, 15: 33, 16: 31, 19: 30, 18: 29, 25: 27, 22: 27, 20: 25, 29: 24, 30: 23, 23: 20, 24: 17, 21: 17, 40: 16, 26: 16, 27: 16, 33: 16, 31: 14, 45: 14, 28: 13, 39: 12, 41: 12, 37: 12, 35: 11, 43: 11, 47: 10, 34: 10, 49: 9, 38: 9, 36: 9, 32: 9, 63: 9, 54: 9, 56: 9, 48: 9, 46: 9, 73: 8, 92: 8, 52: 8, 44: 8, 57: 8, 88: 8, 62: 8, 50: 8, 51: 6, 53: 6, 129: 6, 67: 6, 117: 6, 100: 6, 55: 6, 64: 6, 61: 5, 76: 5, 106: 5, 86: 5, 60: 5, 89: 5, 84: 5, 42: 5, 59: 5, 90: 5, 143: 5, 68: 5, 79: 5, 77: 4, 78: 4, 122: 4, 164: 4, 70: 4, 313: 4, 138: 4, 157: 4, 101: 4, 85: 4, 66: 4, 98: 4, 115: 4, 80: 4, 109: 4, 225: 4, 96: 4, 91: 4, 75: 4, 103: 3, 124: 3, 108: 3, 151: 3, 114: 3, 161: 3, 111: 3, 177: 3, 131: 3, 240: 3, 163: 3, 205: 3, 69: 3, 72: 3, 119: 3, 71: 3, 181: 3, 58: 3, 120: 3, 203: 3, 74: 3, 265: 3, 174: 2, 144: 2, 2403: 2, 83: 2, 137: 2, 311: 2, 408: 2, 367: 2, 126: 2, 218: 2, 99: 2, 188: 2, 128: 2, 123: 2, 282: 2, 331: 2, 1386: 2, 133: 2, 2213: 2, 180: 2, 209: 2, 95: 2, 1388: 2, 415: 2, 327: 2, 308: 2, 192: 2, 427: 2, 296: 2, 498: 2, 321: 2, 152: 2, 159: 2, 158: 2, 65: 2, 97: 2, 193: 2, 378: 2, 966: 2, 346: 2, 634: 2, 507: 2, 93: 2, 127: 2, 94: 2, 194: 2, 187: 2, 1304: 2, 2386: 2, 424: 2, 102: 2, 280: 2, 364: 2, 352: 2, 360: 2, 139: 2, 833: 2, 170: 2, 104: 2, 351: 2, 105: 2, 82: 2, 336: 2, 423: 2, 353: 2, 208: 2, 169: 2, 6717: 1, 156: 1, 562: 1, 251: 1, 995: 1, 230: 1, 506: 1, 3209: 1, 1389: 1, 792: 1, 469: 1, 446: 1, 1976: 1, 727: 1, 184: 1, 1045: 1, 250: 1, 275: 1, 400: 1, 2546: 1, 568: 1, 232: 1, 1493: 1, 166: 1, 1020: 1, 345: 1, 379: 1, 1208: 1, 1467: 1, 356: 1, 173: 1, 964: 1, 2144: 1, 514: 1, 1102: 1, 2249: 1, 147: 1, 277: 1, 1443: 1, 555: 1, 1141: 1, 4540: 1, 2912: 1, 253: 1, 1503: 1, 926: 1, 974: 1, 1470: 1, 389: 1, 153: 1, 2668: 1, 178: 1, 107: 1, 621: 1, 1820: 1, 168: 1, 2050: 1, 2242: 1, 1313: 1, 1180: 1, 508: 1, 206: 1, 261: 1, 337: 1, 3409: 1, 721: 1, 226: 1, 607: 1, 1712: 1, 377: 1, 789: 1, 1514: 1, 2549: 1, 1049: 1, 809: 1, 2259: 1, 1667: 1, 284: 1, 254: 1, 1808: 1, 116: 1, 171: 1, 793: 1, 183: 1, 523: 1, 242: 1, 3912: 1, 223: 1, 263: 1, 2155: 1, 406: 1, 962: 1, 3524: 1, 1373: 1, 2329: 1, 134: 1, 204: 1, 747: 1, 429: 1, 370: 1, 1591: 1, 1840: 1, 529: 1, 913: 1, 4710: 1, 4848: 1, 295: 1, 763: 1, 473: 1, 467: 1, 556: 1, 1082: 1, 2693: 1, 185: 1, 942: 1, 1633: 1, 601: 1, 1232: 1, 1103: 1, 3689: 1, 4316: 1, 504: 1, 221: 1, 273: 1, 1244: 1, 1921: 1, 344: 1, 4288: 1, 305: 1, 478: 1, 1289: 1, 113: 1, 375: 1, 248: 1, 214: 1, 132: 1, 118: 1, 1080: 1, 1656: 1, 869: 1, 1047: 1, 479: 1, 354: 1, 684: 1, 1537: 1, 519: 1, 2655: 1, 2091: 1, 341: 1, 642: 1, 1146: 1, 272: 1, 359: 1, 2218: 1, 476: 1, 1240: 1, 2683: 1, 2637: 1, 403: 1, 357: 1, 808: 1, 339: 1, 762: 1, 197: 1, 146: 1, 182: 1, 749: 1, 1430: 1, 804: 1, 372: 1, 2585: 1, 737: 1, 989: 1, 528: 1, 564: 1, 1506: 1, 142: 1, 125: 1, 373: 1, 1780: 1, 255: 1, 365: 1, 486: 1, 444: 1, 501: 1, 1471: 1, 1271: 1, 87: 1, 488: 1, 418: 1, 841: 1, 231: 1, 1962: 1, 596: 1, 1258: 1, 112: 1, 772: 1, 557: 1, 130: 1, 1485: 1, 252: 1, 903: 1, 2759: 1, 212: 1, 1955: 1, 978: 1, 390: 1, 154: 1, 3688: 1, 2279: 1, 906: 1, 278: 1, 407: 1, 647: 1, 301: 1, 2473: 1, 300: 1, 328: 1, 4959: 1, 765: 1, 2021: 1, 1763: 1, 267: 1, 1920: 1, 1219: 1, 757: 1, 330: 1, 500: 1, 1164: 1, 2195: 1, 591: 1, 1540: 1, 3176: 1, 691: 1, 1064: 1, 477: 1, 281: 1, 1860: 1, 307: 1, 1880: 1, 586: 1, 453: 1, 445: 1, 2622: 1, 1286: 1, 262: 1, 121: 1, 976: 1, 326: 1, 81: 1, 276: 1, 322: 1, 707: 1, 715: 1, 696: 1, 1354: 1, 693: 1, 271: 1, 1803: 1, 1777: 1, 1106: 1, 1152: 1, 3135: 1, 1624: 1, 426: 1, 985: 1, 287: 1, 210: 1, 338: 1, 996: 1, 726: 1, 155: 1, 165: 1, 776: 1, 1481: 1, 195: 1, 1587: 1, 402: 1, 939: 1, 198: 1, 1525: 1, 1062: 1, 2733: 1, 919: 1, 784: 1, 1335: 1, 2176: 1, 1065: 1, 228: 1, 558: 1, 2098: 1, 846: 1, 492: 1, 541: 1})\n"
     ]
    }
   ],
   "source": [
    "counter = collections.Counter(ranks)\n",
    "print(counter)"
   ]
  },
  {
   "cell_type": "code",
   "execution_count": null,
   "metadata": {},
   "outputs": [
    {
     "name": "stdout",
     "output_type": "stream",
     "text": [
      "Test Document (1629): «projeto lei iniciativa popular reforma congresso nacional»\n",
      "\n",
      "SIMILAR/DISSIMILAR DOCS PER MODEL Doc2Vec(dm/m,d512,n5,w5,mc2,s0.001,t3):\n",
      "\n",
      "MOST (6063, 0.9212731122970581): «votação projeto abuso autoridade secreta»\n",
      "\n",
      "MEDIAN (683, 0.6011037230491638): «áudio mostre últimas palavras piloto avião cantora marília mendonça»\n",
      "\n",
      "LEAST (4037, -0.5963874459266663): «coronavírus veja checamos sobre pandemia atinge mundo»\n",
      "\n"
     ]
    }
   ],
   "source": [
    "# Pick a random document from the test corpus and infer a vector from the model\n",
    "doc_id = random.randint(0, len(test_corpus1) - 1)\n",
    "inferred_vector = model1.infer_vector(test_corpus1[doc_id])\n",
    "sims = model1.dv.most_similar([inferred_vector], topn=len(model1.dv))\n",
    "\n",
    "# Compare and print the most/median/least similar documents from the train corpus\n",
    "print('Test Document ({}): «{}»\\n'.format(doc_id, ' '.join(test_corpus1[doc_id])))\n",
    "#print('Document ({}): «{}»\\n'.format(doc_id, ' '.join(train_corpus[doc_id].words)))\n",
    "print(u'SIMILAR/DISSIMILAR DOCS PER MODEL %s:\\n' % model1)\n",
    "for label, index in [('MOST', 0), ('MEDIAN', len(sims)//2), ('LEAST', len(sims) - 1)]:\n",
    "    print(u'%s %s: «%s»\\n' % (label, sims[index], ' '.join(train_corpus1[sims[index][0]].words)))\n",
    "    vector = model1.infer_vector(['only', 'you', 'can', 'prevent', 'forest', 'fires'])"
   ]
  },
  {
   "cell_type": "markdown",
   "metadata": {},
   "source": [
    "## Conjunto Corpus"
   ]
  },
  {
   "cell_type": "code",
   "execution_count": null,
   "metadata": {},
   "outputs": [],
   "source": [
    "def read_corpus(fname, tokens_only=False):\n",
    "    with smart_open.open(fname, encoding=\"utf-8\") as f:\n",
    "        for i, line in enumerate(f):\n",
    "            tokens = gensim.utils.simple_preprocess(line)\n",
    "            if tokens_only:\n",
    "                yield tokens\n",
    "            else:\n",
    "                # For training data, add tags\n",
    "                yield gensim.models.doc2vec.TaggedDocument(tokens, [i])\n",
    "\n",
    "train_corpus2 = list(read_corpus('../data/TreinoScrapy'))\n",
    "test_corpus2 = list(read_corpus('../data/TesteScrapy', tokens_only=True))"
   ]
  },
  {
   "cell_type": "code",
   "execution_count": null,
   "metadata": {},
   "outputs": [
    {
     "name": "stdout",
     "output_type": "stream",
     "text": [
      "[TaggedDocument(words=['title'], tags=[0]), TaggedDocument(words=['capa', 'new', 'york', 'times', 'enaltecendo', 'atos', 'pró', 'bolsonaro', 'dia', 'trabalho'], tags=[1])]\n"
     ]
    }
   ],
   "source": [
    "print(train_corpus[:2])"
   ]
  },
  {
   "cell_type": "code",
   "execution_count": null,
   "metadata": {},
   "outputs": [],
   "source": [
    "model2 = gensim.models.doc2vec.Doc2Vec(vector_size=512, min_count=2, epochs=40)"
   ]
  },
  {
   "cell_type": "code",
   "execution_count": null,
   "metadata": {},
   "outputs": [],
   "source": [
    "model2.build_vocab(train_corpus2)"
   ]
  },
  {
   "cell_type": "code",
   "execution_count": null,
   "metadata": {},
   "outputs": [
    {
     "name": "stdout",
     "output_type": "stream",
     "text": [
      "Word 'brasil' appeared 445 times in the training corpus.\n"
     ]
    }
   ],
   "source": [
    "print(f\"Word 'brasil' appeared {model2.wv.get_vecattr('brasil', 'count')} times in the training corpus.\")\n"
   ]
  },
  {
   "cell_type": "code",
   "execution_count": null,
   "metadata": {},
   "outputs": [],
   "source": [
    "model2.train(train_corpus2, total_examples=model2.corpus_count, epochs=model2.epochs)"
   ]
  },
  {
   "cell_type": "code",
   "execution_count": null,
   "metadata": {},
   "outputs": [
    {
     "name": "stdout",
     "output_type": "stream",
     "text": [
      "[ 0.00848151 -0.03953174 -0.01320362  0.0316946   0.02374658  0.05625754\n",
      "  0.02991489 -0.02453753  0.02800688  0.04224154  0.02937849 -0.02800361\n",
      "  0.04192578 -0.03141179 -0.00658014 -0.01693545 -0.03356803  0.02493306\n",
      " -0.06728064  0.02511611  0.05709944 -0.00997674  0.00518778 -0.02713985\n",
      " -0.0283745   0.03851951 -0.01296459  0.02342603  0.01351807 -0.02063483\n",
      "  0.03536247  0.03728883 -0.01180352 -0.00411278  0.01858739  0.00867375\n",
      " -0.00057918  0.00473292 -0.01770302 -0.00297034 -0.02614985  0.02488803\n",
      "  0.00089011 -0.03362701  0.06842799 -0.02344447 -0.03475047  0.03528022\n",
      "  0.04005126 -0.02161852  0.00854504 -0.00949382 -0.01573088  0.0629274\n",
      " -0.07144789 -0.01344381  0.02168362 -0.03610968  0.02178376  0.03478456\n",
      "  0.00554905  0.007953    0.00069088  0.03417088  0.06354722 -0.01725479\n",
      " -0.02699311  0.0125145  -0.0314359  -0.00247609 -0.00861938 -0.02212103\n",
      " -0.04072793 -0.00649556 -0.00312894  0.02816758  0.03774031 -0.02838133\n",
      " -0.01938999  0.00915989 -0.00878278 -0.00374769  0.0034149   0.00741803\n",
      "  0.01043878  0.0135522   0.03618551 -0.0070763  -0.01953401  0.03860325\n",
      "  0.00437131 -0.00837372 -0.01145847 -0.10436025  0.004392   -0.0040015\n",
      " -0.04009169 -0.00470766  0.00291565  0.01009097 -0.0609153   0.02268517\n",
      "  0.00482721 -0.01994392  0.00276759  0.03777487 -0.03683405  0.0149019\n",
      "  0.06145218 -0.0062139   0.06655079 -0.04081345  0.03324469  0.03965522\n",
      "  0.00308358  0.01141135  0.02534611  0.02825817  0.02427202  0.01762754\n",
      " -0.03634566 -0.01284786  0.02161047  0.00306346 -0.00298665 -0.04527146\n",
      " -0.03158043 -0.03921112  0.01791785  0.01509414 -0.04856787 -0.01984354\n",
      "  0.04390407 -0.01904035 -0.00250565 -0.02138605 -0.04162069  0.04358136\n",
      "  0.00803053 -0.03760525 -0.0236356  -0.0090721  -0.02978443  0.02398712\n",
      " -0.05137154 -0.01903936 -0.02233748 -0.00858681  0.05435843 -0.02170594\n",
      "  0.005146   -0.0828864  -0.04321943  0.02141893 -0.06197877  0.02416568\n",
      "  0.03617856  0.01587071 -0.04012035  0.00503965  0.02293163  0.00887111\n",
      " -0.00146943 -0.02539283  0.03258105  0.03871518 -0.01854109  0.00126943\n",
      "  0.03829912  0.02809279 -0.00512054 -0.01326612 -0.04745703  0.00092726\n",
      " -0.04505374 -0.02119943  0.00451537 -0.00607259  0.06087232 -0.02420947\n",
      " -0.00071469 -0.00818597 -0.01120022 -0.09327588  0.0111973  -0.01372062\n",
      " -0.04863926 -0.01765602 -0.0178547  -0.01200573  0.02225747 -0.00254409\n",
      "  0.05295811 -0.00975106  0.02310317  0.03234234  0.00087778 -0.03922321\n",
      " -0.02472433  0.03279604 -0.04298729  0.01561148  0.03481445 -0.07065743\n",
      "  0.00220205  0.00081649 -0.06020167 -0.00708808 -0.01105241 -0.02468609\n",
      " -0.0104544   0.02293666  0.06937765 -0.02638673 -0.02336775 -0.01496981\n",
      "  0.03962079 -0.0004941  -0.01730855  0.04414056 -0.03424672  0.00054423\n",
      "  0.0271221  -0.03000595  0.03422741 -0.0028922  -0.02405024  0.04881364\n",
      "  0.01061223 -0.00054789 -0.02853985 -0.07340388  0.03570838  0.00321285\n",
      " -0.03749364  0.0521234   0.01234287  0.01635773  0.01192019 -0.00714089\n",
      "  0.00105691  0.02754616  0.01733694  0.00568588  0.00460683  0.02934898\n",
      "  0.02843587  0.00788926  0.02758586 -0.066618   -0.01215857 -0.00944998\n",
      "  0.02031575 -0.02087299 -0.05958611  0.06367255  0.00083937 -0.01351314\n",
      "  0.02230012  0.04957313  0.09020461 -0.06141583 -0.00077031 -0.00605331\n",
      " -0.03725496  0.00364045 -0.03186582  0.01961585 -0.05884274 -0.02822466\n",
      "  0.02302076  0.02785595 -0.00969935 -0.04440434 -0.07816207  0.05379696\n",
      " -0.06031721  0.01154844 -0.04234287 -0.03349581 -0.0287414   0.00298891\n",
      " -0.00831356 -0.02007696 -0.01839698  0.02980913 -0.00595731 -0.01223714\n",
      " -0.02519328  0.00232945 -0.00082956  0.04571408  0.05328804 -0.02763366\n",
      "  0.0466914   0.01607005  0.00510788  0.05156787  0.04832661 -0.02038226\n",
      "  0.00240422 -0.00671411  0.00054297 -0.01915394  0.00752145 -0.0143967\n",
      "  0.01094159  0.00743342 -0.00478665 -0.00123411  0.01908249 -0.00154011\n",
      " -0.04373301 -0.0008895   0.02051591  0.03526215 -0.03366152 -0.04571574\n",
      " -0.01265275 -0.02713697  0.00666556 -0.02332933  0.00452083  0.00750557\n",
      " -0.00839453  0.00851094  0.04380278 -0.01927944 -0.02995498 -0.02465771\n",
      "  0.03885506 -0.01049806 -0.07243816 -0.02493107  0.00599872  0.03702167\n",
      " -0.06500693 -0.04315565  0.03340146  0.05218498 -0.0053999   0.05960568\n",
      "  0.0447174  -0.07019664 -0.00470408  0.01718569  0.02331486 -0.00640077\n",
      " -0.00172019  0.02801421 -0.01549032  0.05301787 -0.08132789 -0.01377207\n",
      "  0.01361903 -0.02586713  0.00202968 -0.07726883 -0.01373881 -0.00313409\n",
      "  0.02760434 -0.00213781  0.04339164 -0.02843585  0.0116072   0.01282908\n",
      "  0.01844763  0.014948    0.02089651 -0.01640357 -0.0034765  -0.00675852\n",
      "  0.05926229  0.00594732 -0.0127148   0.03600679  0.06207711 -0.03112925\n",
      "  0.00905617  0.01262786  0.01627968  0.02786106  0.08324803  0.05193895\n",
      "  0.00103022 -0.01691769  0.02530378  0.01276243  0.00362315 -0.02058573\n",
      " -0.05325094 -0.00376152  0.04076079  0.02543302  0.02688886  0.02902157\n",
      " -0.00393368  0.00837293  0.05206748  0.04345054 -0.06574796 -0.00210809\n",
      "  0.00016399  0.02025381  0.00162469 -0.01657817 -0.03410427  0.01805306\n",
      " -0.02758377  0.00434792 -0.0391471   0.00829357 -0.01912194  0.0183135\n",
      "  0.02868817  0.01149732  0.05903832 -0.00623423  0.05873045  0.02950585\n",
      " -0.02818869 -0.00724504 -0.03106747  0.0460627   0.01325565 -0.02860955\n",
      " -0.00904243 -0.01517264  0.02226174 -0.03054856 -0.02035532 -0.01699876\n",
      "  0.00977171 -0.01139253  0.05163652  0.03001807  0.0173721  -0.02461673\n",
      " -0.01185332  0.05717836  0.04801512  0.03284859 -0.02831043  0.01323789\n",
      " -0.03477735  0.02809094  0.01505843  0.01467619  0.06488941 -0.02375116\n",
      "  0.02565701 -0.02821275  0.01029621 -0.0811808   0.01275939 -0.04894282\n",
      " -0.05263125 -0.01882168  0.04159367 -0.01970641 -0.04031175 -0.03132359\n",
      " -0.04644546 -0.02585487 -0.04162018 -0.00180939  0.02494201  0.02029369\n",
      "  0.028949    0.04448183  0.03642879 -0.02994677  0.02086434  0.00930821\n",
      " -0.01110523 -0.00273082  0.05397506  0.04206118 -0.02704397  0.00149879\n",
      " -0.0083484  -0.01849847 -0.03532531  0.02306529 -0.04107331  0.03135525\n",
      " -0.01320507  0.04223267  0.01956231  0.02389457  0.0081905   0.02394073\n",
      " -0.00421981  0.02511335 -0.01346072  0.00712311  0.00019033  0.03085564\n",
      " -0.02076008  0.00769164  0.02624594 -0.02704179  0.06018383  0.05743017\n",
      " -0.00495134 -0.00089961  0.00017274  0.04413434 -0.06950517 -0.02394901\n",
      " -0.02387921 -0.06087665]\n"
     ]
    }
   ],
   "source": [
    "vector = model2.infer_vector(['brasil', 'you', 'can', 'prevent', 'forest', 'fires'])\n",
    "print(vector)"
   ]
  },
  {
   "cell_type": "code",
   "execution_count": null,
   "metadata": {},
   "outputs": [],
   "source": [
    "ranks = []\n",
    "second_ranks = []\n",
    "for doc_id in range(len(train_corpus2)):\n",
    "    inferred_vector = model2.infer_vector(train_corpus2[doc_id].words)\n",
    "    sims = model2.dv.most_similar([inferred_vector], topn=len(model2.dv))\n",
    "    rank = [docid for docid, sim in sims].index(doc_id)\n",
    "    ranks.append(rank)\n",
    "\n",
    "    second_ranks.append(sims[1])"
   ]
  },
  {
   "cell_type": "code",
   "execution_count": null,
   "metadata": {},
   "outputs": [
    {
     "name": "stdout",
     "output_type": "stream",
     "text": [
      "Counter({0: 3657, 1: 638, 2: 316, 3: 197, 4: 153, 5: 115, 7: 82, 6: 78, 8: 78, 10: 60, 11: 58, 9: 57, 13: 52, 12: 48, 14: 44, 16: 40, 15: 37, 17: 36, 19: 28, 18: 25, 20: 25, 33: 20, 27: 19, 30: 18, 21: 18, 26: 18, 25: 18, 23: 17, 31: 17, 22: 17, 46: 15, 42: 14, 38: 14, 45: 14, 34: 12, 44: 11, 37: 11, 24: 11, 32: 11, 52: 11, 57: 11, 28: 11, 40: 10, 29: 10, 48: 10, 54: 9, 49: 9, 39: 8, 77: 8, 36: 8, 55: 8, 53: 7, 35: 7, 41: 7, 60: 7, 68: 6, 118: 6, 58: 6, 61: 6, 91: 6, 139: 6, 84: 6, 63: 6, 50: 6, 62: 5, 94: 5, 370: 5, 71: 5, 67: 5, 70: 5, 73: 5, 82: 5, 136: 5, 69: 5, 43: 5, 145: 4, 92: 4, 122: 4, 51: 4, 78: 4, 90: 4, 89: 4, 131: 4, 72: 4, 80: 4, 105: 4, 126: 4, 76: 4, 66: 4, 64: 4, 74: 4, 275: 3, 204: 3, 173: 3, 185: 3, 187: 3, 225: 3, 116: 3, 100: 3, 148: 3, 96: 3, 183: 3, 350: 3, 158: 3, 217: 3, 107: 3, 178: 3, 56: 3, 97: 3, 86: 3, 85: 3, 87: 3, 490: 3, 162: 3, 279: 3, 47: 3, 110: 3, 88: 3, 253: 3, 81: 3, 170: 3, 154: 3, 75: 3, 128: 3, 172: 3, 182: 2, 290: 2, 259: 2, 166: 2, 99: 2, 109: 2, 263: 2, 104: 2, 312: 2, 226: 2, 119: 2, 245: 2, 112: 2, 146: 2, 83: 2, 95: 2, 411: 2, 453: 2, 93: 2, 266: 2, 686: 2, 254: 2, 207: 2, 142: 2, 283: 2, 248: 2, 647: 2, 563: 2, 1366: 2, 134: 2, 137: 2, 235: 2, 164: 2, 124: 2, 288: 2, 98: 2, 138: 2, 150: 2, 507: 2, 2647: 2, 59: 2, 424: 2, 113: 2, 345: 2, 284: 2, 228: 2, 117: 2, 278: 2, 197: 2, 212: 2, 149: 2, 1759: 2, 152: 2, 140: 2, 65: 2, 332: 2, 176: 2, 261: 2, 721: 2, 195: 2, 560: 2, 210: 2, 6654: 1, 1725: 1, 276: 1, 1451: 1, 1256: 1, 240: 1, 3102: 1, 494: 1, 379: 1, 2240: 1, 1407: 1, 1162: 1, 3093: 1, 209: 1, 1667: 1, 295: 1, 446: 1, 297: 1, 1259: 1, 362: 1, 1791: 1, 193: 1, 310: 1, 1805: 1, 188: 1, 360: 1, 640: 1, 428: 1, 1022: 1, 633: 1, 950: 1, 1950: 1, 454: 1, 2341: 1, 376: 1, 791: 1, 1452: 1, 300: 1, 114: 1, 853: 1, 867: 1, 2130: 1, 2974: 1, 1248: 1, 405: 1, 1787: 1, 184: 1, 231: 1, 285: 1, 767: 1, 203: 1, 1859: 1, 340: 1, 590: 1, 1315: 1, 1492: 1, 554: 1, 3023: 1, 2960: 1, 555: 1, 1015: 1, 514: 1, 775: 1, 2135: 1, 101: 1, 1045: 1, 155: 1, 811: 1, 2616: 1, 161: 1, 1662: 1, 3469: 1, 316: 1, 2100: 1, 1070: 1, 387: 1, 545: 1, 467: 1, 2210: 1, 230: 1, 227: 1, 342: 1, 341: 1, 256: 1, 1624: 1, 236: 1, 130: 1, 3842: 1, 1406: 1, 800: 1, 392: 1, 1118: 1, 683: 1, 4285: 1, 419: 1, 412: 1, 1083: 1, 351: 1, 238: 1, 696: 1, 1318: 1, 1995: 1, 843: 1, 1523: 1, 486: 1, 229: 1, 1021: 1, 566: 1, 1396: 1, 111: 1, 179: 1, 274: 1, 801: 1, 2409: 1, 565: 1, 2994: 1, 384: 1, 262: 1, 1611: 1, 3272: 1, 3737: 1, 357: 1, 451: 1, 716: 1, 2775: 1, 333: 1, 3850: 1, 439: 1, 143: 1, 653: 1, 556: 1, 103: 1, 472: 1, 169: 1, 954: 1, 213: 1, 220: 1, 607: 1, 2975: 1, 749: 1, 336: 1, 788: 1, 2305: 1, 1303: 1, 780: 1, 2560: 1, 403: 1, 2199: 1, 106: 1, 268: 1, 3733: 1, 1737: 1, 221: 1, 269: 1, 4042: 1, 389: 1, 361: 1, 3459: 1, 1192: 1, 3623: 1, 366: 1, 2421: 1, 2897: 1, 258: 1, 1218: 1, 1085: 1, 1629: 1, 115: 1, 2361: 1, 141: 1, 524: 1, 1891: 1, 108: 1, 4270: 1, 413: 1, 528: 1, 202: 1, 680: 1, 214: 1, 466: 1, 1994: 1, 1771: 1, 1463: 1, 132: 1, 1385: 1, 460: 1, 1944: 1, 1268: 1, 1342: 1, 711: 1, 186: 1, 165: 1, 1568: 1, 594: 1, 201: 1, 1186: 1, 171: 1, 200: 1, 2201: 1, 147: 1, 120: 1, 1847: 1, 1206: 1, 626: 1, 2052: 1, 432: 1, 324: 1, 1387: 1, 882: 1, 500: 1, 706: 1, 794: 1, 422: 1, 1743: 1, 241: 1, 1590: 1, 2856: 1, 408: 1, 493: 1, 250: 1, 2797: 1, 354: 1, 602: 1, 215: 1, 3177: 1, 611: 1, 129: 1, 2208: 1, 208: 1, 322: 1, 1643: 1, 153: 1, 303: 1, 1146: 1, 707: 1, 2881: 1, 433: 1, 317: 1, 313: 1, 3418: 1, 510: 1, 3111: 1, 157: 1, 2621: 1, 371: 1, 1459: 1, 3971: 1, 575: 1, 1474: 1, 1885: 1, 335: 1, 133: 1, 505: 1, 302: 1, 102: 1, 1269: 1, 4224: 1, 206: 1, 1861: 1, 480: 1, 265: 1, 5055: 1, 4765: 1, 328: 1, 1273: 1, 1171: 1, 410: 1, 445: 1, 249: 1, 1249: 1, 167: 1, 326: 1, 429: 1, 294: 1, 426: 1, 864: 1, 125: 1, 358: 1, 596: 1, 321: 1, 1048: 1, 3034: 1, 1288: 1, 2405: 1, 1777: 1, 364: 1, 224: 1, 421: 1, 2924: 1, 597: 1, 1039: 1, 346: 1, 175: 1, 552: 1, 168: 1, 1213: 1, 856: 1, 625: 1, 1819: 1, 2541: 1, 282: 1, 255: 1, 1881: 1, 741: 1, 3504: 1, 519: 1, 924: 1, 2609: 1, 782: 1})\n"
     ]
    }
   ],
   "source": [
    "counter = collections.Counter(ranks)\n",
    "print(counter)"
   ]
  },
  {
   "cell_type": "code",
   "execution_count": null,
   "metadata": {},
   "outputs": [
    {
     "name": "stdout",
     "output_type": "stream",
     "text": [
      "Test Document (1354): «brasil órfão covid cada minutos pensamos crianças afetadas oposto»\n",
      "\n",
      "SIMILAR/DISSIMILAR DOCS PER MODEL Doc2Vec(dm/m,d512,n5,w5,mc2,s0.001,t3):\n",
      "\n",
      "MOST (4025, 0.7089657187461853): «são paulo recebe mil reais cada registro morte covid»\n",
      "\n",
      "MEDIAN (611, 0.3078049123287201): «lula gleisi gaviões fiel antes protestos domingo»\n",
      "\n",
      "LEAST (3428, -0.5238012671470642): «lula quer novo encontro alckmin nesta semana»\n",
      "\n"
     ]
    }
   ],
   "source": [
    "# Pick a random document from the test corpus and infer a vector from the model\n",
    "doc_id = random.randint(0, len(test_corpus2) - 1)\n",
    "inferred_vector = model2.infer_vector(test_corpus2[doc_id])\n",
    "sims = model2.dv.most_similar([inferred_vector], topn=len(model2.dv))\n",
    "\n",
    "# Compare and print the most/median/least similar documents from the train corpus\n",
    "print('Test Document ({}): «{}»\\n'.format(doc_id, ' '.join(test_corpus2[doc_id])))\n",
    "#print('Document ({}): «{}»\\n'.format(doc_id, ' '.join(train_corpus[doc_id].words)))\n",
    "print(u'SIMILAR/DISSIMILAR DOCS PER MODEL %s:\\n' % model2)\n",
    "for label, index in [('MOST', 0), ('MEDIAN', len(sims)//2), ('LEAST', len(sims) - 1)]:\n",
    "    print(u'%s %s: «%s»\\n' % (label, sims[index], ' '.join(train_corpus2[sims[index][0]].words)))\n",
    "    vector = model2.infer_vector(['only', 'you', 'can', 'prevent', 'forest', 'fires'])"
   ]
  }
 ],
 "metadata": {
  "interpreter": {
   "hash": "b3ba2566441a7c06988d0923437866b63cedc61552a5af99d1f4fb67d367b25f"
  },
  "kernelspec": {
   "display_name": "Python 3.9.7 ('base')",
   "language": "python",
   "name": "python3"
  },
  "language_info": {
   "codemirror_mode": {
    "name": "ipython",
    "version": 3
   },
   "file_extension": ".py",
   "mimetype": "text/x-python",
   "name": "python",
   "nbconvert_exporter": "python",
   "pygments_lexer": "ipython3",
   "version": "3.9.7"
  },
  "orig_nbformat": 4
 },
 "nbformat": 4,
 "nbformat_minor": 2
}
